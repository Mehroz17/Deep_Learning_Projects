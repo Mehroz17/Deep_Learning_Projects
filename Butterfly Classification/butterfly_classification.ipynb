{
 "cells": [
  {
   "cell_type": "markdown",
   "metadata": {},
   "source": [
    "<h1>Buttefly Classification </h1>\n",
    "it is the dataset of the butterflies from kaggle has aroung 6.5k train images. There labels are in the csv file having 2 columns image id and butterfly name"
   ]
  },
  {
   "cell_type": "code",
   "execution_count": 1,
   "metadata": {},
   "outputs": [],
   "source": [
    "# some libraries \n",
    "import os \n",
    "import numpy as np\n",
    "import pandas as pd\n",
    "import shutil\n"
   ]
  },
  {
   "cell_type": "code",
   "execution_count": 2,
   "metadata": {},
   "outputs": [
    {
     "data": {
      "text/html": [
       "<div>\n",
       "<style scoped>\n",
       "    .dataframe tbody tr th:only-of-type {\n",
       "        vertical-align: middle;\n",
       "    }\n",
       "\n",
       "    .dataframe tbody tr th {\n",
       "        vertical-align: top;\n",
       "    }\n",
       "\n",
       "    .dataframe thead th {\n",
       "        text-align: right;\n",
       "    }\n",
       "</style>\n",
       "<table border=\"1\" class=\"dataframe\">\n",
       "  <thead>\n",
       "    <tr style=\"text-align: right;\">\n",
       "      <th></th>\n",
       "      <th>filename</th>\n",
       "      <th>label</th>\n",
       "    </tr>\n",
       "  </thead>\n",
       "  <tbody>\n",
       "    <tr>\n",
       "      <th>0</th>\n",
       "      <td>Image_1.jpg</td>\n",
       "      <td>SOUTHERN DOGFACE</td>\n",
       "    </tr>\n",
       "    <tr>\n",
       "      <th>1</th>\n",
       "      <td>Image_2.jpg</td>\n",
       "      <td>ADONIS</td>\n",
       "    </tr>\n",
       "    <tr>\n",
       "      <th>2</th>\n",
       "      <td>Image_3.jpg</td>\n",
       "      <td>BROWN SIPROETA</td>\n",
       "    </tr>\n",
       "    <tr>\n",
       "      <th>3</th>\n",
       "      <td>Image_4.jpg</td>\n",
       "      <td>MONARCH</td>\n",
       "    </tr>\n",
       "    <tr>\n",
       "      <th>4</th>\n",
       "      <td>Image_5.jpg</td>\n",
       "      <td>GREEN CELLED CATTLEHEART</td>\n",
       "    </tr>\n",
       "    <tr>\n",
       "      <th>...</th>\n",
       "      <td>...</td>\n",
       "      <td>...</td>\n",
       "    </tr>\n",
       "    <tr>\n",
       "      <th>6494</th>\n",
       "      <td>Image_6495.jpg</td>\n",
       "      <td>MANGROVE SKIPPER</td>\n",
       "    </tr>\n",
       "    <tr>\n",
       "      <th>6495</th>\n",
       "      <td>Image_6496.jpg</td>\n",
       "      <td>MOURNING CLOAK</td>\n",
       "    </tr>\n",
       "    <tr>\n",
       "      <th>6496</th>\n",
       "      <td>Image_6497.jpg</td>\n",
       "      <td>APPOLLO</td>\n",
       "    </tr>\n",
       "    <tr>\n",
       "      <th>6497</th>\n",
       "      <td>Image_6498.jpg</td>\n",
       "      <td>ELBOWED PIERROT</td>\n",
       "    </tr>\n",
       "    <tr>\n",
       "      <th>6498</th>\n",
       "      <td>Image_6499.jpg</td>\n",
       "      <td>ATALA</td>\n",
       "    </tr>\n",
       "  </tbody>\n",
       "</table>\n",
       "<p>6499 rows × 2 columns</p>\n",
       "</div>"
      ],
      "text/plain": [
       "            filename                     label\n",
       "0        Image_1.jpg          SOUTHERN DOGFACE\n",
       "1        Image_2.jpg                    ADONIS\n",
       "2        Image_3.jpg            BROWN SIPROETA\n",
       "3        Image_4.jpg                   MONARCH\n",
       "4        Image_5.jpg  GREEN CELLED CATTLEHEART\n",
       "...              ...                       ...\n",
       "6494  Image_6495.jpg          MANGROVE SKIPPER\n",
       "6495  Image_6496.jpg            MOURNING CLOAK\n",
       "6496  Image_6497.jpg                   APPOLLO\n",
       "6497  Image_6498.jpg           ELBOWED PIERROT\n",
       "6498  Image_6499.jpg                     ATALA\n",
       "\n",
       "[6499 rows x 2 columns]"
      ]
     },
     "execution_count": 2,
     "metadata": {},
     "output_type": "execute_result"
    }
   ],
   "source": [
    "# importing the csv file to see it\n",
    "label_file = pd.read_csv(\"Raw_Data/Training_set.csv\")\n",
    "label_file"
   ]
  },
  {
   "cell_type": "code",
   "execution_count": 22,
   "metadata": {},
   "outputs": [
    {
     "name": "stdout",
     "output_type": "stream",
     "text": [
      "['SOUTHERN DOGFACE' 'ADONIS' 'BROWN SIPROETA' 'MONARCH'\n",
      " 'GREEN CELLED CATTLEHEART' 'CAIRNS BIRDWING' 'EASTERN DAPPLE WHITE'\n",
      " 'RED POSTMAN' 'MANGROVE SKIPPER' 'BLACK HAIRSTREAK' 'CABBAGE WHITE'\n",
      " 'RED ADMIRAL' 'PAINTED LADY' 'PAPER KITE' 'SOOTYWING' 'PINE WHITE'\n",
      " 'PEACOCK' 'CHECQUERED SKIPPER' 'JULIA' 'COMMON WOOD-NYMPH' 'BLUE MORPHO'\n",
      " 'CLOUDED SULPHUR' 'STRAITED QUEEN' 'ORANGE OAKLEAF' 'PURPLISH COPPER'\n",
      " 'ATALA' 'IPHICLUS SISTER' 'DANAID EGGFLY' 'LARGE MARBLE'\n",
      " 'PIPEVINE SWALLOW' 'BLUE SPOTTED CROW' 'RED CRACKER' 'QUESTION MARK'\n",
      " 'CRIMSON PATCH' 'BANDED PEACOCK' 'SCARCE SWALLOW' 'COPPER TAIL'\n",
      " 'GREAT JAY' 'INDRA SWALLOW' 'VICEROY' 'MALACHITE' 'APPOLLO'\n",
      " 'TWO BARRED FLASHER' 'MOURNING CLOAK' 'TROPICAL LEAFWING' 'POPINJAY'\n",
      " 'ORANGE TIP' 'GOLD BANDED' 'BECKERS WHITE' 'RED SPOTTED PURPLE'\n",
      " 'MILBERTS TORTOISESHELL' 'SILVER SPOT SKIPPER' 'AMERICAN SNOOT' 'AN 88'\n",
      " 'ULYSES' 'COMMON BANDED AWL' 'CRECENT' 'METALMARK' 'SLEEPY ORANGE'\n",
      " 'PURPLE HAIRSTREAK' 'ELBOWED PIERROT' 'GREAT EGGFLY' 'ORCHARD SWALLOW'\n",
      " 'ZEBRA LONG WING' 'WOOD SATYR' 'MESTRA' 'EASTERN PINE ELFIN'\n",
      " 'EASTERN COMA' 'YELLOW SWALLOW TAIL' 'CLEOPATRA' 'GREY HAIRSTREAK'\n",
      " 'BANDED ORANGE HELICONIAN' 'AFRICAN GIANT SWALLOWTAIL' 'CHESTNUT'\n",
      " 'CLODIUS PARNASSIAN']\n",
      "Total Labels / classes:  75\n"
     ]
    }
   ],
   "source": [
    "# printing the unique names from the csv as the labels\n",
    "labels = label_file['label'].unique()\n",
    "print(labels)\n",
    "print(\"Total Labels / classes: \",len(labels))"
   ]
  },
  {
   "cell_type": "code",
   "execution_count": 33,
   "metadata": {},
   "outputs": [
    {
     "name": "stdout",
     "output_type": "stream",
     "text": [
      "MOURNING CLOAK    131\n",
      "SLEEPY ORANGE     107\n",
      "ATALA             100\n",
      "BROWN SIPROETA     99\n",
      "CRECENT            97\n",
      "                 ... \n",
      "AMERICAN SNOOT     74\n",
      "GOLD BANDED        73\n",
      "MALACHITE          73\n",
      "CRIMSON PATCH      72\n",
      "WOOD SATYR         71\n",
      "Name: label, Length: 75, dtype: int64\n"
     ]
    }
   ],
   "source": [
    "print(['label'].value_counts())"
   ]
  },
  {
   "cell_type": "markdown",
   "metadata": {},
   "source": [
    "I am going to make folders for each class for better work \n",
    "<br> As we have 6499 total image so 20%  will go for validation which are 1300"
   ]
  },
  {
   "cell_type": "code",
   "execution_count": 150,
   "metadata": {},
   "outputs": [],
   "source": [
    "# list of the training file and labels\n",
    "training_file = list(label_file['filename'][:5199])\n",
    "training_lable = list(label_file['label'][:5199])"
   ]
  },
  {
   "cell_type": "code",
   "execution_count": 151,
   "metadata": {},
   "outputs": [],
   "source": [
    "# lists of the validation file and labels\n",
    "validation_file = list(label_file['filename'][5199:])\n",
    "validation_label = list(label_file['label'][5199:])"
   ]
  },
  {
   "cell_type": "code",
   "execution_count": 156,
   "metadata": {},
   "outputs": [],
   "source": [
    "# making folder for training \n",
    "train_dir = os.mkdir(\"Train Dir\")\n",
    "for i in labels:\n",
    "    os.mkdir(\"Train Dir/\"+i) # all the folder have been created\n",
    "\n",
    "# folder for validatio\n",
    "val_dir = os.mkdir(\"Val Dir\")\n",
    "for i in labels:\n",
    "    os.mkdir(\"Val Dir/\"+i) # all the folder have been created\n"
   ]
  },
  {
   "cell_type": "code",
   "execution_count": 157,
   "metadata": {},
   "outputs": [],
   "source": [
    "# Shifting the images \n",
    "source_dir = \"Raw_Data/train\"\n",
    "des_dir = \"Train Dir\"\n",
    "des_2 = \"Val Dir\"\n",
    "for i in range(0 ,len(training_file) ):\n",
    "    des_dir2 = os.path.join(des_dir , training_lable[i],training_file[i])\n",
    "    sour_path2 = os.path.join(source_dir,training_file[i])\n",
    "    shutil.copy(sour_path2 , des_dir2)\n",
    "    \n",
    "    "
   ]
  },
  {
   "cell_type": "code",
   "execution_count": 158,
   "metadata": {},
   "outputs": [],
   "source": [
    "for i in range(0 ,len(validation_file) ):\n",
    "    des_dir2 = os.path.join(des_2 , validation_label[i],validation_file[i])\n",
    "    sour_path2 = os.path.join(source_dir,validation_file[i])\n",
    "    shutil.copy(sour_path2 , des_dir2)\n",
    "    "
   ]
  },
  {
   "cell_type": "code",
   "execution_count": 123,
   "metadata": {},
   "outputs": [],
   "source": [
    "shutil.rmtree(\"Train Dir\")"
   ]
  },
  {
   "cell_type": "code",
   "execution_count": 160,
   "metadata": {},
   "outputs": [
    {
     "name": "stdout",
     "output_type": "stream",
     "text": [
      "in  Train Dir\\ADONIS number of images  79\n",
      "in  Train Dir\\AFRICAN GIANT SWALLOWTAIL number of images  65\n",
      "in  Train Dir\\AMERICAN SNOOT number of images  60\n",
      "in  Train Dir\\AN 88 number of images  69\n",
      "in  Train Dir\\APPOLLO number of images  75\n",
      "in  Train Dir\\ATALA number of images  80\n",
      "in  Train Dir\\BANDED ORANGE HELICONIAN number of images  73\n",
      "in  Train Dir\\BANDED PEACOCK number of images  71\n",
      "in  Train Dir\\BECKERS WHITE number of images  64\n",
      "in  Train Dir\\BLACK HAIRSTREAK number of images  69\n",
      "in  Train Dir\\BLUE MORPHO number of images  62\n",
      "in  Train Dir\\BLUE SPOTTED CROW number of images  63\n",
      "in  Train Dir\\BROWN SIPROETA number of images  76\n",
      "in  Train Dir\\CABBAGE WHITE number of images  73\n",
      "in  Train Dir\\CAIRNS BIRDWING number of images  66\n",
      "in  Train Dir\\CHECQUERED SKIPPER number of images  72\n",
      "in  Train Dir\\CHESTNUT number of images  68\n",
      "in  Train Dir\\CLEOPATRA number of images  64\n",
      "in  Train Dir\\CLODIUS PARNASSIAN number of images  74\n",
      "in  Train Dir\\CLOUDED SULPHUR number of images  67\n",
      "in  Train Dir\\COMMON BANDED AWL number of images  73\n",
      "in  Train Dir\\COMMON WOOD-NYMPH number of images  76\n",
      "in  Train Dir\\COPPER TAIL number of images  73\n",
      "in  Train Dir\\CRECENT number of images  84\n",
      "in  Train Dir\\CRIMSON PATCH number of images  49\n",
      "in  Train Dir\\DANAID EGGFLY number of images  72\n",
      "in  Train Dir\\EASTERN COMA number of images  76\n",
      "in  Train Dir\\EASTERN DAPPLE WHITE number of images  72\n",
      "in  Train Dir\\EASTERN PINE ELFIN number of images  77\n",
      "in  Train Dir\\ELBOWED PIERROT number of images  68\n",
      "in  Train Dir\\GOLD BANDED number of images  56\n",
      "in  Train Dir\\GREAT EGGFLY number of images  62\n",
      "in  Train Dir\\GREAT JAY number of images  72\n",
      "in  Train Dir\\GREEN CELLED CATTLEHEART number of images  75\n",
      "in  Train Dir\\GREY HAIRSTREAK number of images  72\n",
      "in  Train Dir\\INDRA SWALLOW number of images  64\n",
      "in  Train Dir\\IPHICLUS SISTER number of images  73\n",
      "in  Train Dir\\JULIA number of images  65\n",
      "in  Train Dir\\LARGE MARBLE number of images  73\n",
      "in  Train Dir\\MALACHITE number of images  58\n",
      "in  Train Dir\\MANGROVE SKIPPER number of images  72\n",
      "in  Train Dir\\MESTRA number of images  67\n",
      "in  Train Dir\\METALMARK number of images  61\n",
      "in  Train Dir\\MILBERTS TORTOISESHELL number of images  74\n",
      "in  Train Dir\\MONARCH number of images  79\n",
      "in  Train Dir\\MOURNING CLOAK number of images  107\n",
      "in  Train Dir\\ORANGE OAKLEAF number of images  69\n",
      "in  Train Dir\\ORANGE TIP number of images  82\n",
      "in  Train Dir\\ORCHARD SWALLOW number of images  63\n",
      "in  Train Dir\\PAINTED LADY number of images  62\n",
      "in  Train Dir\\PAPER KITE number of images  72\n",
      "in  Train Dir\\PEACOCK number of images  66\n",
      "in  Train Dir\\PINE WHITE number of images  70\n",
      "in  Train Dir\\PIPEVINE SWALLOW number of images  68\n",
      "in  Train Dir\\POPINJAY number of images  69\n",
      "in  Train Dir\\PURPLE HAIRSTREAK number of images  61\n",
      "in  Train Dir\\PURPLISH COPPER number of images  72\n",
      "in  Train Dir\\QUESTION MARK number of images  62\n",
      "in  Train Dir\\RED ADMIRAL number of images  65\n",
      "in  Train Dir\\RED CRACKER number of images  75\n",
      "in  Train Dir\\RED POSTMAN number of images  74\n",
      "in  Train Dir\\RED SPOTTED PURPLE number of images  68\n",
      "in  Train Dir\\SCARCE SWALLOW number of images  78\n",
      "in  Train Dir\\SILVER SPOT SKIPPER number of images  64\n",
      "in  Train Dir\\SLEEPY ORANGE number of images  84\n",
      "in  Train Dir\\SOOTYWING number of images  65\n",
      "in  Train Dir\\SOUTHERN DOGFACE number of images  66\n",
      "in  Train Dir\\STRAITED QUEEN number of images  72\n",
      "in  Train Dir\\TROPICAL LEAFWING number of images  72\n",
      "in  Train Dir\\TWO BARRED FLASHER number of images  58\n",
      "in  Train Dir\\ULYSES number of images  59\n",
      "in  Train Dir\\VICEROY number of images  68\n",
      "in  Train Dir\\WOOD SATYR number of images  60\n",
      "in  Train Dir\\YELLOW SWALLOW TAIL number of images  57\n",
      "in  Train Dir\\ZEBRA LONG WING number of images  58\n"
     ]
    }
   ],
   "source": [
    "# checking the number of images in each folder\n",
    "sub_val = [f.path for f in os.scandir(\"Train Dir\") if f.is_dir()]\n",
    "for s in sub_val:\n",
    "    image_count = len([f for f in os.listdir(s)])\n",
    "    print(\"in \",s ,\"number of images \",image_count)"
   ]
  },
  {
   "cell_type": "markdown",
   "metadata": {},
   "source": [
    "<h1>Images are stored in respected folders </h1>\n",
    "Now it is time to preprocess them uising imagedatagenerator"
   ]
  },
  {
   "cell_type": "code",
   "execution_count": 3,
   "metadata": {},
   "outputs": [],
   "source": [
    "from keras.preprocessing.image import ImageDataGenerator\n",
    "from keras.models import Sequential\n",
    "from keras.layers import Conv2D,MaxPooling2D,Dense,Flatten,Dropout\n",
    "from keras import optimizers \n",
    "from keras.constraints import maxnorm\n"
   ]
  },
  {
   "cell_type": "code",
   "execution_count": 4,
   "metadata": {},
   "outputs": [],
   "source": [
    "base_train_dir = \"Train Dir\"\n",
    "base_val_dir = \"Val Dir\""
   ]
  },
  {
   "cell_type": "code",
   "execution_count": 5,
   "metadata": {},
   "outputs": [
    {
     "name": "stdout",
     "output_type": "stream",
     "text": [
      "Found 5199 images belonging to 75 classes.\n",
      "Found 1300 images belonging to 75 classes.\n"
     ]
    }
   ],
   "source": [
    "train_datagen = ImageDataGenerator(rescale=1/255)\n",
    "\n",
    "train_generator = train_datagen.flow_from_directory(\n",
    "    base_train_dir,\n",
    "    target_size=(150,150),\n",
    "    batch_size=32,\n",
    "    class_mode=\"categorical\"\n",
    ")\n",
    "\n",
    "\n",
    "\n",
    "val_datagen = ImageDataGenerator(rescale=1/255)\n",
    "\n",
    "val_generator = val_datagen.flow_from_directory(\n",
    "    base_val_dir,\n",
    "    target_size=(150,150),\n",
    "    batch_size=32,\n",
    "    class_mode=\"categorical\"\n",
    ")\n",
    "\n"
   ]
  },
  {
   "cell_type": "markdown",
   "metadata": {},
   "source": [
    "Making Simple CNN Model"
   ]
  },
  {
   "cell_type": "code",
   "execution_count": 6,
   "metadata": {},
   "outputs": [],
   "source": [
    "model= Sequential()\n",
    "model.add(Conv2D(32,(3,3),activation = 'relu',input_shape = (150,150,3)))\n",
    "model.add(MaxPooling2D((2,2)))\n",
    "model.add(Conv2D(64,(3,3),activation = 'relu'))\n",
    "model.add(MaxPooling2D((2,2)))\n",
    "model.add(Conv2D(128,(3,3),activation = 'relu'))\n",
    "model.add(MaxPooling2D((2,2)))\n",
    "model.add(Flatten())\n",
    "model.add(Dense(512,activation = 'relu'))\n",
    "model.add(Dropout(0.5))\n",
    "model.add(Dense(100,activation='relu'))\n",
    "model.add(Dense(75,activation = 'softmax'))"
   ]
  },
  {
   "cell_type": "code",
   "execution_count": 7,
   "metadata": {},
   "outputs": [
    {
     "name": "stdout",
     "output_type": "stream",
     "text": [
      "Model: \"sequential\"\n",
      "_________________________________________________________________\n",
      " Layer (type)                Output Shape              Param #   \n",
      "=================================================================\n",
      " conv2d (Conv2D)             (None, 148, 148, 32)      896       \n",
      "                                                                 \n",
      " max_pooling2d (MaxPooling2D  (None, 74, 74, 32)       0         \n",
      " )                                                               \n",
      "                                                                 \n",
      " conv2d_1 (Conv2D)           (None, 72, 72, 64)        18496     \n",
      "                                                                 \n",
      " max_pooling2d_1 (MaxPooling  (None, 36, 36, 64)       0         \n",
      " 2D)                                                             \n",
      "                                                                 \n",
      " conv2d_2 (Conv2D)           (None, 34, 34, 128)       73856     \n",
      "                                                                 \n",
      " max_pooling2d_2 (MaxPooling  (None, 17, 17, 128)      0         \n",
      " 2D)                                                             \n",
      "                                                                 \n",
      " flatten (Flatten)           (None, 36992)             0         \n",
      "                                                                 \n",
      " dense (Dense)               (None, 512)               18940416  \n",
      "                                                                 \n",
      " dropout (Dropout)           (None, 512)               0         \n",
      "                                                                 \n",
      " dense_1 (Dense)             (None, 100)               51300     \n",
      "                                                                 \n",
      " dense_2 (Dense)             (None, 75)                7575      \n",
      "                                                                 \n",
      "=================================================================\n",
      "Total params: 19,092,539\n",
      "Trainable params: 19,092,539\n",
      "Non-trainable params: 0\n",
      "_________________________________________________________________\n"
     ]
    }
   ],
   "source": [
    "model.summary()"
   ]
  },
  {
   "cell_type": "code",
   "execution_count": 34,
   "metadata": {},
   "outputs": [],
   "source": [
    "# compiling the model\n",
    "model.compile(loss = \"categorical_crossentropy\",optimizer = optimizers.Adam(learning_rate=0.001),metrics= ['acc'])\n"
   ]
  },
  {
   "cell_type": "code",
   "execution_count": 35,
   "metadata": {},
   "outputs": [
    {
     "name": "stdout",
     "output_type": "stream",
     "text": [
      "Epoch 1/30\n",
      "163/163 [==============================] - 163s 993ms/step - loss: 4.1999 - acc: 0.0321 - val_loss: 3.7517 - val_acc: 0.1100\n",
      "Epoch 2/30\n",
      "163/163 [==============================] - 127s 774ms/step - loss: 3.0349 - acc: 0.2250 - val_loss: 2.3598 - val_acc: 0.3862\n",
      "Epoch 3/30\n",
      "163/163 [==============================] - 130s 800ms/step - loss: 2.0404 - acc: 0.4453 - val_loss: 1.9927 - val_acc: 0.4546\n",
      "Epoch 4/30\n",
      "163/163 [==============================] - 134s 820ms/step - loss: 1.4591 - acc: 0.5947 - val_loss: 1.7376 - val_acc: 0.5092\n",
      "Epoch 5/30\n",
      "163/163 [==============================] - 129s 788ms/step - loss: 0.9615 - acc: 0.7226 - val_loss: 1.7734 - val_acc: 0.5546\n",
      "Epoch 6/30\n",
      "163/163 [==============================] - 130s 798ms/step - loss: 0.6600 - acc: 0.8019 - val_loss: 1.8498 - val_acc: 0.5608\n",
      "Epoch 7/30\n",
      "163/163 [==============================] - 129s 791ms/step - loss: 0.4687 - acc: 0.8584 - val_loss: 1.9585 - val_acc: 0.5608\n",
      "Epoch 8/30\n",
      "163/163 [==============================] - 130s 799ms/step - loss: 0.3365 - acc: 0.8923 - val_loss: 1.8664 - val_acc: 0.5723\n",
      "Epoch 9/30\n",
      "163/163 [==============================] - 162s 995ms/step - loss: 0.2974 - acc: 0.9102 - val_loss: 2.0118 - val_acc: 0.5723\n",
      "Epoch 10/30\n",
      "163/163 [==============================] - 182s 1s/step - loss: 0.2285 - acc: 0.9350 - val_loss: 1.9391 - val_acc: 0.5769\n",
      "Epoch 11/30\n",
      "163/163 [==============================] - 147s 900ms/step - loss: 0.1957 - acc: 0.9396 - val_loss: 2.0325 - val_acc: 0.5685\n",
      "Epoch 12/30\n",
      "163/163 [==============================] - 135s 828ms/step - loss: 0.1932 - acc: 0.9436 - val_loss: 2.1875 - val_acc: 0.5754\n",
      "Epoch 13/30\n",
      "163/163 [==============================] - 149s 916ms/step - loss: 0.1862 - acc: 0.9473 - val_loss: 2.2360 - val_acc: 0.5431\n",
      "Epoch 14/30\n",
      "163/163 [==============================] - 135s 829ms/step - loss: 0.1564 - acc: 0.9508 - val_loss: 2.2740 - val_acc: 0.5700\n",
      "Epoch 15/30\n",
      "163/163 [==============================] - 146s 899ms/step - loss: 0.1441 - acc: 0.9561 - val_loss: 2.3652 - val_acc: 0.5631\n",
      "Epoch 16/30\n",
      "163/163 [==============================] - 137s 838ms/step - loss: 0.1504 - acc: 0.9619 - val_loss: 2.4814 - val_acc: 0.5600\n",
      "Epoch 17/30\n",
      "163/163 [==============================] - 155s 953ms/step - loss: 0.1269 - acc: 0.9642 - val_loss: 2.2883 - val_acc: 0.5723\n",
      "Epoch 18/30\n",
      "163/163 [==============================] - 157s 964ms/step - loss: 0.1028 - acc: 0.9706 - val_loss: 2.2707 - val_acc: 0.5892\n",
      "Epoch 19/30\n",
      "163/163 [==============================] - 174s 1s/step - loss: 0.0982 - acc: 0.9719 - val_loss: 2.3230 - val_acc: 0.5892\n",
      "Epoch 20/30\n",
      "163/163 [==============================] - 147s 904ms/step - loss: 0.1008 - acc: 0.9700 - val_loss: 2.2236 - val_acc: 0.5923\n",
      "Epoch 21/30\n",
      "163/163 [==============================] - 129s 787ms/step - loss: 0.1044 - acc: 0.9729 - val_loss: 2.4004 - val_acc: 0.5669\n",
      "Epoch 22/30\n",
      "163/163 [==============================] - 124s 763ms/step - loss: 0.0904 - acc: 0.9710 - val_loss: 2.4822 - val_acc: 0.5546\n",
      "Epoch 23/30\n",
      "163/163 [==============================] - 134s 823ms/step - loss: 0.1051 - acc: 0.9721 - val_loss: 2.3432 - val_acc: 0.5808\n",
      "Epoch 24/30\n",
      "163/163 [==============================] - 135s 829ms/step - loss: 0.0928 - acc: 0.9729 - val_loss: 2.5930 - val_acc: 0.5500\n",
      "Epoch 25/30\n",
      "163/163 [==============================] - 137s 838ms/step - loss: 0.0920 - acc: 0.9731 - val_loss: 2.5756 - val_acc: 0.5769\n",
      "Epoch 26/30\n",
      "163/163 [==============================] - 136s 832ms/step - loss: 0.0966 - acc: 0.9754 - val_loss: 2.3390 - val_acc: 0.6054\n",
      "Epoch 27/30\n",
      "163/163 [==============================] - 138s 846ms/step - loss: 0.0809 - acc: 0.9767 - val_loss: 2.5195 - val_acc: 0.5900\n",
      "Epoch 28/30\n",
      "163/163 [==============================] - 136s 837ms/step - loss: 0.0633 - acc: 0.9813 - val_loss: 2.7484 - val_acc: 0.5808\n",
      "Epoch 29/30\n",
      "163/163 [==============================] - 139s 854ms/step - loss: 0.0832 - acc: 0.9777 - val_loss: 3.0217 - val_acc: 0.5223\n",
      "Epoch 30/30\n",
      "163/163 [==============================] - 139s 850ms/step - loss: 0.0801 - acc: 0.9771 - val_loss: 2.5261 - val_acc: 0.5792\n"
     ]
    }
   ],
   "source": [
    "history = model.fit(train_generator,\n",
    "                    steps_per_epoch=len(train_generator),\n",
    "                    epochs = 30,\n",
    "                    validation_data = val_generator,\n",
    "                    validation_steps = len(val_generator))"
   ]
  },
  {
   "cell_type": "markdown",
   "metadata": {},
   "source": [
    "Ploting the Results"
   ]
  },
  {
   "cell_type": "code",
   "execution_count": 36,
   "metadata": {},
   "outputs": [
    {
     "data": {
      "image/png": "[encoded data removed]",
      "text/plain": [
       "<Figure size 640x480 with 1 Axes>"
      ]
     },
     "metadata": {},
     "output_type": "display_data"
    },
    {
     "data": {
      "image/png": "[encoded data removed]",
      "text/plain": [
       "<Figure size 640x480 with 1 Axes>"
      ]
     },
     "metadata": {},
     "output_type": "display_data"
    }
   ],
   "source": [
    "import matplotlib.pyplot as plt\n",
    "#plotting the results\n",
    "acc = history.history['acc']\n",
    "val_acc = history.history['val_acc']\n",
    "loss = history.history['loss']\n",
    "val_loss = history.history['val_loss']\n",
    "\n",
    "epochs = range(1, len(acc) + 1)\n",
    "plt.plot(epochs , acc, 'bo',label =\"training acc\")\n",
    "plt.plot(epochs , val_acc, 'b',label =\"Validation acc\")\n",
    "plt.title(\"Training and Validation Accuracy\")\n",
    "plt.legend()\n",
    "plt.show()\n",
    "\n",
    "plt.plot(epochs , loss, 'bo',label =\"training loss\")\n",
    "plt.plot(epochs , val_loss, 'b',label =\"Validation loss\")\n",
    "plt.title(\"Training and Validation Loss\")\n",
    "plt.legend()\n",
    "plt.show()"
   ]
  },
  {
   "cell_type": "code",
   "execution_count": 53,
   "metadata": {},
   "outputs": [],
   "source": [
    "from tensorflow.keras.preprocessing import image\n",
    "# Load and preprocess the custom image\n",
    "custom_image_path = 'C:/Users/dell/Downloads/large.jpeg'\n",
    "img = image.load_img(custom_image_path, target_size=(150, 150))\n",
    "img_array = image.img_to_array(img)\n",
    "img_array = np.expand_dims(img_array, axis=0)\n",
    "img_array /= 255.0  # Normalize pixel values"
   ]
  },
  {
   "cell_type": "code",
   "execution_count": 54,
   "metadata": {},
   "outputs": [
    {
     "name": "stdout",
     "output_type": "stream",
     "text": [
      "1/1 [==============================] - 0s 32ms/step\n",
      "Max value: 0.7402666\n",
      "MAx index 38\n"
     ]
    }
   ],
   "source": [
    "result = model.predict(img_array)\n",
    "max_index = np.argmax(result)\n",
    "max_value = result[0][max_index]\n",
    "print(\"Max value:\", max_value)\n",
    "print(\"MAx index\",max_index)"
   ]
  },
  {
   "cell_type": "code",
   "execution_count": 55,
   "metadata": {},
   "outputs": [
    {
     "name": "stdout",
     "output_type": "stream",
     "text": [
      "LARGE MARBLE\n"
     ]
    }
   ],
   "source": [
    "\n",
    "directory = \"Train Dir\"  \n",
    "items = os.listdir(directory)\n",
    "print(items[38])\n"
   ]
  },
  {
   "cell_type": "code",
   "execution_count": 60,
   "metadata": {},
   "outputs": [],
   "source": [
    "model.save(\"Simple_ButterFly_Classification_Model.h5\")"
   ]
  },
  {
   "cell_type": "markdown",
   "metadata": {},
   "source": [
    "<h2>Making the new model with some twiking </h2>\n",
    "The new model is made by using the Pre-trained VGG16 Model"
   ]
  },
  {
   "cell_type": "code",
   "execution_count": 38,
   "metadata": {},
   "outputs": [],
   "source": [
    "from keras.applications import VGG16\n",
    "conv_base = VGG16(weights='imagenet',\n",
    "                  include_top=False,\n",
    "                  input_shape=(150,150,3)) "
   ]
  },
  {
   "cell_type": "code",
   "execution_count": 56,
   "metadata": {},
   "outputs": [],
   "source": [
    "modelv = Sequential()\n",
    "modelv.add(conv_base)\n",
    "modelv.add(Flatten())\n",
    "modelv.add(Dense(512,activation='relu'))\n",
    "modelv.add(Dense(75,activation='softmax'))"
   ]
  },
  {
   "cell_type": "code",
   "execution_count": 57,
   "metadata": {},
   "outputs": [],
   "source": [
    "conv_base.trainable =False"
   ]
  },
  {
   "cell_type": "code",
   "execution_count": 50,
   "metadata": {},
   "outputs": [
    {
     "name": "stdout",
     "output_type": "stream",
     "text": [
      "Model: \"sequential_9\"\n",
      "_________________________________________________________________\n",
      " Layer (type)                Output Shape              Param #   \n",
      "=================================================================\n",
      " vgg16 (Functional)          (None, 4, 4, 512)         14714688  \n",
      "                                                                 \n",
      " flatten_7 (Flatten)         (None, 8192)              0         \n",
      "                                                                 \n",
      " dense_16 (Dense)            (None, 512)               4194816   \n",
      "                                                                 \n",
      " dense_17 (Dense)            (None, 75)                38475     \n",
      "                                                                 \n",
      "=================================================================\n",
      "Total params: 18,947,979\n",
      "Trainable params: 4,233,291\n",
      "Non-trainable params: 14,714,688\n",
      "_________________________________________________________________\n"
     ]
    }
   ],
   "source": [
    "modelv.summary()"
   ]
  },
  {
   "cell_type": "code",
   "execution_count": 58,
   "metadata": {},
   "outputs": [],
   "source": [
    "modelv.compile(loss=\"categorical_crossentropy\",optimizer=optimizers.Adam(learning_rate=0.001),metrics=['acc'])"
   ]
  },
  {
   "cell_type": "code",
   "execution_count": 59,
   "metadata": {},
   "outputs": [
    {
     "name": "stdout",
     "output_type": "stream",
     "text": [
      "Epoch 1/13\n",
      "50/50 [==============================] - 326s 7s/step - loss: 3.4797 - acc: 0.2512 - val_loss: 2.5344 - val_acc: 0.3908\n",
      "Epoch 2/13\n",
      "50/50 [==============================] - 343s 7s/step - loss: 1.7741 - acc: 0.5730 - val_loss: 1.7055 - val_acc: 0.5623\n",
      "Epoch 3/13\n",
      "50/50 [==============================] - 306s 6s/step - loss: 1.0759 - acc: 0.7425 - val_loss: 1.4365 - val_acc: 0.6108\n",
      "Epoch 4/13\n",
      "50/50 [==============================] - 270s 5s/step - loss: 0.7418 - acc: 0.8275 - val_loss: 1.2153 - val_acc: 0.6931\n",
      "Epoch 5/13\n",
      "50/50 [==============================] - 300s 6s/step - loss: 0.6772 - acc: 0.8244 - val_loss: 1.1652 - val_acc: 0.6862\n",
      "Epoch 6/13\n",
      "50/50 [==============================] - 310s 6s/step - loss: 0.4726 - acc: 0.8813 - val_loss: 1.0482 - val_acc: 0.7338\n",
      "Epoch 7/13\n",
      "50/50 [==============================] - 320s 6s/step - loss: 0.3837 - acc: 0.9044 - val_loss: 1.0027 - val_acc: 0.7415\n",
      "Epoch 8/13\n",
      "50/50 [==============================] - 296s 6s/step - loss: 0.3019 - acc: 0.9362 - val_loss: 0.9497 - val_acc: 0.7515\n",
      "Epoch 9/13\n",
      "50/50 [==============================] - 255s 5s/step - loss: 0.2538 - acc: 0.9431 - val_loss: 0.9052 - val_acc: 0.7538\n",
      "Epoch 10/13\n",
      "50/50 [==============================] - 269s 5s/step - loss: 0.1919 - acc: 0.9589 - val_loss: 0.8945 - val_acc: 0.7615\n",
      "Epoch 11/13\n",
      "50/50 [==============================] - 261s 5s/step - loss: 0.1626 - acc: 0.9646 - val_loss: 0.9067 - val_acc: 0.7685\n",
      "Epoch 12/13\n",
      "50/50 [==============================] - 255s 5s/step - loss: 0.1489 - acc: 0.9631 - val_loss: 0.9234 - val_acc: 0.7623\n",
      "Epoch 13/13\n",
      "50/50 [==============================] - 253s 5s/step - loss: 0.1001 - acc: 0.9812 - val_loss: 0.8775 - val_acc: 0.7815\n"
     ]
    }
   ],
   "source": [
    "h = modelv.fit(train_generator,\n",
    "           steps_per_epoch=50\n",
    "           ,epochs=13,\n",
    "           batch_size=100,\n",
    "           validation_data= val_generator,\n",
    "           validation_steps=len(val_generator))"
   ]
  },
  {
   "cell_type": "code",
   "execution_count": 60,
   "metadata": {},
   "outputs": [
    {
     "data": {
      "image/png": "[encoded data removed]",
      "text/plain": [
       "<Figure size 640x480 with 1 Axes>"
      ]
     },
     "metadata": {},
     "output_type": "display_data"
    },
    {
     "data": {
      "image/png": "[encoded data removed]",
      "text/plain": [
       "<Figure size 640x480 with 1 Axes>"
      ]
     },
     "metadata": {},
     "output_type": "display_data"
    }
   ],
   "source": [
    "import matplotlib.pyplot as plt\n",
    "#plotting the results\n",
    "acc = history.history['acc']\n",
    "val_acc = history.history['val_acc']\n",
    "loss = history.history['loss']\n",
    "val_loss = history.history['val_loss']\n",
    "\n",
    "epochs = range(1, len(acc) + 1)\n",
    "plt.plot(epochs , acc, 'bo',label =\"training acc\")\n",
    "plt.plot(epochs , val_acc, 'b',label =\"Validation acc\")\n",
    "plt.title(\"Training and Validation Accuracy\")\n",
    "plt.legend()\n",
    "plt.show()\n",
    "\n",
    "plt.plot(epochs , loss, 'bo',label =\"training loss\")\n",
    "plt.plot(epochs , val_loss, 'b',label =\"Validation loss\")\n",
    "plt.title(\"Training and Validation Loss\")\n",
    "plt.legend()\n",
    "plt.show()"
   ]
  },
  {
   "cell_type": "code",
   "execution_count": null,
   "metadata": {},
   "outputs": [],
   "source": [
    "modelv.save(\"Improved_Butterfly_Classification_Model.h5\")"
   ]
  },
  {
   "cell_type": "markdown",
   "metadata": {},
   "source": [
    "<h1>Visulizing The Results with the help of Gradio</h1>"
   ]
  },
  {
   "cell_type": "code",
   "execution_count": 4,
   "metadata": {},
   "outputs": [],
   "source": [
    "from PIL import Image\n",
    "from tensorflow.keras.preprocessing import image\n",
    "import gradio as gr\n",
    "import numpy as np\n",
    "from tensorflow.keras import models"
   ]
  },
  {
   "cell_type": "code",
   "execution_count": 5,
   "metadata": {},
   "outputs": [],
   "source": [
    "model = models.load_model(\"ButterFlyModel2.h5\")"
   ]
  },
  {
   "cell_type": "code",
   "execution_count": 6,
   "metadata": {},
   "outputs": [
    {
     "name": "stdout",
     "output_type": "stream",
     "text": [
      "['ADONIS', 'AFRICAN GIANT SWALLOWTAIL', 'AMERICAN SNOOT', 'AN 88', 'APPOLLO', 'ATALA', 'BANDED ORANGE HELICONIAN', 'BANDED PEACOCK', 'BECKERS WHITE', 'BLACK HAIRSTREAK', 'BLUE MORPHO', 'BLUE SPOTTED CROW', 'BROWN SIPROETA', 'CABBAGE WHITE', 'CAIRNS BIRDWING', 'CHECQUERED SKIPPER', 'CHESTNUTQ', 'CLEOPATRA', 'CLODIUS PARNASSIAN', 'CLOUDED SULPHUR', 'COMMON BANDED AWL', 'COMMON WOOD-NYMPH', 'COPPER TAIL', 'CRECENT', 'CRIMSON PATCH', 'DANAID EGGFLY', 'EASTERN COMA', 'EASTERN DAPPLE WHITE', 'EASTERN PINE ELFIN', 'ELBOWED PIERROT', 'GOLD BANDED', 'GREAT EGGFLY', 'GREAT JAY', 'GREEN CELLED CATTLEHEART', 'GREY HAIRSTREAK', 'INDRA SWALLOW', 'IPHICLUS SISTER', 'JULIA', 'LARGE MARBLE', 'MALACHITE', 'MANGROVE SKIPPER', 'MESTRA', 'METALMARK', 'MILBERTS TORTOISESHELL', 'MONARCH', 'MOURNING CLOAK', 'ORANGE OAKLEAF', 'ORANGE TIP', 'ORCHARD SWALLOW', 'PAINTED LADY', 'PAPER KITE', 'PEACOCK', 'PINE WHITE', 'PIPEVINE SWALLOW', 'POPINJAY', 'PURPLE HAIRSTREAK', 'PURPLISH COPPER', 'QUESTION MARK', 'RED ADMIRAL', 'RED CRACKER', 'RED POSTMAN', 'RED SPOTTED PURPLE', 'SCARCE SWALLOW', 'SILVER SPOT SKIPPER', 'SLEEPY ORANGE', 'SOOTYWING', 'SOUTHERN DOGFACE', 'STRAITED QUEEN', 'TROPICAL LEAFWING', 'TWO BARRED FLASHER', 'ULYSES', 'VICEROY', 'WOOD SATYR', 'YELLOW SWALLOW TAIL', 'ZEBRA LONG WING']\n"
     ]
    }
   ],
   "source": [
    "label_list = [\n",
    "    'SOUTHERN DOGFACE', 'ADONIS', 'BROWN SIPROETA', 'MONARCH',\n",
    "    'GREEN CELLED CATTLEHEART', 'CAIRNS BIRDWING', 'EASTERN DAPPLE WHITE',\n",
    "    'RED POSTMAN', 'MANGROVE SKIPPER', 'BLACK HAIRSTREAK', 'CABBAGE WHITE',\n",
    "    'RED ADMIRAL', 'PAINTED LADY', 'PAPER KITE', 'SOOTYWING', 'PINE WHITE',\n",
    "    'PEACOCK', 'CHECQUERED SKIPPER', 'JULIA', 'COMMON WOOD-NYMPH', 'BLUE MORPHO',\n",
    "    'CLOUDED SULPHUR', 'STRAITED QUEEN', 'ORANGE OAKLEAF', 'PURPLISH COPPER',\n",
    "    'ATALA', 'IPHICLUS SISTER', 'DANAID EGGFLY', 'LARGE MARBLE',\n",
    "    'PIPEVINE SWALLOW', 'BLUE SPOTTED CROW', 'RED CRACKER', 'QUESTION MARK',\n",
    "    'CRIMSON PATCH', 'BANDED PEACOCK', 'SCARCE SWALLOW', 'COPPER TAIL',\n",
    "    'GREAT JAY', 'INDRA SWALLOW', 'VICEROY', 'MALACHITE', 'APPOLLO',\n",
    "    'TWO BARRED FLASHER', 'MOURNING CLOAK', 'TROPICAL LEAFWING', 'POPINJAY',\n",
    "    'ORANGE TIP', 'GOLD BANDED', 'BECKERS WHITE', 'RED SPOTTED PURPLE',\n",
    "    'MILBERTS TORTOISESHELL', 'SILVER SPOT SKIPPER', 'AMERICAN SNOOT', 'AN 88',\n",
    "    'ULYSES', 'COMMON BANDED AWL', 'CRECENT', 'METALMARK', 'SLEEPY ORANGE',\n",
    "    'PURPLE HAIRSTREAK', 'ELBOWED PIERROT', 'GREAT EGGFLY', 'ORCHARD SWALLOW',\n",
    "    'ZEBRA LONG WING', 'WOOD SATYR', 'MESTRA', 'EASTERN PINE ELFIN',\n",
    "    'EASTERN COMA', 'YELLOW SWALLOW TAIL', 'CLEOPATRA', 'GREY HAIRSTREAK',\n",
    "    'BANDED ORANGE HELICONIAN', 'AFRICAN GIANT SWALLOWTAIL', 'CHESTNUTQ',\n",
    "    'CLODIUS PARNASSIAN'\n",
    "]\n",
    "\n",
    "sorted_labels = sorted(label_list)\n",
    "print(sorted_labels)\n"
   ]
  },
  {
   "cell_type": "code",
   "execution_count": 8,
   "metadata": {},
   "outputs": [
    {
     "name": "stdout",
     "output_type": "stream",
     "text": [
      "Running on local URL:  http://127.0.0.1:7862\n",
      "\n",
      "To create a public link, set `share=True` in `launch()`.\n"
     ]
    },
    {
     "data": {
      "text/html": [
       "<div><iframe src=\"http://127.0.0.1:7862/\" width=\"100%\" height=\"500\" allow=\"autoplay; camera; microphone; clipboard-read; clipboard-write;\" frameborder=\"0\" allowfullscreen></iframe></div>"
      ],
      "text/plain": [
       "<IPython.core.display.HTML object>"
      ]
     },
     "metadata": {},
     "output_type": "display_data"
    },
    {
     "data": {
      "text/plain": []
     },
     "execution_count": 8,
     "metadata": {},
     "output_type": "execute_result"
    },
    {
     "name": "stdout",
     "output_type": "stream",
     "text": [
      "1/1 [==============================] - 0s 28ms/step\n",
      "1/1 [==============================] - 0s 29ms/step\n"
     ]
    }
   ],
   "source": [
    "def Classifying_Butterflies(image):\n",
    "    img = Image.fromarray(image)\n",
    "    img_array = img.resize((150,150))\n",
    "    img_array = np.expand_dims(img_array, axis=0)\n",
    "\n",
    "    prediction = model.predict(img_array)\n",
    "    max_index = np.argmax(prediction) # getting the index of the max value from the result array\n",
    "\n",
    "    return \"It is \"+sorted_labels[max_index]\n",
    "\n",
    "interface = gr.Interface(\n",
    "    fn=Classifying_Butterflies,\n",
    "    inputs='image',\n",
    "    outputs='text',\n",
    "    title='Butterfly Classifier',\n",
    "    description='Upload an image of a butterfly and let the classifier identify it!'\n",
    ")\n",
    "\n",
    "interface.launch()\n"
   ]
  }
 ],
 "metadata": {
  "kernelspec": {
   "display_name": "base",
   "language": "python",
   "name": "python3"
  },
  "language_info": {
   "codemirror_mode": {
    "name": "ipython",
    "version": 3
   },
   "file_extension": ".py",
   "mimetype": "text/x-python",
   "name": "python",
   "nbconvert_exporter": "python",
   "pygments_lexer": "ipython3",
   "version": "3.10.13"
  },
  "orig_nbformat": 4
 },
 "nbformat": 4,
 "nbformat_minor": 2
}
