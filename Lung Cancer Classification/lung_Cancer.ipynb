{
 "cells": [
  {
   "cell_type": "markdown",
   "metadata": {},
   "source": [
    "<h1>This is an assignment for lung cancer detection</h1>"
   ]
  },
  {
   "cell_type": "markdown",
   "metadata": {},
   "source": [
    "<h1> Importing the libraries"
   ]
  },
  {
   "cell_type": "code",
   "execution_count": 8,
   "metadata": {},
   "outputs": [],
   "source": [
    "# some libraries \n",
    "import os \n",
    "import numpy as np\n",
    "import pandas as pd\n",
    "import shutil\n",
    "import cv2\n",
    "import matplotlib.pyplot as plt\n",
    "from keras.applications import VGG16\n",
    "from tensorflow.keras.preprocessing import image \n",
    "from keras.preprocessing.image import ImageDataGenerator \n",
    "from keras.models import Sequential\n",
    "from keras.layers import Dense , Conv2D,MaxPooling2D,Flatten, Dropout\n",
    "from keras import optimizers\n",
    "from keras.models import load_model\n",
    "from PIL import Image\n",
    "import gradio as gr\n",
    "import seaborn as sns\n",
    "\n"
   ]
  },
  {
   "cell_type": "markdown",
   "metadata": {},
   "source": [
    "we have 2 folder one contains negative images and other positive images"
   ]
  },
  {
   "cell_type": "code",
   "execution_count": 2,
   "metadata": {},
   "outputs": [],
   "source": [
    "# main files\n",
    "negativedir = './nagative/'\n",
    "positivedir = './positive/'\n",
    " "
   ]
  },
  {
   "cell_type": "markdown",
   "metadata": {},
   "source": [
    "making some new file for seperating the images for training and validation"
   ]
  },
  {
   "cell_type": "code",
   "execution_count": null,
   "metadata": {},
   "outputs": [],
   "source": [
    "print(len(os.listdir(negativedir)))\n",
    "print(len(os.listdir(positivedir)))"
   ]
  },
  {
   "cell_type": "code",
   "execution_count": null,
   "metadata": {},
   "outputs": [],
   "source": [
    "train_folder = os.mkdir('Train')\n"
   ]
  },
  {
   "cell_type": "code",
   "execution_count": null,
   "metadata": {},
   "outputs": [],
   "source": [
    "postivetrain = os.mkdir('./Train/positive')\n",
    "negativetrain = os.mkdir('./Train/negative')"
   ]
  },
  {
   "cell_type": "code",
   "execution_count": null,
   "metadata": {},
   "outputs": [],
   "source": [
    "test_folder = os.mkdir('Test')\n",
    "positivetest = os.mkdir('./Test/positive')\n",
    "negativetest = os.mkdir('./Test/negative')"
   ]
  },
  {
   "cell_type": "code",
   "execution_count": null,
   "metadata": {},
   "outputs": [],
   "source": [
    "# validation folderval\n",
    "val_dir = os.mkdir(\"Val\")\n",
    "val_positive = os.mkdir('./Val/positive')\n",
    "val_negative = os.mkdir('./Val/negative')"
   ]
  },
  {
   "cell_type": "markdown",
   "metadata": {},
   "source": [
    "<h1>Splitting the data</h1>\n",
    "Images will be splited into respective folders  "
   ]
  },
  {
   "cell_type": "code",
   "execution_count": 3,
   "metadata": {},
   "outputs": [
    {
     "name": "stdout",
     "output_type": "stream",
     "text": [
      "534\n",
      "test positive images 23.4\n",
      "test negative images 30.0\n",
      "remaning negative images 270\n",
      "remaning positive images 210.6\n",
      "val positive images 10.53\n",
      "val negative images 13.5\n",
      "256.5\n",
      "200\n"
     ]
    }
   ],
   "source": [
    "print(234 +300)\n",
    "print('test positive images',234 *10/100)\n",
    "print('test negative images',300 *10/100)\n",
    "print('remaning negative images',300 - 30)\n",
    "print('remaning positive images',234 - 23.4)\n",
    "print('val positive images',210.6 * 5 /100)\n",
    "print('val negative images',270 * 5 /100)\n",
    "print(270-13.5)\n",
    "print(211-11)"
   ]
  },
  {
   "cell_type": "code",
   "execution_count": 4,
   "metadata": {},
   "outputs": [
    {
     "name": "stdout",
     "output_type": "stream",
     "text": [
      "total 534\n"
     ]
    }
   ],
   "source": [
    "print('total',24+30+256+200+10+14)"
   ]
  },
  {
   "cell_type": "code",
   "execution_count": null,
   "metadata": {},
   "outputs": [],
   "source": [
    "allimages = os.listdir(negativedir)\n",
    "selected_images = allimages[286:300]\n",
    "for i in selected_images:\n",
    "    s = os.path.join(negativedir,i)\n",
    "    d = os.path.join(\"./Val/negative/\",i)\n",
    "    shutil.copy(s,d)"
   ]
  },
  {
   "cell_type": "markdown",
   "metadata": {},
   "source": [
    "<h2>Preprocessing the images</h1>\n",
    "using image datagen"
   ]
  },
  {
   "cell_type": "code",
   "execution_count": 2,
   "metadata": {},
   "outputs": [],
   "source": [
    "# training and validation dirs\n",
    "train_dir = 'Train'\n",
    "val_dir = 'Val'"
   ]
  },
  {
   "cell_type": "code",
   "execution_count": 3,
   "metadata": {},
   "outputs": [
    {
     "data": {
      "text/plain": [
       "(1317, 1857, 3)"
      ]
     },
     "execution_count": 3,
     "metadata": {},
     "output_type": "execute_result"
    }
   ],
   "source": [
    "# reading one image shape\n",
    "img = cv2.imread('./Train/positive/IM-0001-0001.jpeg')\n",
    "img.shape"
   ]
  },
  {
   "cell_type": "code",
   "execution_count": 3,
   "metadata": {},
   "outputs": [
    {
     "name": "stdout",
     "output_type": "stream",
     "text": [
      "Found 456 images belonging to 2 classes.\n",
      "Found 24 images belonging to 2 classes.\n"
     ]
    }
   ],
   "source": [
    "# rescaling the image\n",
    "train_datagen= ImageDataGenerator(rescale=1./255)\n",
    "test_datagen= ImageDataGenerator(rescale=1./255)\n",
    "\n",
    "# making the generators\n",
    "train_generator = train_datagen.flow_from_directory(\n",
    "    train_dir,\n",
    "    target_size=(150,150),\n",
    "    batch_size=20,\n",
    "    class_mode='binary'\n",
    "    \n",
    ")\n",
    "\n",
    "val_genrator = test_datagen.flow_from_directory(\n",
    "    val_dir,\n",
    "    target_size=(150,150),\n",
    "    batch_size=1,\n",
    "    class_mode='binary'\n",
    ")\n",
    "\n"
   ]
  },
  {
   "cell_type": "markdown",
   "metadata": {},
   "source": [
    "<h2>Making a simple dense model </h2>"
   ]
  },
  {
   "cell_type": "code",
   "execution_count": 26,
   "metadata": {},
   "outputs": [],
   "source": [
    "first_model = Sequential()\n",
    "first_model.add(Conv2D(32,(3,3),activation='relu',input_shape = (150,150,3)))\n",
    "first_model.add(MaxPooling2D((2,2)))\n",
    "first_model.add(Conv2D(64,(3,3),activation='relu'))\n",
    "first_model.add(MaxPooling2D((2,2)))\n",
    "first_model.add(Conv2D(128,(3,3),activation='relu'))\n",
    "first_model.add(MaxPooling2D((2,2)))\n",
    "first_model.add(Conv2D(256,(3,3),activation='relu'))\n",
    "first_model.add(MaxPooling2D((2,2)))\n",
    "first_model.add(Flatten())\n",
    "first_model.add(Dense(128,activation='relu'))\n",
    "first_model.add(Dense(512,activation='relu'))\n",
    "first_model.add(Dense(1,activation='sigmoid'))"
   ]
  },
  {
   "cell_type": "code",
   "execution_count": 27,
   "metadata": {},
   "outputs": [],
   "source": [
    "#compiling the model\n",
    "first_model.compile(loss='binary_crossentropy',\n",
    "                    optimizer=optimizers.RMSprop(),metrics=['acc'])"
   ]
  },
  {
   "cell_type": "code",
   "execution_count": 28,
   "metadata": {},
   "outputs": [
    {
     "name": "stdout",
     "output_type": "stream",
     "text": [
      "Model: \"sequential_2\"\n",
      "_________________________________________________________________\n",
      " Layer (type)                Output Shape              Param #   \n",
      "=================================================================\n",
      " conv2d (Conv2D)             (None, 148, 148, 32)      896       \n",
      "                                                                 \n",
      " max_pooling2d (MaxPooling2D  (None, 74, 74, 32)       0         \n",
      " )                                                               \n",
      "                                                                 \n",
      " conv2d_1 (Conv2D)           (None, 72, 72, 64)        18496     \n",
      "                                                                 \n",
      " max_pooling2d_1 (MaxPooling  (None, 36, 36, 64)       0         \n",
      " 2D)                                                             \n",
      "                                                                 \n",
      " conv2d_2 (Conv2D)           (None, 34, 34, 128)       73856     \n",
      "                                                                 \n",
      " max_pooling2d_2 (MaxPooling  (None, 17, 17, 128)      0         \n",
      " 2D)                                                             \n",
      "                                                                 \n",
      " conv2d_3 (Conv2D)           (None, 15, 15, 256)       295168    \n",
      "                                                                 \n",
      " max_pooling2d_3 (MaxPooling  (None, 7, 7, 256)        0         \n",
      " 2D)                                                             \n",
      "                                                                 \n",
      " flatten_1 (Flatten)         (None, 12544)             0         \n",
      "                                                                 \n",
      " dense_3 (Dense)             (None, 128)               1605760   \n",
      "                                                                 \n",
      " dense_4 (Dense)             (None, 512)               66048     \n",
      "                                                                 \n",
      " dense_5 (Dense)             (None, 1)                 513       \n",
      "                                                                 \n",
      "=================================================================\n",
      "Total params: 2,060,737\n",
      "Trainable params: 2,060,737\n",
      "Non-trainable params: 0\n",
      "_________________________________________________________________\n"
     ]
    }
   ],
   "source": [
    "first_model.summary()"
   ]
  },
  {
   "cell_type": "code",
   "execution_count": 29,
   "metadata": {},
   "outputs": [],
   "source": [
    "tensorboard = TensorBoard(log_dir=\"logs\\\\{}\".format('TensorBoard3'))"
   ]
  },
  {
   "cell_type": "code",
   "execution_count": 30,
   "metadata": {},
   "outputs": [
    {
     "name": "stdout",
     "output_type": "stream",
     "text": [
      "Epoch 1/20\n",
      "20/20 [==============================] - 4s 128ms/step - loss: 0.7972 - acc: 0.5177 - val_loss: 0.6953 - val_acc: 0.5000\n",
      "Epoch 2/20\n",
      "20/20 [==============================] - 2s 123ms/step - loss: 0.6656 - acc: 0.6000 - val_loss: 0.5192 - val_acc: 0.8500\n",
      "Epoch 3/20\n",
      "20/20 [==============================] - 2s 118ms/step - loss: 0.6529 - acc: 0.7146 - val_loss: 0.3993 - val_acc: 0.8500\n",
      "Epoch 4/20\n",
      "20/20 [==============================] - 2s 124ms/step - loss: 0.5485 - acc: 0.7551 - val_loss: 0.3372 - val_acc: 0.9000\n",
      "Epoch 5/20\n",
      "20/20 [==============================] - 2s 120ms/step - loss: 0.4716 - acc: 0.7778 - val_loss: 0.3901 - val_acc: 0.8500\n",
      "Epoch 6/20\n",
      "20/20 [==============================] - 2s 118ms/step - loss: 0.4196 - acc: 0.8409 - val_loss: 0.1866 - val_acc: 0.9500\n",
      "Epoch 7/20\n",
      "20/20 [==============================] - 2s 121ms/step - loss: 0.2902 - acc: 0.8939 - val_loss: 0.3168 - val_acc: 0.8500\n",
      "Epoch 8/20\n",
      "20/20 [==============================] - 3s 124ms/step - loss: 0.5724 - acc: 0.8889 - val_loss: 0.3662 - val_acc: 0.8000\n",
      "Epoch 9/20\n",
      "20/20 [==============================] - 6s 299ms/step - loss: 0.1998 - acc: 0.9318 - val_loss: 0.3462 - val_acc: 0.8500\n",
      "Epoch 10/20\n",
      "20/20 [==============================] - 5s 217ms/step - loss: 0.1649 - acc: 0.9318 - val_loss: 0.3289 - val_acc: 0.9500\n",
      "Epoch 11/20\n",
      "20/20 [==============================] - 2s 117ms/step - loss: 0.1413 - acc: 0.9419 - val_loss: 0.9451 - val_acc: 0.8500\n",
      "Epoch 12/20\n",
      "20/20 [==============================] - 2s 112ms/step - loss: 0.1370 - acc: 0.9394 - val_loss: 0.4394 - val_acc: 0.9000\n",
      "Epoch 13/20\n",
      "20/20 [==============================] - 2s 115ms/step - loss: 0.1416 - acc: 0.9545 - val_loss: 0.4108 - val_acc: 0.8500\n",
      "Epoch 14/20\n",
      "20/20 [==============================] - 2s 116ms/step - loss: 0.1556 - acc: 0.9444 - val_loss: 0.2085 - val_acc: 0.9500\n",
      "Epoch 15/20\n",
      "20/20 [==============================] - 2s 112ms/step - loss: 0.1100 - acc: 0.9646 - val_loss: 0.1867 - val_acc: 0.9500\n",
      "Epoch 16/20\n",
      "20/20 [==============================] - 2s 114ms/step - loss: 0.1032 - acc: 0.9621 - val_loss: 0.4061 - val_acc: 0.9000\n",
      "Epoch 17/20\n",
      "20/20 [==============================] - 2s 114ms/step - loss: 0.0557 - acc: 0.9825 - val_loss: 0.8376 - val_acc: 0.8500\n",
      "Epoch 18/20\n",
      "20/20 [==============================] - 2s 114ms/step - loss: 0.0958 - acc: 0.9672 - val_loss: 0.4212 - val_acc: 0.8500\n",
      "Epoch 19/20\n",
      "20/20 [==============================] - 2s 116ms/step - loss: 0.0792 - acc: 0.9697 - val_loss: 0.4802 - val_acc: 0.9500\n",
      "Epoch 20/20\n",
      "20/20 [==============================] - 2s 117ms/step - loss: 0.0634 - acc: 0.9775 - val_loss: 0.7321 - val_acc: 0.8500\n"
     ]
    }
   ],
   "source": [
    "#fiting the model\n",
    "history_dic = first_model.fit(train_generator,steps_per_epoch=20,epochs=20,\n",
    "                validation_data= val_genrator,\n",
    "                validation_steps=20, callbacks= [tensorboard])"
   ]
  },
  {
   "cell_type": "code",
   "execution_count": 12,
   "metadata": {},
   "outputs": [
    {
     "data": {
      "text/plain": [
       "<Figure size 640x480 with 0 Axes>"
      ]
     },
     "execution_count": 12,
     "metadata": {},
     "output_type": "execute_result"
    },
    {
     "data": {
      "image/png": "[encoded data removed]",
      "text/plain": [
       "<Figure size 640x480 with 1 Axes>"
      ]
     },
     "metadata": {},
     "output_type": "display_data"
    },
    {
     "data": {
      "image/png": "[encoded data removed]",
      "text/plain": [
       "<Figure size 640x480 with 1 Axes>"
      ]
     },
     "metadata": {},
     "output_type": "display_data"
    },
    {
     "data": {
      "text/plain": [
       "<Figure size 640x480 with 0 Axes>"
      ]
     },
     "metadata": {},
     "output_type": "display_data"
    }
   ],
   "source": [
    "# plotting the graph\n",
    "hi = history_dic.history\n",
    "acc = hi['acc']\n",
    "val_acc = hi['val_acc']\n",
    "loss = hi['loss']\n",
    "val_loss = hi['val_loss']\n",
    "epochs = range(1,len(acc)+1)\n",
    "plt.plot(epochs,acc,'bo',label = 'Training Acc')\n",
    "plt.plot(epochs,val_acc,'b',label = 'Validation Acc')\n",
    "plt.legend()\n",
    "plt.figure()\n",
    "\n",
    "\n",
    "plt.plot(epochs,loss,'bo',label = 'Training Loss')\n",
    "plt.plot(epochs,val_loss,'b',label = 'Validation Loss')\n",
    "plt.legend()\n",
    "plt.figure()\n"
   ]
  },
  {
   "cell_type": "markdown",
   "metadata": {},
   "source": [
    "now saving the first model"
   ]
  },
  {
   "cell_type": "code",
   "execution_count": 13,
   "metadata": {},
   "outputs": [],
   "source": [
    "first_model.save(\"Simple-Model.h5\")"
   ]
  },
  {
   "cell_type": "markdown",
   "metadata": {},
   "source": [
    "<h3> Now fine tunning the model using VGG16 for Fine Tunning</h3>\n",
    "means i am going to use the vgg16's conv base but the dense layer would be mine by unfreezing a few of the top layer. Bu this we can jointly train the model on pre-trained weights but also on our data too"
   ]
  },
  {
   "cell_type": "code",
   "execution_count": 49,
   "metadata": {},
   "outputs": [],
   "source": [
    "conv_base  = VGG16(weights='imagenet',\n",
    "                   include_top = False,\n",
    "                   input_shape = (150,150,3))\n"
   ]
  },
  {
   "cell_type": "code",
   "execution_count": 50,
   "metadata": {},
   "outputs": [
    {
     "name": "stdout",
     "output_type": "stream",
     "text": [
      "This is the Summary of the conv base it self\n",
      "Model: \"vgg16\"\n",
      "_________________________________________________________________\n",
      " Layer (type)                Output Shape              Param #   \n",
      "=================================================================\n",
      " input_4 (InputLayer)        [(None, 150, 150, 3)]     0         \n",
      "                                                                 \n",
      " block1_conv1 (Conv2D)       (None, 150, 150, 64)      1792      \n",
      "                                                                 \n",
      " block1_conv2 (Conv2D)       (None, 150, 150, 64)      36928     \n",
      "                                                                 \n",
      " block1_pool (MaxPooling2D)  (None, 75, 75, 64)        0         \n",
      "                                                                 \n",
      " block2_conv1 (Conv2D)       (None, 75, 75, 128)       73856     \n",
      "                                                                 \n",
      " block2_conv2 (Conv2D)       (None, 75, 75, 128)       147584    \n",
      "                                                                 \n",
      " block2_pool (MaxPooling2D)  (None, 37, 37, 128)       0         \n",
      "                                                                 \n",
      " block3_conv1 (Conv2D)       (None, 37, 37, 256)       295168    \n",
      "                                                                 \n",
      " block3_conv2 (Conv2D)       (None, 37, 37, 256)       590080    \n",
      "                                                                 \n",
      " block3_conv3 (Conv2D)       (None, 37, 37, 256)       590080    \n",
      "                                                                 \n",
      " block3_pool (MaxPooling2D)  (None, 18, 18, 256)       0         \n",
      "                                                                 \n",
      " block4_conv1 (Conv2D)       (None, 18, 18, 512)       1180160   \n",
      "                                                                 \n",
      " block4_conv2 (Conv2D)       (None, 18, 18, 512)       2359808   \n",
      "                                                                 \n",
      " block4_conv3 (Conv2D)       (None, 18, 18, 512)       2359808   \n",
      "                                                                 \n",
      " block4_pool (MaxPooling2D)  (None, 9, 9, 512)         0         \n",
      "                                                                 \n",
      " block5_conv1 (Conv2D)       (None, 9, 9, 512)         2359808   \n",
      "                                                                 \n",
      " block5_conv2 (Conv2D)       (None, 9, 9, 512)         2359808   \n",
      "                                                                 \n",
      " block5_conv3 (Conv2D)       (None, 9, 9, 512)         2359808   \n",
      "                                                                 \n",
      " block5_pool (MaxPooling2D)  (None, 4, 4, 512)         0         \n",
      "                                                                 \n",
      "=================================================================\n",
      "Total params: 14,714,688\n",
      "Trainable params: 14,714,688\n",
      "Non-trainable params: 0\n",
      "_________________________________________________________________\n"
     ]
    }
   ],
   "source": [
    "print(\"This is the Summary of the conv base it self\")\n",
    "conv_base.summary()"
   ]
  },
  {
   "cell_type": "markdown",
   "metadata": {},
   "source": [
    " Above is the raw conv - base of vgg16"
   ]
  },
  {
   "cell_type": "markdown",
   "metadata": {},
   "source": [
    "<h4>Now we are going to fine tune it "
   ]
  },
  {
   "cell_type": "code",
   "execution_count": 51,
   "metadata": {},
   "outputs": [],
   "source": [
    "# un - freezing the block5_conv1 for fine tunning \n",
    "conv_base.trainable = True\n",
    "\n",
    "for layer in conv_base.layers:\n",
    "    if (layer.name == 'block5_conv1'):\n",
    "        layer.trainable = True\n",
    "    else:\n",
    "        layer.trainable = False"
   ]
  },
  {
   "cell_type": "code",
   "execution_count": 52,
   "metadata": {},
   "outputs": [],
   "source": [
    "# model 2\n",
    "second_model = Sequential()\n",
    "second_model.add(conv_base)\n",
    "second_model.add(Flatten())\n",
    "second_model.add(Dense(512,activation = 'relu'))\n",
    "second_model.add(Dropout(0.3))\n",
    "second_model.add(Dense(256,activation = 'relu'))\n",
    "second_model.add(Dropout(0.3))\n",
    "second_model.add(Dense(1,activation = 'sigmoid'))"
   ]
  },
  {
   "cell_type": "code",
   "execution_count": 53,
   "metadata": {},
   "outputs": [
    {
     "name": "stdout",
     "output_type": "stream",
     "text": [
      "summary of the model after the trainable True of 5th block\n",
      "Model: \"sequential_8\"\n",
      "_________________________________________________________________\n",
      " Layer (type)                Output Shape              Param #   \n",
      "=================================================================\n",
      " vgg16 (Functional)          (None, 4, 4, 512)         14714688  \n",
      "                                                                 \n",
      " flatten_8 (Flatten)         (None, 8192)              0         \n",
      "                                                                 \n",
      " dense_18 (Dense)            (None, 512)               4194816   \n",
      "                                                                 \n",
      " dropout_8 (Dropout)         (None, 512)               0         \n",
      "                                                                 \n",
      " dense_19 (Dense)            (None, 256)               131328    \n",
      "                                                                 \n",
      " dropout_9 (Dropout)         (None, 256)               0         \n",
      "                                                                 \n",
      " dense_20 (Dense)            (None, 1)                 257       \n",
      "                                                                 \n",
      "=================================================================\n",
      "Total params: 19,041,089\n",
      "Trainable params: 6,686,209\n",
      "Non-trainable params: 12,354,880\n",
      "_________________________________________________________________\n"
     ]
    }
   ],
   "source": [
    "print('summary of the model after the trainable True of 5th block')\n",
    "second_model.summary()"
   ]
  },
  {
   "cell_type": "code",
   "execution_count": 54,
   "metadata": {},
   "outputs": [],
   "source": [
    "# now training the model with fine tunning\n",
    "second_model.compile(loss = 'binary_crossentropy',\n",
    "                     optimizer =optimizers.RMSprop(learning_rate=1e-5),\n",
    "                     metrics = ['acc'])"
   ]
  },
  {
   "cell_type": "code",
   "execution_count": 25,
   "metadata": {},
   "outputs": [
    {
     "ename": "NameError",
     "evalue": "name 'second_model' is not defined",
     "output_type": "error",
     "traceback": [
      "\u001b[1;31m---------------------------------------------------------------------------\u001b[0m",
      "\u001b[1;31mNameError\u001b[0m                                 Traceback (most recent call last)",
      "\u001b[1;32md:\\Mehroz Personals\\PIAIC\\Second Time Admission\\AI\\Quarter 3\\Lung Cancer Detection Assignment\\dataset lung\\lung_Cancer.ipynb Cell 39\u001b[0m line \u001b[0;36m1\n\u001b[1;32m----> <a href='vscode-notebook-cell:/d%3A/Mehroz%20Personals/PIAIC/Second%20Time%20Admission/AI/Quarter%203/Lung%20Cancer%20Detection%20Assignment/dataset%20lung/lung_Cancer.ipynb#X51sZmlsZQ%3D%3D?line=0'>1</a>\u001b[0m history2 \u001b[39m=\u001b[39m second_model\u001b[39m.\u001b[39mfit(train_generator,\n\u001b[0;32m      <a href='vscode-notebook-cell:/d%3A/Mehroz%20Personals/PIAIC/Second%20Time%20Admission/AI/Quarter%203/Lung%20Cancer%20Detection%20Assignment/dataset%20lung/lung_Cancer.ipynb#X51sZmlsZQ%3D%3D?line=1'>2</a>\u001b[0m                  steps_per_epoch\u001b[39m=\u001b[39m\u001b[39m10\u001b[39m,\n\u001b[0;32m      <a href='vscode-notebook-cell:/d%3A/Mehroz%20Personals/PIAIC/Second%20Time%20Admission/AI/Quarter%203/Lung%20Cancer%20Detection%20Assignment/dataset%20lung/lung_Cancer.ipynb#X51sZmlsZQ%3D%3D?line=2'>3</a>\u001b[0m                  epochs\u001b[39m=\u001b[39m\u001b[39m10\u001b[39m,\n\u001b[0;32m      <a href='vscode-notebook-cell:/d%3A/Mehroz%20Personals/PIAIC/Second%20Time%20Admission/AI/Quarter%203/Lung%20Cancer%20Detection%20Assignment/dataset%20lung/lung_Cancer.ipynb#X51sZmlsZQ%3D%3D?line=3'>4</a>\u001b[0m                  validation_data \u001b[39m=\u001b[39m val_genrator,\n\u001b[0;32m      <a href='vscode-notebook-cell:/d%3A/Mehroz%20Personals/PIAIC/Second%20Time%20Admission/AI/Quarter%203/Lung%20Cancer%20Detection%20Assignment/dataset%20lung/lung_Cancer.ipynb#X51sZmlsZQ%3D%3D?line=4'>5</a>\u001b[0m                  validation_steps\u001b[39m=\u001b[39m\u001b[39m10\u001b[39m,\n\u001b[0;32m      <a href='vscode-notebook-cell:/d%3A/Mehroz%20Personals/PIAIC/Second%20Time%20Admission/AI/Quarter%203/Lung%20Cancer%20Detection%20Assignment/dataset%20lung/lung_Cancer.ipynb#X51sZmlsZQ%3D%3D?line=5'>6</a>\u001b[0m                  callbacks \u001b[39m=\u001b[39m [tensorboard])\n",
      "\u001b[1;31mNameError\u001b[0m: name 'second_model' is not defined"
     ]
    }
   ],
   "source": [
    "history2 = second_model.fit(train_generator,\n",
    "                 steps_per_epoch=10,\n",
    "                 epochs=10,\n",
    "                 validation_data = val_genrator,\n",
    "                 validation_steps=10)"
   ]
  },
  {
   "cell_type": "code",
   "execution_count": 56,
   "metadata": {},
   "outputs": [
    {
     "data": {
      "text/plain": [
       "<Figure size 640x480 with 0 Axes>"
      ]
     },
     "execution_count": 56,
     "metadata": {},
     "output_type": "execute_result"
    },
    {
     "data": {
      "image/png": "[encoded data removed]",
      "text/plain": [
       "<Figure size 640x480 with 1 Axes>"
      ]
     },
     "metadata": {},
     "output_type": "display_data"
    },
    {
     "data": {
      "image/png": "[encoded data removed]",
      "text/plain": [
       "<Figure size 640x480 with 1 Axes>"
      ]
     },
     "metadata": {},
     "output_type": "display_data"
    },
    {
     "data": {
      "text/plain": [
       "<Figure size 640x480 with 0 Axes>"
      ]
     },
     "metadata": {},
     "output_type": "display_data"
    }
   ],
   "source": [
    "# graph\n",
    "epochs = range(1,len(history2.history['acc'])+1)\n",
    "plt.plot(epochs , history2.history['acc'],'bo',label = 'Training Accuracy')\n",
    "plt.plot(epochs , history2.history['val_acc'],'b',label = 'Validatiion Accuracy')\n",
    "plt.title(\"Training and Validation Accuracy\")\n",
    "plt.legend()\n",
    "plt.figure()\n",
    "\n",
    "plt.plot(epochs , history2.history['loss'],'bo',label = 'Training Loss')\n",
    "plt.plot(epochs , history2.history['val_loss'],'b',label = 'Validatiion Loss')\n",
    "plt.title(\"Training and Validation Loss\")\n",
    "plt.legend()\n",
    "plt.figure()\n"
   ]
  },
  {
   "cell_type": "markdown",
   "metadata": {},
   "source": [
    "<h3>Saving the Model\n"
   ]
  },
  {
   "cell_type": "code",
   "execution_count": 57,
   "metadata": {},
   "outputs": [],
   "source": [
    "#saving the 2nd model\n",
    "second_model.save(\"Second_model.h5\")"
   ]
  },
  {
   "cell_type": "markdown",
   "metadata": {},
   "source": [
    "<h4>Testing Both Model "
   ]
  },
  {
   "cell_type": "code",
   "execution_count": 5,
   "metadata": {},
   "outputs": [
    {
     "name": "stdout",
     "output_type": "stream",
     "text": [
      "Found 54 images belonging to 2 classes.\n"
     ]
    }
   ],
   "source": [
    "# making an test generator\n",
    "test_dir = 'Test'\n",
    "test_generator = test_datagen.flow_from_directory(\n",
    "                test_dir,\n",
    "                target_size = (150,150),\n",
    "                batch_size = 2,\n",
    "                class_mode = 'binary'    \n",
    ")"
   ]
  },
  {
   "cell_type": "markdown",
   "metadata": {},
   "source": [
    "<h5>Testing the 1st Model"
   ]
  },
  {
   "cell_type": "code",
   "execution_count": 23,
   "metadata": {},
   "outputs": [
    {
     "name": "stdout",
     "output_type": "stream",
     "text": [
      "27/27 [==============================] - 1s 9ms/step\n",
      "Confusion Matrix:\n",
      "[[21  9]\n",
      " [14 10]]\n"
     ]
    }
   ],
   "source": [
    "#making an cunfusion matrix\n",
    "from sklearn.metrics import confusion_matrix\n",
    "m1 = load_model(\"Second_model.h5\")\n",
    "# Get true labels from the test data generator\n",
    "test_labels = test_generator.classes  # 0 for negative, 1 for positive\n",
    "\n",
    "# Use your trained model to predict labels for test data generator\n",
    "predicted_labels = m1.predict(test_generator)\n",
    "predicted_labels = np.round(predicted_labels)  # Assuming your model outputs probabilities\n",
    "\n",
    "# Calculate confusion matrix\n",
    "conf_matrix = confusion_matrix(test_labels, predicted_labels)\n",
    "\n",
    "print(\"Confusion Matrix:\")\n",
    "print(conf_matrix)"
   ]
  },
  {
   "cell_type": "code",
   "execution_count": 30,
   "metadata": {},
   "outputs": [
    {
     "data": {
      "text/html": [
       "<div>\n",
       "<style scoped>\n",
       "    .dataframe tbody tr th:only-of-type {\n",
       "        vertical-align: middle;\n",
       "    }\n",
       "\n",
       "    .dataframe tbody tr th {\n",
       "        vertical-align: top;\n",
       "    }\n",
       "\n",
       "    .dataframe thead th {\n",
       "        text-align: right;\n",
       "    }\n",
       "</style>\n",
       "<table border=\"1\" class=\"dataframe\">\n",
       "  <thead>\n",
       "    <tr style=\"text-align: right;\">\n",
       "      <th></th>\n",
       "      <th>Negative</th>\n",
       "      <th>Positive</th>\n",
       "    </tr>\n",
       "  </thead>\n",
       "  <tbody>\n",
       "    <tr>\n",
       "      <th>Negative</th>\n",
       "      <td>21</td>\n",
       "      <td>9</td>\n",
       "    </tr>\n",
       "    <tr>\n",
       "      <th>Positive</th>\n",
       "      <td>14</td>\n",
       "      <td>10</td>\n",
       "    </tr>\n",
       "  </tbody>\n",
       "</table>\n",
       "</div>"
      ],
      "text/plain": [
       "          Negative  Positive\n",
       "Negative        21         9\n",
       "Positive        14        10"
      ]
     },
     "execution_count": 30,
     "metadata": {},
     "output_type": "execute_result"
    }
   ],
   "source": [
    "conf_di"
   ]
  },
  {
   "cell_type": "code",
   "execution_count": 34,
   "metadata": {},
   "outputs": [
    {
     "data": {
      "image/png": "[encoded data removed]",
      "text/plain": [
       "<Figure size 800x600 with 2 Axes>"
      ]
     },
     "metadata": {},
     "output_type": "display_data"
    }
   ],
   "source": [
    "classes = ['Negative','Positive']\n",
    "conf_di = pd.DataFrame(conf_matrix,index = classes,columns = classes)\n",
    "plt.figure(figsize=(8,6))\n",
    "camp = sns.light_palette(\"seagreen\",as_cmap=True)\n",
    "sns.heatmap(conf_di,annot= True,fmt='d',cmap=camp,cbar = True,square=True\n",
    "            ,xticklabels=classes , yticklabels=classes, annot_kws={'size':14,'color':'blue'})\n",
    "plt.xlabel(\"Predicted\")\n",
    "plt.ylabel(\"Actual\")\n",
    "plt.title(\"Confusion Matrix\")\n",
    "plt.show()"
   ]
  },
  {
   "cell_type": "code",
   "execution_count": 33,
   "metadata": {},
   "outputs": [
    {
     "data": {
      "image/png": "[encoded data removed]",
      "text/plain": [
       "<Figure size 800x600 with 1 Axes>"
      ]
     },
     "metadata": {},
     "output_type": "display_data"
    }
   ],
   "source": [
    "import seaborn as sns\n",
    "import matplotlib.pyplot as plt\n",
    "\n",
    "# Sample confusion matrix\n",
    "conf_matrix = [[21, 9], [14, 10]]\n",
    "\n",
    "# Custom annotations for specific cells\n",
    "custom_annotations = [['A', 'B'], ['C', 'D']]\n",
    "\n",
    "# Create a heatmap using seaborn with custom annotations\n",
    "plt.figure(figsize=(8, 6))\n",
    "sns.heatmap(conf_matrix, annot=custom_annotations, fmt=\"\", cmap='Blues', cbar=False,)\n",
    "plt.show()\n"
   ]
  },
  {
   "cell_type": "code",
   "execution_count": 59,
   "metadata": {},
   "outputs": [
    {
     "name": "stdout",
     "output_type": "stream",
     "text": [
      "20/20 [==============================] - 0s 21ms/step - loss: 0.2170 - acc: 0.9000\n",
      "0.8999999761581421 0.2169923484325409\n"
     ]
    }
   ],
   "source": [
    "# testing the model on first model\n",
    "test_loss1 , test_acc1 = first_model.evaluate(test_generator,steps=20)\n",
    "print(test_acc1,test_loss1)"
   ]
  },
  {
   "cell_type": "markdown",
   "metadata": {},
   "source": [
    "<h5>Testing on the 2nd Model"
   ]
  },
  {
   "cell_type": "code",
   "execution_count": 16,
   "metadata": {},
   "outputs": [
    {
     "ename": "NameError",
     "evalue": "name 'second_model' is not defined",
     "output_type": "error",
     "traceback": [
      "\u001b[1;31m---------------------------------------------------------------------------\u001b[0m",
      "\u001b[1;31mNameError\u001b[0m                                 Traceback (most recent call last)",
      "\u001b[1;32md:\\Mehroz Personals\\PIAIC\\Second Time Admission\\AI\\Quarter 3\\Lung Cancer Detection Assignment\\dataset lung\\lung_Cancer.ipynb Cell 47\u001b[0m line \u001b[0;36m1\n\u001b[1;32m----> <a href='vscode-notebook-cell:/d%3A/Mehroz%20Personals/PIAIC/Second%20Time%20Admission/AI/Quarter%203/Lung%20Cancer%20Detection%20Assignment/dataset%20lung/lung_Cancer.ipynb#X64sZmlsZQ%3D%3D?line=0'>1</a>\u001b[0m test_loss , test_acc \u001b[39m=\u001b[39m second_model\u001b[39m.\u001b[39mevaluate(test_generator,steps \u001b[39m=\u001b[39m \u001b[39m20\u001b[39m)\n\u001b[0;32m      <a href='vscode-notebook-cell:/d%3A/Mehroz%20Personals/PIAIC/Second%20Time%20Admission/AI/Quarter%203/Lung%20Cancer%20Detection%20Assignment/dataset%20lung/lung_Cancer.ipynb#X64sZmlsZQ%3D%3D?line=1'>2</a>\u001b[0m \u001b[39mprint\u001b[39m(test_acc,test_loss)\n",
      "\u001b[1;31mNameError\u001b[0m: name 'second_model' is not defined"
     ]
    }
   ],
   "source": [
    "test_loss , test_acc = second_model.evaluate(test_generator,steps = 20)\n",
    "print(test_acc,test_loss)"
   ]
  },
  {
   "cell_type": "markdown",
   "metadata": {},
   "source": [
    "<h4>Results from above</h4> \n",
    "from the above code we can see that 2nd model which is trained using vgg16 is more accurate "
   ]
  },
  {
   "cell_type": "markdown",
   "metadata": {},
   "source": [
    "<h4>Custome Image Function "
   ]
  },
  {
   "cell_type": "code",
   "execution_count": 157,
   "metadata": {},
   "outputs": [],
   "source": [
    "####         test functions ##########\n",
    "#def test2(image_data):\n",
    "   # If image_data is a numpy array, convert it to PIL Image\n",
    "#   img = image.array_to_img(image_data, data_format='channels_last')\n",
    "#   img = img.resize((150, 150))  # Resize the image if needed\n",
    "#   \n",
    "#   img_arr = image.img_to_array(img)\n",
    "#   img_arr = img_arr * 1./255\n",
    "#   img_arr = np.expand_dims(img_arr, axis=0)\n",
    "#   return img_arr\n",
    "\n",
    "\n",
    "#def testpredict(image_path):\n",
    "#    model = load_model(\"Second_model.h5\")\n",
    "#    image_preprocess = test(image_path)\n",
    "#    result = model.predict(image_preprocess)\n",
    "#    if ( result <= 0.5 ):\n",
    "#        return ('Negative',round(result[0][0]*100,2),'%', result)\n",
    "#    else:\n",
    "#        return ('Positive',  round(result[0][0]*100,2),'%',result)\n",
    "    \n",
    "#testpredict('./Test/positive/NORMAL2-IM-0338-0001.jpeg')"
   ]
  },
  {
   "cell_type": "markdown",
   "metadata": {},
   "source": [
    "<h4>Function for image preprocessing "
   ]
  },
  {
   "cell_type": "code",
   "execution_count": 160,
   "metadata": {},
   "outputs": [],
   "source": [
    "# this is the custome function to return pre-process the image to size (150 150 3)\n",
    " \n",
    "def custom_Image_preprocessing(image_data, target_size=(150, 150)):\n",
    "    img = image.array_to_img(image_data, data_format='channels_last')\n",
    "    img = img.resize(target_size)  # Resize the image if needed\n",
    "    img_arr = image.img_to_array(img)\n",
    "    img_arr = img_arr * 1./255\n",
    "    img_arr = np.expand_dims(img_arr, axis=0)\n",
    "    return img_arr\n"
   ]
  },
  {
   "cell_type": "markdown",
   "metadata": {},
   "source": [
    "<h>Function to predict the custome image"
   ]
  },
  {
   "cell_type": "code",
   "execution_count": 158,
   "metadata": {},
   "outputs": [],
   "source": [
    "# function to predict the custome image\n",
    "\n",
    "def image_predict(image_path):\n",
    "    model = load_model(\"Second_model.h5\")\n",
    "    image_preprocess = custom_Image_preprocessing(image_path)\n",
    "    result = model.predict(image_preprocess)\n",
    "    if ( result <= 0.5 ):\n",
    "        return 'Negative',round(result[0][0]*100,2),'%'\n",
    "    else:\n",
    "        return 'Positive',  round(result[0][0]*100,2),'%'"
   ]
  },
  {
   "cell_type": "markdown",
   "metadata": {},
   "source": [
    "<h2> making the gradio app"
   ]
  },
  {
   "cell_type": "code",
   "execution_count": 159,
   "metadata": {},
   "outputs": [
    {
     "name": "stdout",
     "output_type": "stream",
     "text": [
      "Running on local URL:  http://127.0.0.1:7886\n",
      "\n",
      "To create a public link, set `share=True` in `launch()`.\n"
     ]
    },
    {
     "data": {
      "text/html": [
       "<div><iframe src=\"http://127.0.0.1:7886/\" width=\"100%\" height=\"500\" allow=\"autoplay; camera; microphone; clipboard-read; clipboard-write;\" frameborder=\"0\" allowfullscreen></iframe></div>"
      ],
      "text/plain": [
       "<IPython.core.display.HTML object>"
      ]
     },
     "metadata": {},
     "output_type": "display_data"
    },
    {
     "data": {
      "text/plain": []
     },
     "execution_count": 159,
     "metadata": {},
     "output_type": "execute_result"
    },
    {
     "name": "stdout",
     "output_type": "stream",
     "text": [
      "1/1 [==============================] - 0s 90ms/step\n",
      "1/1 [==============================] - 0s 99ms/step\n",
      "1/1 [==============================] - 0s 83ms/step\n",
      "1/1 [==============================] - 0s 94ms/step\n",
      "1/1 [==============================] - 0s 100ms/step\n",
      "1/1 [==============================] - 0s 83ms/step\n"
     ]
    }
   ],
   "source": [
    "# Define Gradio interface\n",
    "input_component =  gr.components.Image(label = \"Upload the X-Ray\")\n",
    "output_component = gr.components.Textbox(label = \"Prediction\")\n",
    "interface = gr.Interface(fn=image_predict, inputs=input_component, outputs=output_component,title = \"Lung Cancer x-Ray Classification\",description=\"This web app provides predictions based on X-Ray images and predict either the X-ray contains sympotms of lung cancer or not \")\n",
    "interface.launch()\n"
   ]
  },
  {
   "cell_type": "markdown",
   "metadata": {},
   "source": [
    "<h3>One Step Head</h3>\n",
    "Trying to fine tune on VGG19\n"
   ]
  },
  {
   "cell_type": "code",
   "execution_count": 7,
   "metadata": {},
   "outputs": [],
   "source": [
    "from keras.applications import VGG19"
   ]
  },
  {
   "cell_type": "code",
   "execution_count": 8,
   "metadata": {},
   "outputs": [],
   "source": [
    "conv_base2  = VGG19(weights='imagenet',\n",
    "                   include_top = False,\n",
    "                   input_shape = (150,150,3))\n"
   ]
  },
  {
   "cell_type": "code",
   "execution_count": 9,
   "metadata": {},
   "outputs": [
    {
     "name": "stdout",
     "output_type": "stream",
     "text": [
      "Model: \"vgg19\"\n",
      "_________________________________________________________________\n",
      " Layer (type)                Output Shape              Param #   \n",
      "=================================================================\n",
      " input_1 (InputLayer)        [(None, 150, 150, 3)]     0         \n",
      "                                                                 \n",
      " block1_conv1 (Conv2D)       (None, 150, 150, 64)      1792      \n",
      "                                                                 \n",
      " block1_conv2 (Conv2D)       (None, 150, 150, 64)      36928     \n",
      "                                                                 \n",
      " block1_pool (MaxPooling2D)  (None, 75, 75, 64)        0         \n",
      "                                                                 \n",
      " block2_conv1 (Conv2D)       (None, 75, 75, 128)       73856     \n",
      "                                                                 \n",
      " block2_conv2 (Conv2D)       (None, 75, 75, 128)       147584    \n",
      "                                                                 \n",
      " block2_pool (MaxPooling2D)  (None, 37, 37, 128)       0         \n",
      "                                                                 \n",
      " block3_conv1 (Conv2D)       (None, 37, 37, 256)       295168    \n",
      "                                                                 \n",
      " block3_conv2 (Conv2D)       (None, 37, 37, 256)       590080    \n",
      "                                                                 \n",
      " block3_conv3 (Conv2D)       (None, 37, 37, 256)       590080    \n",
      "                                                                 \n",
      " block3_conv4 (Conv2D)       (None, 37, 37, 256)       590080    \n",
      "                                                                 \n",
      " block3_pool (MaxPooling2D)  (None, 18, 18, 256)       0         \n",
      "                                                                 \n",
      " block4_conv1 (Conv2D)       (None, 18, 18, 512)       1180160   \n",
      "                                                                 \n",
      " block4_conv2 (Conv2D)       (None, 18, 18, 512)       2359808   \n",
      "                                                                 \n",
      " block4_conv3 (Conv2D)       (None, 18, 18, 512)       2359808   \n",
      "                                                                 \n",
      " block4_conv4 (Conv2D)       (None, 18, 18, 512)       2359808   \n",
      "                                                                 \n",
      " block4_pool (MaxPooling2D)  (None, 9, 9, 512)         0         \n",
      "                                                                 \n",
      " block5_conv1 (Conv2D)       (None, 9, 9, 512)         2359808   \n",
      "                                                                 \n",
      " block5_conv2 (Conv2D)       (None, 9, 9, 512)         2359808   \n",
      "                                                                 \n",
      " block5_conv3 (Conv2D)       (None, 9, 9, 512)         2359808   \n",
      "                                                                 \n",
      " block5_conv4 (Conv2D)       (None, 9, 9, 512)         2359808   \n",
      "                                                                 \n",
      " block5_pool (MaxPooling2D)  (None, 4, 4, 512)         0         \n",
      "                                                                 \n",
      "=================================================================\n",
      "Total params: 20,024,384\n",
      "Trainable params: 20,024,384\n",
      "Non-trainable params: 0\n",
      "_________________________________________________________________\n"
     ]
    }
   ],
   "source": [
    "conv_base2.summary()"
   ]
  },
  {
   "cell_type": "code",
   "execution_count": 12,
   "metadata": {},
   "outputs": [],
   "source": [
    "# un - freezing the block5_conv1 for fine tunning \n",
    "conv_base2.trainable = True\n",
    "\n",
    "for layer in conv_base2.layers:\n",
    "    if (layer.name == 'block5_conv1'):\n",
    "        layer.trainable = True\n",
    "    else:\n",
    "        layer.trainable = False"
   ]
  },
  {
   "cell_type": "code",
   "execution_count": 14,
   "metadata": {},
   "outputs": [],
   "source": [
    "# maing a new model for vgg19\n",
    "# model 3\n",
    "vgg19_model = Sequential()\n",
    "vgg19_model.add(conv_base2)\n",
    "vgg19_model.add(Flatten())\n",
    "vgg19_model.add(Dense(512,activation = 'relu'))\n",
    "vgg19_model.add(Dropout(0.3))\n",
    "vgg19_model.add(Dense(256,activation = 'relu'))\n",
    "vgg19_model.add(Dropout(0.3))\n",
    "vgg19_model.add(Dense(1,activation = 'sigmoid'))"
   ]
  },
  {
   "cell_type": "code",
   "execution_count": 15,
   "metadata": {},
   "outputs": [
    {
     "name": "stdout",
     "output_type": "stream",
     "text": [
      "Model: \"sequential_1\"\n",
      "_________________________________________________________________\n",
      " Layer (type)                Output Shape              Param #   \n",
      "=================================================================\n",
      " vgg19 (Functional)          (None, 4, 4, 512)         20024384  \n",
      "                                                                 \n",
      " flatten (Flatten)           (None, 8192)              0         \n",
      "                                                                 \n",
      " dense (Dense)               (None, 512)               4194816   \n",
      "                                                                 \n",
      " dropout (Dropout)           (None, 512)               0         \n",
      "                                                                 \n",
      " dense_1 (Dense)             (None, 256)               131328    \n",
      "                                                                 \n",
      " dropout_1 (Dropout)         (None, 256)               0         \n",
      "                                                                 \n",
      " dense_2 (Dense)             (None, 1)                 257       \n",
      "                                                                 \n",
      "=================================================================\n",
      "Total params: 24,350,785\n",
      "Trainable params: 6,686,209\n",
      "Non-trainable params: 17,664,576\n",
      "_________________________________________________________________\n"
     ]
    }
   ],
   "source": [
    "vgg19_model.summary()"
   ]
  },
  {
   "cell_type": "markdown",
   "metadata": {},
   "source": [
    "<h3>Tensorboard"
   ]
  },
  {
   "cell_type": "code",
   "execution_count": 17,
   "metadata": {},
   "outputs": [],
   "source": [
    "from tensorflow.keras.callbacks import TensorBoard"
   ]
  },
  {
   "cell_type": "code",
   "execution_count": 18,
   "metadata": {},
   "outputs": [],
   "source": [
    "tensorboard = TensorBoard(log_dir=\"logs\\\\{}\".format('TensorBoard2'))"
   ]
  },
  {
   "cell_type": "code",
   "execution_count": 20,
   "metadata": {},
   "outputs": [],
   "source": [
    "# now training the model with fine tunning\n",
    "vgg19_model.compile(loss = 'binary_crossentropy',\n",
    "                     optimizer =optimizers.RMSprop(learning_rate=1e-5),\n",
    "                     metrics = ['acc'])"
   ]
  },
  {
   "cell_type": "code",
   "execution_count": 21,
   "metadata": {},
   "outputs": [
    {
     "name": "stdout",
     "output_type": "stream",
     "text": [
      "Epoch 1/10\n",
      "10/10 [==============================] - 13s 509ms/step - loss: 0.7463 - acc: 0.5153 - val_loss: 0.6073 - val_acc: 0.6000\n",
      "Epoch 2/10\n",
      "10/10 [==============================] - 2s 215ms/step - loss: 0.6571 - acc: 0.5800 - val_loss: 0.4876 - val_acc: 0.8000\n",
      "Epoch 3/10\n",
      "10/10 [==============================] - 2s 161ms/step - loss: 0.5533 - acc: 0.7100 - val_loss: 0.4980 - val_acc: 0.7000\n",
      "Epoch 4/10\n",
      "10/10 [==============================] - 2s 152ms/step - loss: 0.5426 - acc: 0.7449 - val_loss: 0.4520 - val_acc: 0.8000\n",
      "Epoch 5/10\n",
      "10/10 [==============================] - 1s 138ms/step - loss: 0.4406 - acc: 0.8214 - val_loss: 0.2133 - val_acc: 1.0000\n",
      "Epoch 6/10\n",
      "10/10 [==============================] - 1s 143ms/step - loss: 0.4094 - acc: 0.8550 - val_loss: 0.2415 - val_acc: 1.0000\n",
      "Epoch 7/10\n",
      "10/10 [==============================] - 1s 131ms/step - loss: 0.3865 - acc: 0.8571 - val_loss: 0.2324 - val_acc: 1.0000\n",
      "Epoch 8/10\n",
      "10/10 [==============================] - 1s 136ms/step - loss: 0.3783 - acc: 0.8571 - val_loss: 0.3153 - val_acc: 0.8000\n",
      "Epoch 9/10\n",
      "10/10 [==============================] - 1s 138ms/step - loss: 0.3060 - acc: 0.8827 - val_loss: 0.0967 - val_acc: 1.0000\n",
      "Epoch 10/10\n",
      "10/10 [==============================] - 1s 131ms/step - loss: 0.3542 - acc: 0.8520 - val_loss: 0.3238 - val_acc: 0.8000\n"
     ]
    }
   ],
   "source": [
    "history3 = vgg19_model.fit(train_generator,\n",
    "                 steps_per_epoch=10,\n",
    "                 epochs=10,\n",
    "                 validation_data = val_genrator,\n",
    "                 validation_steps=10,\n",
    "                 callbacks = [tensorboard])"
   ]
  },
  {
   "cell_type": "code",
   "execution_count": 22,
   "metadata": {},
   "outputs": [
    {
     "data": {
      "text/plain": [
       "<Figure size 640x480 with 0 Axes>"
      ]
     },
     "execution_count": 22,
     "metadata": {},
     "output_type": "execute_result"
    },
    {
     "data": {
      "image/png": "[encoded data removed]",
      "text/plain": [
       "<Figure size 640x480 with 1 Axes>"
      ]
     },
     "metadata": {},
     "output_type": "display_data"
    },
    {
     "data": {
      "image/png": "[encoded data removed]",
      "text/plain": [
       "<Figure size 640x480 with 1 Axes>"
      ]
     },
     "metadata": {},
     "output_type": "display_data"
    },
    {
     "data": {
      "text/plain": [
       "<Figure size 640x480 with 0 Axes>"
      ]
     },
     "metadata": {},
     "output_type": "display_data"
    }
   ],
   "source": [
    "# graph\n",
    "epochs = range(1,len(history3.history['acc'])+1)\n",
    "plt.plot(epochs , history3.history['acc'],'bo',label = 'Training Accuracy')\n",
    "plt.plot(epochs , history3.history['val_acc'],'b',label = 'Validatiion Accuracy')\n",
    "plt.title(\"Training and Validation Accuracy\")\n",
    "plt.legend()\n",
    "plt.figure()\n",
    "\n",
    "plt.plot(epochs , history3.history['loss'],'bo',label = 'Training Loss')\n",
    "plt.plot(epochs , history3.history['val_loss'],'b',label = 'Validatiion Loss')\n",
    "plt.title(\"Training and Validation Loss\")\n",
    "plt.legend()\n",
    "plt.figure()\n"
   ]
  },
  {
   "cell_type": "code",
   "execution_count": 224,
   "metadata": {},
   "outputs": [
    {
     "name": "stdout",
     "output_type": "stream",
     "text": [
      "20/20 [==============================] - 1s 27ms/step - loss: 0.1952 - acc: 0.9000\n",
      "0.8999999761581421 0.19516116380691528\n"
     ]
    }
   ],
   "source": [
    "test_loss1 , test_acc1= vgg19_model.evaluate(test_generator,steps=20)\n",
    "print(test_acc1,test_loss1)"
   ]
  }
 ],
 "metadata": {
  "kernelspec": {
   "display_name": "tf2",
   "language": "python",
   "name": "python3"
  },
  "language_info": {
   "codemirror_mode": {
    "name": "ipython",
    "version": 3
   },
   "file_extension": ".py",
   "mimetype": "text/x-python",
   "name": "python",
   "nbconvert_exporter": "python",
   "pygments_lexer": "ipython3",
   "version": "3.9.18"
  },
  "orig_nbformat": 4
 },
 "nbformat": 4,
 "nbformat_minor": 2
}
