{
 "cells": [
  {
   "cell_type": "markdown",
   "metadata": {},
   "source": [
    "<h1>Advanced LSTM</h1>\n",
    "we will cover following techniques of Advanced LSTM<br>\n",
    "\n",
    "* Recurrent dropout --> This is a specific, built-in way to use dropout to fight overfitting in recurrent layers. <br>\n",
    "* Stacking recurrent layers —> This increases the representational power of the network (at the cost of higher computational loads).<br>\n",
    "* Bidirectional recurrent layers —> These present the same information to a recurrent network in different ways, increasing accuracy and mitigating forgetting issues. <br>\n",
    "\n",
    "All these techniques will be applied on <h3>Temperature Forcasting Problem</h3>"
   ]
  },
  {
   "cell_type": "markdown",
   "metadata": {},
   "source": [
    "<h4>About Temperature Forcasting Problem</h4>\n",
    "\n",
    "In this problem we will play with weather station data to predict the weather for 24hrs\n",
    "\n",
    "In this dataset, 14 different quantities (such air temperature, atmospheric pressure, humidity, wind direction, and so on) were recorded every 10 minutes, over several years. The original data goes back to 2003, but this example is limited to data\n",
    "from 2009–2016. This dataset is perfect for learning to work with numerical\n",
    "timeseries. You’ll use it to build a model that takes as input some data from the recent\n",
    "past (a few days’ worth of data points) and predicts the air temperature 24 hours in\n",
    "the future."
   ]
  },
  {
   "cell_type": "markdown",
   "metadata": {},
   "source": [
    "<h4>Inspecting the data"
   ]
  },
  {
   "cell_type": "code",
   "execution_count": 1,
   "metadata": {},
   "outputs": [
    {
     "data": {
      "text/html": [
       "<div>\n",
       "<style scoped>\n",
       "    .dataframe tbody tr th:only-of-type {\n",
       "        vertical-align: middle;\n",
       "    }\n",
       "\n",
       "    .dataframe tbody tr th {\n",
       "        vertical-align: top;\n",
       "    }\n",
       "\n",
       "    .dataframe thead th {\n",
       "        text-align: right;\n",
       "    }\n",
       "</style>\n",
       "<table border=\"1\" class=\"dataframe\">\n",
       "  <thead>\n",
       "    <tr style=\"text-align: right;\">\n",
       "      <th></th>\n",
       "      <th>Date Time</th>\n",
       "      <th>p (mbar)</th>\n",
       "      <th>T (degC)</th>\n",
       "      <th>Tpot (K)</th>\n",
       "      <th>Tdew (degC)</th>\n",
       "      <th>rh (%)</th>\n",
       "      <th>VPmax (mbar)</th>\n",
       "      <th>VPact (mbar)</th>\n",
       "      <th>VPdef (mbar)</th>\n",
       "      <th>sh (g/kg)</th>\n",
       "      <th>H2OC (mmol/mol)</th>\n",
       "      <th>rho (g/m**3)</th>\n",
       "      <th>wv (m/s)</th>\n",
       "      <th>max. wv (m/s)</th>\n",
       "      <th>wd (deg)</th>\n",
       "    </tr>\n",
       "  </thead>\n",
       "  <tbody>\n",
       "    <tr>\n",
       "      <th>0</th>\n",
       "      <td>01.01.2009 00:10:00</td>\n",
       "      <td>996.52</td>\n",
       "      <td>-8.02</td>\n",
       "      <td>265.40</td>\n",
       "      <td>-8.90</td>\n",
       "      <td>93.30</td>\n",
       "      <td>3.33</td>\n",
       "      <td>3.11</td>\n",
       "      <td>0.22</td>\n",
       "      <td>1.94</td>\n",
       "      <td>3.12</td>\n",
       "      <td>1307.75</td>\n",
       "      <td>1.03</td>\n",
       "      <td>1.75</td>\n",
       "      <td>152.3</td>\n",
       "    </tr>\n",
       "    <tr>\n",
       "      <th>1</th>\n",
       "      <td>01.01.2009 00:20:00</td>\n",
       "      <td>996.57</td>\n",
       "      <td>-8.41</td>\n",
       "      <td>265.01</td>\n",
       "      <td>-9.28</td>\n",
       "      <td>93.40</td>\n",
       "      <td>3.23</td>\n",
       "      <td>3.02</td>\n",
       "      <td>0.21</td>\n",
       "      <td>1.89</td>\n",
       "      <td>3.03</td>\n",
       "      <td>1309.80</td>\n",
       "      <td>0.72</td>\n",
       "      <td>1.50</td>\n",
       "      <td>136.1</td>\n",
       "    </tr>\n",
       "    <tr>\n",
       "      <th>2</th>\n",
       "      <td>01.01.2009 00:30:00</td>\n",
       "      <td>996.53</td>\n",
       "      <td>-8.51</td>\n",
       "      <td>264.91</td>\n",
       "      <td>-9.31</td>\n",
       "      <td>93.90</td>\n",
       "      <td>3.21</td>\n",
       "      <td>3.01</td>\n",
       "      <td>0.20</td>\n",
       "      <td>1.88</td>\n",
       "      <td>3.02</td>\n",
       "      <td>1310.24</td>\n",
       "      <td>0.19</td>\n",
       "      <td>0.63</td>\n",
       "      <td>171.6</td>\n",
       "    </tr>\n",
       "    <tr>\n",
       "      <th>3</th>\n",
       "      <td>01.01.2009 00:40:00</td>\n",
       "      <td>996.51</td>\n",
       "      <td>-8.31</td>\n",
       "      <td>265.12</td>\n",
       "      <td>-9.07</td>\n",
       "      <td>94.20</td>\n",
       "      <td>3.26</td>\n",
       "      <td>3.07</td>\n",
       "      <td>0.19</td>\n",
       "      <td>1.92</td>\n",
       "      <td>3.08</td>\n",
       "      <td>1309.19</td>\n",
       "      <td>0.34</td>\n",
       "      <td>0.50</td>\n",
       "      <td>198.0</td>\n",
       "    </tr>\n",
       "    <tr>\n",
       "      <th>4</th>\n",
       "      <td>01.01.2009 00:50:00</td>\n",
       "      <td>996.51</td>\n",
       "      <td>-8.27</td>\n",
       "      <td>265.15</td>\n",
       "      <td>-9.04</td>\n",
       "      <td>94.10</td>\n",
       "      <td>3.27</td>\n",
       "      <td>3.08</td>\n",
       "      <td>0.19</td>\n",
       "      <td>1.92</td>\n",
       "      <td>3.09</td>\n",
       "      <td>1309.00</td>\n",
       "      <td>0.32</td>\n",
       "      <td>0.63</td>\n",
       "      <td>214.3</td>\n",
       "    </tr>\n",
       "    <tr>\n",
       "      <th>...</th>\n",
       "      <td>...</td>\n",
       "      <td>...</td>\n",
       "      <td>...</td>\n",
       "      <td>...</td>\n",
       "      <td>...</td>\n",
       "      <td>...</td>\n",
       "      <td>...</td>\n",
       "      <td>...</td>\n",
       "      <td>...</td>\n",
       "      <td>...</td>\n",
       "      <td>...</td>\n",
       "      <td>...</td>\n",
       "      <td>...</td>\n",
       "      <td>...</td>\n",
       "      <td>...</td>\n",
       "    </tr>\n",
       "    <tr>\n",
       "      <th>420446</th>\n",
       "      <td>31.12.2016 23:20:00</td>\n",
       "      <td>1000.07</td>\n",
       "      <td>-4.05</td>\n",
       "      <td>269.10</td>\n",
       "      <td>-8.13</td>\n",
       "      <td>73.10</td>\n",
       "      <td>4.52</td>\n",
       "      <td>3.30</td>\n",
       "      <td>1.22</td>\n",
       "      <td>2.06</td>\n",
       "      <td>3.30</td>\n",
       "      <td>1292.98</td>\n",
       "      <td>0.67</td>\n",
       "      <td>1.52</td>\n",
       "      <td>240.0</td>\n",
       "    </tr>\n",
       "    <tr>\n",
       "      <th>420447</th>\n",
       "      <td>31.12.2016 23:30:00</td>\n",
       "      <td>999.93</td>\n",
       "      <td>-3.35</td>\n",
       "      <td>269.81</td>\n",
       "      <td>-8.06</td>\n",
       "      <td>69.71</td>\n",
       "      <td>4.77</td>\n",
       "      <td>3.32</td>\n",
       "      <td>1.44</td>\n",
       "      <td>2.07</td>\n",
       "      <td>3.32</td>\n",
       "      <td>1289.44</td>\n",
       "      <td>1.14</td>\n",
       "      <td>1.92</td>\n",
       "      <td>234.3</td>\n",
       "    </tr>\n",
       "    <tr>\n",
       "      <th>420448</th>\n",
       "      <td>31.12.2016 23:40:00</td>\n",
       "      <td>999.82</td>\n",
       "      <td>-3.16</td>\n",
       "      <td>270.01</td>\n",
       "      <td>-8.21</td>\n",
       "      <td>67.91</td>\n",
       "      <td>4.84</td>\n",
       "      <td>3.28</td>\n",
       "      <td>1.55</td>\n",
       "      <td>2.05</td>\n",
       "      <td>3.28</td>\n",
       "      <td>1288.39</td>\n",
       "      <td>1.08</td>\n",
       "      <td>2.00</td>\n",
       "      <td>215.2</td>\n",
       "    </tr>\n",
       "    <tr>\n",
       "      <th>420449</th>\n",
       "      <td>31.12.2016 23:50:00</td>\n",
       "      <td>999.81</td>\n",
       "      <td>-4.23</td>\n",
       "      <td>268.94</td>\n",
       "      <td>-8.53</td>\n",
       "      <td>71.80</td>\n",
       "      <td>4.46</td>\n",
       "      <td>3.20</td>\n",
       "      <td>1.26</td>\n",
       "      <td>1.99</td>\n",
       "      <td>3.20</td>\n",
       "      <td>1293.56</td>\n",
       "      <td>1.49</td>\n",
       "      <td>2.16</td>\n",
       "      <td>225.8</td>\n",
       "    </tr>\n",
       "    <tr>\n",
       "      <th>420450</th>\n",
       "      <td>01.01.2017 00:00:00</td>\n",
       "      <td>999.82</td>\n",
       "      <td>-4.82</td>\n",
       "      <td>268.36</td>\n",
       "      <td>-8.42</td>\n",
       "      <td>75.70</td>\n",
       "      <td>4.27</td>\n",
       "      <td>3.23</td>\n",
       "      <td>1.04</td>\n",
       "      <td>2.01</td>\n",
       "      <td>3.23</td>\n",
       "      <td>1296.38</td>\n",
       "      <td>1.23</td>\n",
       "      <td>1.96</td>\n",
       "      <td>184.9</td>\n",
       "    </tr>\n",
       "  </tbody>\n",
       "</table>\n",
       "<p>420451 rows × 15 columns</p>\n",
       "</div>"
      ],
      "text/plain": [
       "                  Date Time  p (mbar)  T (degC)  Tpot (K)  Tdew (degC)  \\\n",
       "0       01.01.2009 00:10:00    996.52     -8.02    265.40        -8.90   \n",
       "1       01.01.2009 00:20:00    996.57     -8.41    265.01        -9.28   \n",
       "2       01.01.2009 00:30:00    996.53     -8.51    264.91        -9.31   \n",
       "3       01.01.2009 00:40:00    996.51     -8.31    265.12        -9.07   \n",
       "4       01.01.2009 00:50:00    996.51     -8.27    265.15        -9.04   \n",
       "...                     ...       ...       ...       ...          ...   \n",
       "420446  31.12.2016 23:20:00   1000.07     -4.05    269.10        -8.13   \n",
       "420447  31.12.2016 23:30:00    999.93     -3.35    269.81        -8.06   \n",
       "420448  31.12.2016 23:40:00    999.82     -3.16    270.01        -8.21   \n",
       "420449  31.12.2016 23:50:00    999.81     -4.23    268.94        -8.53   \n",
       "420450  01.01.2017 00:00:00    999.82     -4.82    268.36        -8.42   \n",
       "\n",
       "        rh (%)  VPmax (mbar)  VPact (mbar)  VPdef (mbar)  sh (g/kg)  \\\n",
       "0        93.30          3.33          3.11          0.22       1.94   \n",
       "1        93.40          3.23          3.02          0.21       1.89   \n",
       "2        93.90          3.21          3.01          0.20       1.88   \n",
       "3        94.20          3.26          3.07          0.19       1.92   \n",
       "4        94.10          3.27          3.08          0.19       1.92   \n",
       "...        ...           ...           ...           ...        ...   \n",
       "420446   73.10          4.52          3.30          1.22       2.06   \n",
       "420447   69.71          4.77          3.32          1.44       2.07   \n",
       "420448   67.91          4.84          3.28          1.55       2.05   \n",
       "420449   71.80          4.46          3.20          1.26       1.99   \n",
       "420450   75.70          4.27          3.23          1.04       2.01   \n",
       "\n",
       "        H2OC (mmol/mol)  rho (g/m**3)  wv (m/s)  max. wv (m/s)  wd (deg)  \n",
       "0                  3.12       1307.75      1.03           1.75     152.3  \n",
       "1                  3.03       1309.80      0.72           1.50     136.1  \n",
       "2                  3.02       1310.24      0.19           0.63     171.6  \n",
       "3                  3.08       1309.19      0.34           0.50     198.0  \n",
       "4                  3.09       1309.00      0.32           0.63     214.3  \n",
       "...                 ...           ...       ...            ...       ...  \n",
       "420446             3.30       1292.98      0.67           1.52     240.0  \n",
       "420447             3.32       1289.44      1.14           1.92     234.3  \n",
       "420448             3.28       1288.39      1.08           2.00     215.2  \n",
       "420449             3.20       1293.56      1.49           2.16     225.8  \n",
       "420450             3.23       1296.38      1.23           1.96     184.9  \n",
       "\n",
       "[420451 rows x 15 columns]"
      ]
     },
     "execution_count": 1,
     "metadata": {},
     "output_type": "execute_result"
    }
   ],
   "source": [
    "import pandas as pd\n",
    "\n",
    "file = './jena_climate_2009_2016.csv/jena_climate_2009_2016.csv'\n",
    "data = pd.read_csv(file)\n",
    "data"
   ]
  },
  {
   "cell_type": "code",
   "execution_count": 2,
   "metadata": {},
   "outputs": [
    {
     "name": "stdout",
     "output_type": "stream",
     "text": [
      "<class 'pandas.core.frame.DataFrame'>\n",
      "RangeIndex: 420451 entries, 0 to 420450\n",
      "Data columns (total 15 columns):\n",
      " #   Column           Non-Null Count   Dtype  \n",
      "---  ------           --------------   -----  \n",
      " 0   Date Time        420451 non-null  object \n",
      " 1   p (mbar)         420451 non-null  float64\n",
      " 2   T (degC)         420451 non-null  float64\n",
      " 3   Tpot (K)         420451 non-null  float64\n",
      " 4   Tdew (degC)      420451 non-null  float64\n",
      " 5   rh (%)           420451 non-null  float64\n",
      " 6   VPmax (mbar)     420451 non-null  float64\n",
      " 7   VPact (mbar)     420451 non-null  float64\n",
      " 8   VPdef (mbar)     420451 non-null  float64\n",
      " 9   sh (g/kg)        420451 non-null  float64\n",
      " 10  H2OC (mmol/mol)  420451 non-null  float64\n",
      " 11  rho (g/m**3)     420451 non-null  float64\n",
      " 12  wv (m/s)         420451 non-null  float64\n",
      " 13  max. wv (m/s)    420451 non-null  float64\n",
      " 14  wd (deg)         420451 non-null  float64\n",
      "dtypes: float64(14), object(1)\n",
      "memory usage: 48.1+ MB\n"
     ]
    }
   ],
   "source": [
    "data.info()"
   ]
  },
  {
   "cell_type": "markdown",
   "metadata": {},
   "source": [
    "<h4>Note</h4>\n",
    "datatime is in object but we need it in the form of datatime so \n",
    "converting it, we need them in the form of data time"
   ]
  },
  {
   "cell_type": "code",
   "execution_count": 3,
   "metadata": {},
   "outputs": [
    {
     "name": "stdout",
     "output_type": "stream",
     "text": [
      "<class 'pandas.core.frame.DataFrame'>\n",
      "RangeIndex: 420451 entries, 0 to 420450\n",
      "Data columns (total 15 columns):\n",
      " #   Column           Non-Null Count   Dtype         \n",
      "---  ------           --------------   -----         \n",
      " 0   Date Time        420451 non-null  datetime64[ns]\n",
      " 1   p (mbar)         420451 non-null  float64       \n",
      " 2   T (degC)         420451 non-null  float64       \n",
      " 3   Tpot (K)         420451 non-null  float64       \n",
      " 4   Tdew (degC)      420451 non-null  float64       \n",
      " 5   rh (%)           420451 non-null  float64       \n",
      " 6   VPmax (mbar)     420451 non-null  float64       \n",
      " 7   VPact (mbar)     420451 non-null  float64       \n",
      " 8   VPdef (mbar)     420451 non-null  float64       \n",
      " 9   sh (g/kg)        420451 non-null  float64       \n",
      " 10  H2OC (mmol/mol)  420451 non-null  float64       \n",
      " 11  rho (g/m**3)     420451 non-null  float64       \n",
      " 12  wv (m/s)         420451 non-null  float64       \n",
      " 13  max. wv (m/s)    420451 non-null  float64       \n",
      " 14  wd (deg)         420451 non-null  float64       \n",
      "dtypes: datetime64[ns](1), float64(14)\n",
      "memory usage: 48.1 MB\n"
     ]
    }
   ],
   "source": [
    "data['Date Time']= pd.to_datetime(data['Date Time'],  format=\"%d.%m.%Y %H:%M:%S\")\n",
    "data.info()"
   ]
  },
  {
   "cell_type": "code",
   "execution_count": 4,
   "metadata": {},
   "outputs": [],
   "source": [
    "data.set_index(\"Date Time\",inplace = True, drop = True) # reset the index\n",
    "data_arr = data.values # converting to the numpy array"
   ]
  },
  {
   "cell_type": "code",
   "execution_count": 5,
   "metadata": {},
   "outputs": [
    {
     "name": "stdout",
     "output_type": "stream",
     "text": [
      "(420451, 14)\n"
     ]
    }
   ],
   "source": [
    "print(data_arr.shape)"
   ]
  },
  {
   "cell_type": "markdown",
   "metadata": {},
   "source": [
    "plotting the temperature timeseries\n"
   ]
  },
  {
   "cell_type": "code",
   "execution_count": 6,
   "metadata": {},
   "outputs": [
    {
     "data": {
      "text/plain": [
       "Text(0.5, 1.0, 'Graph of whole data set')"
      ]
     },
     "execution_count": 6,
     "metadata": {},
     "output_type": "execute_result"
    },
    {
     "data": {
      "image/png": "[encoded data removed]",
      "text/plain": [
       "<Figure size 640x480 with 1 Axes>"
      ]
     },
     "metadata": {},
     "output_type": "display_data"
    }
   ],
   "source": [
    "from matplotlib import pyplot as plt\n",
    "temp = data_arr[:,1]  \n",
    "#The line temp = d[:, 1] extracts the second column (index 1) \n",
    "#of the NumPy array d and stores it in a variable named temp. \n",
    "# This column contains temperature data.\n",
    "\n",
    "plt.plot(range(len(temp)),temp)\n",
    "plt.title(\"Graph of whole data set\")"
   ]
  },
  {
   "cell_type": "code",
   "execution_count": 7,
   "metadata": {},
   "outputs": [
    {
     "data": {
      "text/plain": [
       "Text(0.5, 1.0, 'Temperature over first 10 days')"
      ]
     },
     "execution_count": 7,
     "metadata": {},
     "output_type": "execute_result"
    },
    {
     "data": {
      "image/png": "[encoded data removed]",
      "text/plain": [
       "<Figure size 640x480 with 1 Axes>"
      ]
     },
     "metadata": {},
     "output_type": "display_data"
    }
   ],
   "source": [
    "# plotting the temperature of first 10 days\n",
    "\n",
    "plt.plot(range(1440),temp[:1440])\n",
    "plt.title(\"Temperature over first 10 days\")\n"
   ]
  },
  {
   "cell_type": "markdown",
   "metadata": {},
   "source": [
    "<h3>Our target and what we want to do</h3>\n",
    "we want to look back the data of 5 days and then predict the temperature of the next day\n",
    "<br>\n",
    "loockback = 720 means that will go back to 5 days\n",
    "<br>\n",
    "steps = 6 This parameter indicates how frequently you'll sample the data. You'll sample one data point per hour, which means that you'll take temperature readings every hour. This helps in reducing the amount of data and simplifying the problem by summarizing the hourly data.\n",
    "<br>\n",
    "delay = 144: This parameter determines the time into the future you want to predict. You want to predict the temperature 24 hours (144 * 10 minutes) into the future. In other words, you want to forecast what the temperature will be one day from the current time\n",
    "\n",
    "<br><br>\n",
    "But we have to normalize the data as data is in different forms and values\n",
    "<h4> Normalization"
   ]
  },
  {
   "cell_type": "markdown",
   "metadata": {},
   "source": [
    "You’ll preprocess the data by subtracting the mean of each timeseries and dividing by\n",
    "the standard deviation. You’re going to use the first 200,000 timesteps as training data,\n",
    "so compute the mean and standard deviation only on this fraction of the data."
   ]
  },
  {
   "cell_type": "code",
   "execution_count": 8,
   "metadata": {},
   "outputs": [],
   "source": [
    "mean  = data_arr[:200000].mean(axis = 0)\n",
    "data_arr -=mean\n",
    "\n",
    "std = data_arr[:200000].std(axis = 0)\n",
    "data_arr /= std"
   ]
  },
  {
   "cell_type": "code",
   "execution_count": 9,
   "metadata": {},
   "outputs": [
    {
     "data": {
      "text/plain": [
       "array([ 0.90132666, -1.98671006, -2.03683914, -1.92001611,  1.10872183,\n",
       "       -1.32302805, -1.49757814, -0.80281834, -1.49877598, -1.50167321,\n",
       "        2.18235418, -1.27614304, -1.26122763, -0.05330633])"
      ]
     },
     "execution_count": 9,
     "metadata": {},
     "output_type": "execute_result"
    }
   ],
   "source": [
    "data_arr[2]"
   ]
  },
  {
   "cell_type": "markdown",
   "metadata": {},
   "source": [
    "<h4>Data generator</h4>\n",
    "* data—The original array of floating-point data, which you normalized in listing 6.32. <br>\n",
    "* lookback—How many timesteps back the input data should go.\n",
    "<br>\n",
    "* delay—How many timesteps in the future the target should be.\n",
    "<br>\n",
    "* min_index and max_index—Indices in the data array that delimit which timesteps to draw from. This is useful for keeping a segment of the data for validation and another for testing.\n",
    "<br>\n",
    "* shuffle—Whether to shuffle the samples or draw them in chronological order. (here shuffle means the batch we have drawn from the data has to be shuffle or not)\n",
    "<br>\n",
    "* batch_size—The number of samples per batch.\n",
    "<br>\n",
    "* step—The period, in timesteps, at which you sample data. You’ll set it to 6 in order to draw one data point every hour. \n",
    "\n",
    "<br><br>\n",
    "we are making this custome generator so that we can set the lockback and all the things according to our on will"
   ]
  },
  {
   "cell_type": "code",
   "execution_count": 10,
   "metadata": {},
   "outputs": [],
   "source": [
    "import numpy as np"
   ]
  },
  {
   "cell_type": "code",
   "execution_count": 11,
   "metadata": {},
   "outputs": [],
   "source": [
    "def generator(data , lookback , delay , min_index , max_index, shuffle = False,\n",
    "              batch_size = 128, step = 6 ):\n",
    "    if(max_index is None):\n",
    "        max_index = len(data)-delay-1\n",
    "    i = min_index + lookback\n",
    "    while 1:\n",
    "        if shuffle:\n",
    "            rows = np.random.randint(\n",
    "                min_index + lookback , max_index,size=batch_size)\n",
    "        else:\n",
    "            if i + batch_size >= max_index:\n",
    "                i = min_index + lookback\n",
    "            rows = np.arange(i ,min(i + batch_size,max_index))\n",
    "            i +=len(rows)\n",
    "        samples = np.zeros((len(rows), lookback//step , data.shape[-1]))\n",
    "        targets = np.zeros((len(rows),))\n",
    "        for j , row in enumerate(rows):\n",
    "            indices = range(rows[j] - lookback ,rows[j],step)\n",
    "            samples[j] = data[indices]\n",
    "            targets[j] = data[rows[j]+delay][1]\n",
    "        yield samples , targets\n"
   ]
  },
  {
   "cell_type": "markdown",
   "metadata": {},
   "source": [
    "<h3>Abstract Generator</h3>\n",
    "function to instantiate three generators: one for\n",
    "training, one for validation, and one for testing. Each will look at different temporal\n",
    "segments of the original data: the training generator looks at the first 200,000 timesteps, the validation generator looks at the following 100,000, and the test generator\n",
    "looks at the remainder."
   ]
  },
  {
   "cell_type": "code",
   "execution_count": 12,
   "metadata": {},
   "outputs": [],
   "source": [
    "# preparing the training , validation and test generator\n",
    "lookback = 1440\n",
    "step = 6\n",
    "delay = 144\n",
    "batch_size = 128\n",
    "\n",
    "train_gen = generator(data_arr,\n",
    "                      lookback=lookback,\n",
    "                      delay=delay,\n",
    "                      min_index=0,\n",
    "                      max_index=200000,\n",
    "                      shuffle = True,\n",
    "                      step = step,\n",
    "                      batch_size=batch_size)\n"
   ]
  },
  {
   "cell_type": "markdown",
   "metadata": {},
   "source": [
    "validation generator "
   ]
  },
  {
   "cell_type": "code",
   "execution_count": 13,
   "metadata": {},
   "outputs": [],
   "source": [
    "val_gen = generator(data_arr,\n",
    "                    lookback= lookback,\n",
    "                    delay=delay,\n",
    "                    min_index=200001,\n",
    "                    max_index = 300000,\n",
    "                    step =step,\n",
    "                    batch_size=batch_size)"
   ]
  },
  {
   "cell_type": "markdown",
   "metadata": {},
   "source": [
    "test generator"
   ]
  },
  {
   "cell_type": "code",
   "execution_count": 14,
   "metadata": {},
   "outputs": [],
   "source": [
    "test_gen= generator( data_arr,\n",
    "                   lookback=lookback,\n",
    "                   delay= delay,\n",
    "                   min_index=300001,\n",
    "                   max_index=None,\n",
    "                   step = step,\n",
    "                   batch_size=batch_size)"
   ]
  },
  {
   "cell_type": "code",
   "execution_count": 15,
   "metadata": {},
   "outputs": [],
   "source": [
    "#How many steps to draw from val_gen in \n",
    "# order to see the entire validation set\n",
    "val_steps = (300000 - 200001 - lookback)\n",
    "# How many steps to draw from \n",
    "# test_gen in order to see the entire test set\n",
    "test_steps = (len(data_arr) - 300001 - lookback)"
   ]
  },
  {
   "cell_type": "code",
   "execution_count": 16,
   "metadata": {},
   "outputs": [],
   "source": [
    "# this function is basically calculating the error \n",
    "# for our common sence technique\n",
    "# Mean Absolute Error\n",
    "def evaluate_naive_method():\n",
    "    batch_maes = []\n",
    "    for step in range(val_steps):\n",
    "        samples, targets = next(val_gen)\n",
    "        preds = samples[:, -1, 1]\n",
    "        mae = np.mean(np.abs(preds - targets))\n",
    "        batch_maes.append(mae)\n",
    "    print(np.mean(batch_maes))"
   ]
  },
  {
   "cell_type": "markdown",
   "metadata": {},
   "source": [
    "Explanation of above code<br>\n",
    "batch_maes = []: This line initializes an empty list called batch_maes. This list will be used to store the Mean Absolute Error (MAE) values for each batch of predictions.\n",
    "\n",
    "for step in range(val_steps):: This is a for loop that iterates val_steps times. val_steps likely represents the number of validation steps or batches you want to evaluate the baseline on.\n",
    "\n",
    "samples, targets = next(val_gen): Within each iteration of the loop, this line uses the next() function to retrieve the next batch of validation data from the generator val_gen. The samples variable contains the input data (historical temperature values), and the targets variable contains the true target values (actual temperatures).\n",
    "\n",
    "preds = samples[:, -1, 1]: This line extracts the predicted temperature values from the last timestep of each sample in the batch. It assumes that the temperature 24 hours from now will be the same as the temperature right now, which is a simple naive baseline approach.\n",
    "\n",
    "mae = np.mean(np.abs(preds - targets)): This line calculates the Mean Absolute Error (MAE) between the predicted temperatures (preds) and the actual target temperatures (targets) for the current batch. MAE measures the average absolute difference between the predictions and the true values.\n",
    "\n",
    "batch_maes.append(mae): The calculated MAE for the current batch is added to the batch_maes list. This allows you to keep track of the MAE for each batch.\n",
    "\n",
    "After the loop has finished running, np.mean(batch_maes) calculates the mean of all the MAE values stored in the batch_maes list. This represents the overall MAE for the entire validation dataset using the naive baseline approach.\n",
    "\n",
    "Finally, print(np.mean(batch_maes)) prints the calculated mean MAE to the console."
   ]
  },
  {
   "cell_type": "code",
   "execution_count": 17,
   "metadata": {},
   "outputs": [
    {
     "name": "stdout",
     "output_type": "stream",
     "text": [
      "0.2896994197960971\n"
     ]
    }
   ],
   "source": [
    "evaluate_naive_method()"
   ]
  },
  {
   "cell_type": "code",
   "execution_count": 25,
   "metadata": {},
   "outputs": [
    {
     "data": {
      "text/plain": [
       "2.567224733839344"
      ]
     },
     "execution_count": 25,
     "metadata": {},
     "output_type": "execute_result"
    }
   ],
   "source": [
    "c = 0.29 * std[1]\n",
    "c"
   ]
  },
  {
   "cell_type": "code",
   "execution_count": 43,
   "metadata": {},
   "outputs": [
    {
     "name": "stdout",
     "output_type": "stream",
     "text": [
      "240 14\n"
     ]
    }
   ],
   "source": [
    "print(lookback // step ,data_arr.shape[-1])"
   ]
  },
  {
   "cell_type": "markdown",
   "metadata": {},
   "source": [
    "<h3>Making the model just using Simple Dense layer</h3>\n",
    "as the model just have 2 layers so it is very complex "
   ]
  },
  {
   "cell_type": "code",
   "execution_count": 15,
   "metadata": {},
   "outputs": [],
   "source": [
    "from keras.models import Sequential\n",
    "from keras.layers import Flatten, Dense\n",
    "from keras.optimizers import RMSprop\n",
    "\n",
    "model1 = Sequential()\n",
    "model1.add(Flatten(input_shape = (lookback //step , data_arr.shape[-1])))\n",
    "model1.add(Dense(32,activation='relu'))\n",
    "model1.add(Dense(1))\n"
   ]
  },
  {
   "cell_type": "code",
   "execution_count": 16,
   "metadata": {},
   "outputs": [
    {
     "name": "stdout",
     "output_type": "stream",
     "text": [
      "Epoch 1/20\n",
      "500/500 [==============================] - 1122s 2s/step - loss: 1.1481 - val_loss: 0.7441\n",
      "Epoch 2/20\n",
      "500/500 [==============================] - 591s 1s/step - loss: 0.3783 - val_loss: 0.3199\n",
      "Epoch 3/20\n",
      "500/500 [==============================] - 657s 1s/step - loss: 0.2860 - val_loss: 0.2940\n",
      "Epoch 4/20\n",
      "500/500 [==============================] - 764s 2s/step - loss: 0.2648 - val_loss: 0.3050\n",
      "Epoch 5/20\n",
      "500/500 [==============================] - 529s 1s/step - loss: 0.2513 - val_loss: 0.3057\n",
      "Epoch 6/20\n",
      "500/500 [==============================] - 527s 1s/step - loss: 0.2433 - val_loss: 0.3258\n",
      "Epoch 7/20\n",
      "500/500 [==============================] - 556s 1s/step - loss: 0.2376 - val_loss: 0.3079\n",
      "Epoch 8/20\n",
      "500/500 [==============================] - 488s 977ms/step - loss: 0.2314 - val_loss: 0.3342\n",
      "Epoch 9/20\n",
      "500/500 [==============================] - 505s 1s/step - loss: 0.2282 - val_loss: 0.3138\n",
      "Epoch 10/20\n",
      "500/500 [==============================] - 507s 1s/step - loss: 0.2245 - val_loss: 0.3470\n",
      "Epoch 11/20\n",
      "500/500 [==============================] - 451s 904ms/step - loss: 0.2209 - val_loss: 0.3133\n",
      "Epoch 12/20\n",
      "500/500 [==============================] - 454s 909ms/step - loss: 0.2182 - val_loss: 0.3105\n",
      "Epoch 13/20\n",
      "500/500 [==============================] - 462s 925ms/step - loss: 0.2148 - val_loss: 0.3414\n",
      "Epoch 14/20\n",
      "500/500 [==============================] - 861s 2s/step - loss: 0.2120 - val_loss: 0.3314\n",
      "Epoch 15/20\n",
      "500/500 [==============================] - 1255s 3s/step - loss: 0.2099 - val_loss: 0.3740\n",
      "Epoch 16/20\n",
      "500/500 [==============================] - 1225s 2s/step - loss: 0.2088 - val_loss: 0.3228\n",
      "Epoch 17/20\n",
      "500/500 [==============================] - 3081s 6s/step - loss: 0.2051 - val_loss: 0.3256\n",
      "Epoch 18/20\n",
      "500/500 [==============================] - 1142s 2s/step - loss: 0.2025 - val_loss: 0.4041\n",
      "Epoch 19/20\n",
      "500/500 [==============================] - 925s 2s/step - loss: 0.2013 - val_loss: 0.3289\n",
      "Epoch 20/20\n",
      "500/500 [==============================] - 684s 1s/step - loss: 0.2004 - val_loss: 0.3285\n"
     ]
    }
   ],
   "source": [
    "model1.compile(loss='mae',optimizer=RMSprop())\n",
    "history = model1.fit(train_gen,\n",
    "                     steps_per_epoch=500,\n",
    "                     epochs=20,\n",
    "                     validation_data=val_gen,\n",
    "                     validation_steps=val_steps)"
   ]
  },
  {
   "cell_type": "code",
   "execution_count": null,
   "metadata": {},
   "outputs": [],
   "source": [
    "model1.save(\"Simple.h5\")"
   ]
  },
  {
   "cell_type": "code",
   "execution_count": 19,
   "metadata": {},
   "outputs": [
    {
     "data": {
      "image/png": "[encoded data removed]",
      "text/plain": [
       "<Figure size 640x480 with 1 Axes>"
      ]
     },
     "metadata": {},
     "output_type": "display_data"
    }
   ],
   "source": [
    "import matplotlib.pyplot as plt\n",
    "loss = history.history['loss']\n",
    "val_loss = history.history['val_loss']\n",
    "epochs  = range(1,len(loss)+1)\n",
    "plt.figure()\n",
    "plt.plot(epochs,loss,'bo',label = \"Training loss\")\n",
    "plt.plot(epochs,val_loss,'b',label = \"Validation loss\")\n",
    "plt.legend()\n",
    "plt.show()"
   ]
  },
  {
   "cell_type": "markdown",
   "metadata": {},
   "source": [
    "<h1> About the model</h1>\n",
    "The text you provided discusses an important concept in machine learning: the common-sense baseline and the limitations of the model training process. Let's break it down:\n",
    "\n",
    "1. **Common-Sense Baseline:** The common-sense baseline is a simple, intuitive approach to solving a problem. In the context of the text, it's the idea that you can predict future temperatures by assuming they will be the same as the current temperature. This baseline provides a benchmark for how well a machine learning model should perform. If a model can't outperform this basic approach, it may not be adding much value.\n",
    "\n",
    "2. **Difficulty of Outperforming Common Sense:** The text points out that some of the validation losses (error) of the machine learning model are close to the losses of the common-sense baseline, but not consistently better. This suggests that it's not easy for the machine learning model to outperform common sense in this particular task.\n",
    "\n",
    "3. **The Role of Hypothesis Space:** The text explains that the reason the model doesn't reliably outperform the common-sense baseline is because the model's search space, or \"hypothesis space,\" is limited. The model is configured as a two-layer neural network with specific parameters, making it a relatively complex model. The hypothesis space represents all the possible model configurations the training process explores.\n",
    "\n",
    "4. **Complexity of Model:** The two-layer neural network model is already fairly complex. It has the capacity to learn patterns and relationships in the data, but it doesn't start with an innate understanding of common-sense principles like humans do.\n",
    "\n",
    "5. **Training Objective:** The training process aims to find the best model within the defined hypothesis space. This process involves adjusting the model's weights and biases to minimize a loss function (in this case, Mean Absolute Error or MAE). The model doesn't inherently \"know\" that it should mimic the common-sense baseline; it's trying to minimize its loss based on the data it's given.\n",
    "\n",
    "In summary, the text highlights that machine learning models, including neural networks, don't possess inherent common sense or prior knowledge. They learn patterns and relationships from data based on the model architecture and training objective. If the model's search space is not designed to replicate common sense, it may not naturally converge to a solution that mirrors common sense. This is why it's important to carefully design model architectures and objectives to align with the problem at hand. Sometimes, even simple solutions like the common-sense baseline can be challenging for models to discover."
   ]
  },
  {
   "cell_type": "markdown",
   "metadata": {},
   "source": [
    "<h1> Now using Recurrent baseline</h1>\n",
    "Here we will use GRU (Gated Recurrent Unit) works similar to lstm."
   ]
  },
  {
   "cell_type": "code",
   "execution_count": 18,
   "metadata": {},
   "outputs": [],
   "source": [
    "from keras.layers import GRU,Dense\n",
    "from keras.models import Sequential\n",
    "from keras.optimizers import RMSprop"
   ]
  },
  {
   "cell_type": "code",
   "execution_count": 19,
   "metadata": {},
   "outputs": [
    {
     "data": {
      "text/plain": [
       "array([ 1.28927851, -1.56987861, -1.65150386, -1.79581591,  0.0206812 ,\n",
       "       -1.18517138, -1.44517325, -0.62927697, -1.45000738, -1.45228543,\n",
       "        1.85615089, -0.5993525 , -0.690577  ,  0.10024989])"
      ]
     },
     "execution_count": 19,
     "metadata": {},
     "output_type": "execute_result"
    }
   ],
   "source": [
    "data_arr[-1]"
   ]
  },
  {
   "cell_type": "code",
   "execution_count": 18,
   "metadata": {},
   "outputs": [
    {
     "name": "stdout",
     "output_type": "stream",
     "text": [
      "Epoch 1/20\n",
      "500/500 [==============================] - 1029s 2s/step - loss: 0.3070 - val_loss: 0.2704\n",
      "Epoch 2/20\n",
      "500/500 [==============================] - 1301s 3s/step - loss: 0.2837 - val_loss: 0.2677\n",
      "Epoch 3/20\n",
      "500/500 [==============================] - 953s 2s/step - loss: 0.2756 - val_loss: 0.2655\n",
      "Epoch 4/20\n",
      "500/500 [==============================] - 1307s 3s/step - loss: 0.2706 - val_loss: 0.2629\n",
      "Epoch 5/20\n",
      "500/500 [==============================] - 1744s 3s/step - loss: 0.2662 - val_loss: 0.2649\n",
      "Epoch 6/20\n",
      "500/500 [==============================] - 1605s 3s/step - loss: 0.2628 - val_loss: 0.2637\n",
      "Epoch 7/20\n",
      "500/500 [==============================] - 1076s 2s/step - loss: 0.2585 - val_loss: 0.2637\n",
      "Epoch 8/20\n",
      "500/500 [==============================] - 3443s 7s/step - loss: 0.2557 - val_loss: 0.2692\n",
      "Epoch 9/20\n",
      "500/500 [==============================] - 2678s 5s/step - loss: 0.2522 - val_loss: 0.2714\n",
      "Epoch 10/20\n",
      "500/500 [==============================] - 2434s 5s/step - loss: 0.2457 - val_loss: 0.2728\n",
      "Epoch 11/20\n",
      "500/500 [==============================] - 1678s 3s/step - loss: 0.2454 - val_loss: 0.2767\n",
      "Epoch 12/20\n",
      "500/500 [==============================] - 1270s 3s/step - loss: 0.2409 - val_loss: 0.2752\n",
      "Epoch 13/20\n",
      "500/500 [==============================] - 1000s 2s/step - loss: 0.2368 - val_loss: 0.2791\n",
      "Epoch 14/20\n",
      "500/500 [==============================] - 1301s 3s/step - loss: 0.2332 - val_loss: 0.2849\n",
      "Epoch 15/20\n",
      "500/500 [==============================] - 965s 2s/step - loss: 0.2291 - val_loss: 0.2879\n",
      "Epoch 16/20\n",
      "500/500 [==============================] - 866s 2s/step - loss: 0.2260 - val_loss: 0.2923\n",
      "Epoch 17/20\n",
      "500/500 [==============================] - 1283s 3s/step - loss: 0.2224 - val_loss: 0.2965\n",
      "Epoch 18/20\n",
      "500/500 [==============================] - 912s 2s/step - loss: 0.2192 - val_loss: 0.3043\n",
      "Epoch 19/20\n",
      "500/500 [==============================] - 820s 2s/step - loss: 0.2150 - val_loss: 0.3079\n",
      "Epoch 20/20\n",
      "500/500 [==============================] - 898s 2s/step - loss: 0.2119 - val_loss: 0.3034\n"
     ]
    },
    {
     "data": {
      "text/plain": [
       "<keras.callbacks.History at 0x20f79efc0d0>"
      ]
     },
     "execution_count": 18,
     "metadata": {},
     "output_type": "execute_result"
    }
   ],
   "source": [
    "model2 = Sequential()\n",
    "model2.add(GRU(32, input_shape=(None, data_arr.shape[-1])))\n",
    "model2.add(Dense(1))\n",
    "\n",
    "model2.compile(optimizer = RMSprop(), loss = 'mae')\n",
    "\n",
    "model2.fit(train_gen,\n",
    "           steps_per_epoch = 500,\n",
    "           epochs = 20,\n",
    "           validation_data = val_gen,\n",
    "           validation_steps = val_steps)"
   ]
  },
  {
   "cell_type": "code",
   "execution_count": 19,
   "metadata": {},
   "outputs": [],
   "source": [
    "model2.save(\"Model2.h5\")"
   ]
  },
  {
   "cell_type": "code",
   "execution_count": 21,
   "metadata": {},
   "outputs": [
    {
     "data": {
      "text/plain": [
       "{'loss': [0.30700281262397766,\n",
       "  0.2837027907371521,\n",
       "  0.27562329173088074,\n",
       "  0.27064836025238037,\n",
       "  0.26622337102890015,\n",
       "  0.26275399327278137,\n",
       "  0.25850820541381836,\n",
       "  0.25565269589424133,\n",
       "  0.25224652886390686,\n",
       "  0.24568411707878113,\n",
       "  0.24544645845890045,\n",
       "  0.2408939003944397,\n",
       "  0.2368064969778061,\n",
       "  0.2331574410200119,\n",
       "  0.22911927103996277,\n",
       "  0.2260321080684662,\n",
       "  0.2223692238330841,\n",
       "  0.21922454237937927,\n",
       "  0.2150413990020752,\n",
       "  0.21190233528614044],\n",
       " 'val_loss': [0.2704387307167053,\n",
       "  0.2676951587200165,\n",
       "  0.2655084729194641,\n",
       "  0.2628828287124634,\n",
       "  0.2648552358150482,\n",
       "  0.2637041509151459,\n",
       "  0.26370304822921753,\n",
       "  0.26918184757232666,\n",
       "  0.2713695466518402,\n",
       "  0.2727924883365631,\n",
       "  0.27667030692100525,\n",
       "  0.27523067593574524,\n",
       "  0.279063880443573,\n",
       "  0.28493115305900574,\n",
       "  0.28788691759109497,\n",
       "  0.2923101484775543,\n",
       "  0.29650264978408813,\n",
       "  0.3043343126773834,\n",
       "  0.30787092447280884,\n",
       "  0.3034425377845764]}"
      ]
     },
     "execution_count": 21,
     "metadata": {},
     "output_type": "execute_result"
    }
   ],
   "source": [
    "model2.history.history"
   ]
  },
  {
   "cell_type": "code",
   "execution_count": 23,
   "metadata": {},
   "outputs": [
    {
     "data": {
      "image/png": "[encoded data removed]",
      "text/plain": [
       "<Figure size 640x480 with 1 Axes>"
      ]
     },
     "metadata": {},
     "output_type": "display_data"
    }
   ],
   "source": [
    "import matplotlib.pyplot as plt\n",
    "loss = model2.history.history['loss']\n",
    "val_loss = model2.history.history['val_loss']\n",
    "epochs  = range(1,len(loss)+1)\n",
    "plt.figure()\n",
    "plt.plot(epochs,loss,'bo',label = \"Training loss\")\n",
    "plt.plot(epochs,val_loss,'b',label = \"Validation loss\")\n",
    "plt.legend()\n",
    "plt.show()"
   ]
  },
  {
   "cell_type": "markdown",
   "metadata": {},
   "source": []
  },
  {
   "cell_type": "markdown",
   "metadata": {},
   "source": [
    "<h4>testing the model2"
   ]
  },
  {
   "cell_type": "code",
   "execution_count": 26,
   "metadata": {},
   "outputs": [
    {
     "name": "stdout",
     "output_type": "stream",
     "text": [
      "119010/119010 [==============================] - 1156s 10ms/step - loss: 0.3231\n"
     ]
    },
    {
     "data": {
      "text/plain": [
       "0.32313355803489685"
      ]
     },
     "execution_count": 26,
     "metadata": {},
     "output_type": "execute_result"
    }
   ],
   "source": [
    "model2.evaluate(test_gen,steps=test_steps)"
   ]
  },
  {
   "cell_type": "markdown",
   "metadata": {},
   "source": [
    "<h4>giving the custome data to it"
   ]
  },
  {
   "cell_type": "code",
   "execution_count": 6,
   "metadata": {},
   "outputs": [
    {
     "name": "stdout",
     "output_type": "stream",
     "text": [
      "(10, 14)\n"
     ]
    },
    {
     "data": {
      "text/plain": [
       "14"
      ]
     },
     "execution_count": 6,
     "metadata": {},
     "output_type": "execute_result"
    }
   ],
   "source": [
    "custome_ar = data_arr[300012:300022]\n",
    "print(custome_ar.shape)\n",
    "data_arr.shape[-1]"
   ]
  },
  {
   "cell_type": "code",
   "execution_count": 7,
   "metadata": {},
   "outputs": [
    {
     "data": {
      "text/plain": [
       "(1, 10, 14)"
      ]
     },
     "execution_count": 7,
     "metadata": {},
     "output_type": "execute_result"
    }
   ],
   "source": [
    "custome_ar = custome_ar.reshape((1, custome_ar.shape[0], custome_ar.shape[1]))\n",
    "\n",
    "custome_ar.shape"
   ]
  },
  {
   "cell_type": "code",
   "execution_count": 61,
   "metadata": {},
   "outputs": [
    {
     "data": {
      "text/plain": [
       "array([[ 0.53460014,  0.6238522 ,  0.5756224 ,  1.3943151 ,  1.41361234,\n",
       "         0.42358994,  1.71103023, -0.80901625,  1.68994059,  1.68971835,\n",
       "        -0.52776906, -0.02668357, -0.02124243, -1.83097933],\n",
       "       [ 0.53460014,  0.62159295,  0.57338857,  1.39152409,  1.41361234,\n",
       "         0.42098887,  1.70626614, -0.80901625,  1.68618916,  1.68266295,\n",
       "        -0.52588621, -0.64490571, -0.2100291 , -1.95024517],\n",
       "       [ 0.53106259,  0.61594483,  0.56892092,  1.38733756,  1.41959059,\n",
       "         0.4144862 ,  1.69673798, -0.81314819,  1.6786863 ,  1.67560755,\n",
       "        -0.52117909, -0.72950452, -0.50179032, -1.4663699 ],\n",
       "       [ 0.52162911,  0.61029671,  0.56333635,  1.38036002,  1.41959059,\n",
       "         0.40668299,  1.68482778, -0.81314819,  1.66368057,  1.66384856,\n",
       "        -0.51811947, -0.6318905 , -0.12421698, -1.81412278],\n",
       "       [ 0.51691237,  0.60916708,  0.56333635,  1.37896452,  1.41959059,\n",
       "         0.40538245,  1.68244574, -0.81314819,  1.66368057,  1.66149676,\n",
       "        -0.51835482, -0.65792091,  0.15038182,  0.05175845],\n",
       "       [ 0.53460014,  0.60690783,  0.55886869,  1.3761735 ,  1.41959059,\n",
       "         0.40278138,  1.67529962, -0.81314819,  1.65617771,  1.65444136,\n",
       "        -0.51176486,  0.18806727,  0.11605697, -1.76159039],\n",
       "       [ 0.53342096,  0.60351896,  0.55551795,  1.37477799,  1.42556883,\n",
       "         0.39887978,  1.67291758, -0.81728013,  1.65242628,  1.65208956,\n",
       "        -0.50894059,  0.09045325,  0.04740727, -1.77232778],\n",
       "       [ 0.52162911,  0.60351896,  0.55663486,  1.37477799,  1.42556883,\n",
       "         0.39887978,  1.67291758, -0.81728013,  1.65242628,  1.65208956,\n",
       "        -0.5115295 , -0.65141331, -0.25293516, -1.87392889],\n",
       "       [ 0.52280829,  0.60238934,  0.55551795,  1.37338248,  1.42556883,\n",
       "         0.39757925,  1.67053554, -0.81728013,  1.65242628,  1.64973776,\n",
       "        -0.51035272, -0.45618527, -0.45030305, -1.54349438],\n",
       "       [ 0.53342096,  0.60238934,  0.55440103,  1.37338248,  1.42556883,\n",
       "         0.39757925,  1.67053554, -0.81728013,  1.64867485,  1.64973776,\n",
       "        -0.50776381, -0.45618527, -0.4846279 , -1.57778475]])"
      ]
     },
     "execution_count": 61,
     "metadata": {},
     "output_type": "execute_result"
    }
   ],
   "source": [
    "custome_ar[0]"
   ]
  },
  {
   "cell_type": "code",
   "execution_count": 62,
   "metadata": {},
   "outputs": [
    {
     "name": "stdout",
     "output_type": "stream",
     "text": [
      "1/1 [==============================] - 0s 19ms/step\n"
     ]
    },
    {
     "data": {
      "text/plain": [
       "array([[0.7366706]], dtype=float32)"
      ]
     },
     "execution_count": 62,
     "metadata": {},
     "output_type": "execute_result"
    }
   ],
   "source": [
    "model2.predict(custome_ar)"
   ]
  },
  {
   "cell_type": "code",
   "execution_count": 63,
   "metadata": {},
   "outputs": [
    {
     "data": {
      "text/html": [
       "<div>\n",
       "<style scoped>\n",
       "    .dataframe tbody tr th:only-of-type {\n",
       "        vertical-align: middle;\n",
       "    }\n",
       "\n",
       "    .dataframe tbody tr th {\n",
       "        vertical-align: top;\n",
       "    }\n",
       "\n",
       "    .dataframe thead th {\n",
       "        text-align: right;\n",
       "    }\n",
       "</style>\n",
       "<table border=\"1\" class=\"dataframe\">\n",
       "  <thead>\n",
       "    <tr style=\"text-align: right;\">\n",
       "      <th></th>\n",
       "      <th>p (mbar)</th>\n",
       "      <th>T (degC)</th>\n",
       "      <th>Tpot (K)</th>\n",
       "      <th>Tdew (degC)</th>\n",
       "      <th>rh (%)</th>\n",
       "      <th>VPmax (mbar)</th>\n",
       "      <th>VPact (mbar)</th>\n",
       "      <th>VPdef (mbar)</th>\n",
       "      <th>sh (g/kg)</th>\n",
       "      <th>H2OC (mmol/mol)</th>\n",
       "      <th>rho (g/m**3)</th>\n",
       "      <th>wv (m/s)</th>\n",
       "      <th>max. wv (m/s)</th>\n",
       "      <th>wd (deg)</th>\n",
       "    </tr>\n",
       "    <tr>\n",
       "      <th>Date Time</th>\n",
       "      <th></th>\n",
       "      <th></th>\n",
       "      <th></th>\n",
       "      <th></th>\n",
       "      <th></th>\n",
       "      <th></th>\n",
       "      <th></th>\n",
       "      <th></th>\n",
       "      <th></th>\n",
       "      <th></th>\n",
       "      <th></th>\n",
       "      <th></th>\n",
       "      <th></th>\n",
       "      <th></th>\n",
       "    </tr>\n",
       "  </thead>\n",
       "  <tbody>\n",
       "    <tr>\n",
       "      <th>2014-09-13 04:20:00</th>\n",
       "      <td>0.534600</td>\n",
       "      <td>0.623852</td>\n",
       "      <td>0.575622</td>\n",
       "      <td>1.394315</td>\n",
       "      <td>1.413612</td>\n",
       "      <td>0.423590</td>\n",
       "      <td>1.711030</td>\n",
       "      <td>-0.809016</td>\n",
       "      <td>1.689941</td>\n",
       "      <td>1.689718</td>\n",
       "      <td>-0.527769</td>\n",
       "      <td>-0.026684</td>\n",
       "      <td>-0.021242</td>\n",
       "      <td>-1.830979</td>\n",
       "    </tr>\n",
       "    <tr>\n",
       "      <th>2014-09-13 04:30:00</th>\n",
       "      <td>0.534600</td>\n",
       "      <td>0.621593</td>\n",
       "      <td>0.573389</td>\n",
       "      <td>1.391524</td>\n",
       "      <td>1.413612</td>\n",
       "      <td>0.420989</td>\n",
       "      <td>1.706266</td>\n",
       "      <td>-0.809016</td>\n",
       "      <td>1.686189</td>\n",
       "      <td>1.682663</td>\n",
       "      <td>-0.525886</td>\n",
       "      <td>-0.644906</td>\n",
       "      <td>-0.210029</td>\n",
       "      <td>-1.950245</td>\n",
       "    </tr>\n",
       "    <tr>\n",
       "      <th>2014-09-13 04:40:00</th>\n",
       "      <td>0.531063</td>\n",
       "      <td>0.615945</td>\n",
       "      <td>0.568921</td>\n",
       "      <td>1.387338</td>\n",
       "      <td>1.419591</td>\n",
       "      <td>0.414486</td>\n",
       "      <td>1.696738</td>\n",
       "      <td>-0.813148</td>\n",
       "      <td>1.678686</td>\n",
       "      <td>1.675608</td>\n",
       "      <td>-0.521179</td>\n",
       "      <td>-0.729505</td>\n",
       "      <td>-0.501790</td>\n",
       "      <td>-1.466370</td>\n",
       "    </tr>\n",
       "    <tr>\n",
       "      <th>2014-09-13 04:50:00</th>\n",
       "      <td>0.521629</td>\n",
       "      <td>0.610297</td>\n",
       "      <td>0.563336</td>\n",
       "      <td>1.380360</td>\n",
       "      <td>1.419591</td>\n",
       "      <td>0.406683</td>\n",
       "      <td>1.684828</td>\n",
       "      <td>-0.813148</td>\n",
       "      <td>1.663681</td>\n",
       "      <td>1.663849</td>\n",
       "      <td>-0.518119</td>\n",
       "      <td>-0.631891</td>\n",
       "      <td>-0.124217</td>\n",
       "      <td>-1.814123</td>\n",
       "    </tr>\n",
       "    <tr>\n",
       "      <th>2014-09-13 05:00:00</th>\n",
       "      <td>0.516912</td>\n",
       "      <td>0.609167</td>\n",
       "      <td>0.563336</td>\n",
       "      <td>1.378965</td>\n",
       "      <td>1.419591</td>\n",
       "      <td>0.405382</td>\n",
       "      <td>1.682446</td>\n",
       "      <td>-0.813148</td>\n",
       "      <td>1.663681</td>\n",
       "      <td>1.661497</td>\n",
       "      <td>-0.518355</td>\n",
       "      <td>-0.657921</td>\n",
       "      <td>0.150382</td>\n",
       "      <td>0.051758</td>\n",
       "    </tr>\n",
       "    <tr>\n",
       "      <th>2014-09-13 05:10:00</th>\n",
       "      <td>0.534600</td>\n",
       "      <td>0.606908</td>\n",
       "      <td>0.558869</td>\n",
       "      <td>1.376174</td>\n",
       "      <td>1.419591</td>\n",
       "      <td>0.402781</td>\n",
       "      <td>1.675300</td>\n",
       "      <td>-0.813148</td>\n",
       "      <td>1.656178</td>\n",
       "      <td>1.654441</td>\n",
       "      <td>-0.511765</td>\n",
       "      <td>0.188067</td>\n",
       "      <td>0.116057</td>\n",
       "      <td>-1.761590</td>\n",
       "    </tr>\n",
       "    <tr>\n",
       "      <th>2014-09-13 05:20:00</th>\n",
       "      <td>0.533421</td>\n",
       "      <td>0.603519</td>\n",
       "      <td>0.555518</td>\n",
       "      <td>1.374778</td>\n",
       "      <td>1.425569</td>\n",
       "      <td>0.398880</td>\n",
       "      <td>1.672918</td>\n",
       "      <td>-0.817280</td>\n",
       "      <td>1.652426</td>\n",
       "      <td>1.652090</td>\n",
       "      <td>-0.508941</td>\n",
       "      <td>0.090453</td>\n",
       "      <td>0.047407</td>\n",
       "      <td>-1.772328</td>\n",
       "    </tr>\n",
       "    <tr>\n",
       "      <th>2014-09-13 05:30:00</th>\n",
       "      <td>0.521629</td>\n",
       "      <td>0.603519</td>\n",
       "      <td>0.556635</td>\n",
       "      <td>1.374778</td>\n",
       "      <td>1.425569</td>\n",
       "      <td>0.398880</td>\n",
       "      <td>1.672918</td>\n",
       "      <td>-0.817280</td>\n",
       "      <td>1.652426</td>\n",
       "      <td>1.652090</td>\n",
       "      <td>-0.511530</td>\n",
       "      <td>-0.651413</td>\n",
       "      <td>-0.252935</td>\n",
       "      <td>-1.873929</td>\n",
       "    </tr>\n",
       "    <tr>\n",
       "      <th>2014-09-13 05:40:00</th>\n",
       "      <td>0.522808</td>\n",
       "      <td>0.602389</td>\n",
       "      <td>0.555518</td>\n",
       "      <td>1.373382</td>\n",
       "      <td>1.425569</td>\n",
       "      <td>0.397579</td>\n",
       "      <td>1.670536</td>\n",
       "      <td>-0.817280</td>\n",
       "      <td>1.652426</td>\n",
       "      <td>1.649738</td>\n",
       "      <td>-0.510353</td>\n",
       "      <td>-0.456185</td>\n",
       "      <td>-0.450303</td>\n",
       "      <td>-1.543494</td>\n",
       "    </tr>\n",
       "    <tr>\n",
       "      <th>2014-09-13 05:50:00</th>\n",
       "      <td>0.533421</td>\n",
       "      <td>0.602389</td>\n",
       "      <td>0.554401</td>\n",
       "      <td>1.373382</td>\n",
       "      <td>1.425569</td>\n",
       "      <td>0.397579</td>\n",
       "      <td>1.670536</td>\n",
       "      <td>-0.817280</td>\n",
       "      <td>1.648675</td>\n",
       "      <td>1.649738</td>\n",
       "      <td>-0.507764</td>\n",
       "      <td>-0.456185</td>\n",
       "      <td>-0.484628</td>\n",
       "      <td>-1.577785</td>\n",
       "    </tr>\n",
       "  </tbody>\n",
       "</table>\n",
       "</div>"
      ],
      "text/plain": [
       "                     p (mbar)  T (degC)  Tpot (K)  Tdew (degC)    rh (%)  \\\n",
       "Date Time                                                                  \n",
       "2014-09-13 04:20:00  0.534600  0.623852  0.575622     1.394315  1.413612   \n",
       "2014-09-13 04:30:00  0.534600  0.621593  0.573389     1.391524  1.413612   \n",
       "2014-09-13 04:40:00  0.531063  0.615945  0.568921     1.387338  1.419591   \n",
       "2014-09-13 04:50:00  0.521629  0.610297  0.563336     1.380360  1.419591   \n",
       "2014-09-13 05:00:00  0.516912  0.609167  0.563336     1.378965  1.419591   \n",
       "2014-09-13 05:10:00  0.534600  0.606908  0.558869     1.376174  1.419591   \n",
       "2014-09-13 05:20:00  0.533421  0.603519  0.555518     1.374778  1.425569   \n",
       "2014-09-13 05:30:00  0.521629  0.603519  0.556635     1.374778  1.425569   \n",
       "2014-09-13 05:40:00  0.522808  0.602389  0.555518     1.373382  1.425569   \n",
       "2014-09-13 05:50:00  0.533421  0.602389  0.554401     1.373382  1.425569   \n",
       "\n",
       "                     VPmax (mbar)  VPact (mbar)  VPdef (mbar)  sh (g/kg)  \\\n",
       "Date Time                                                                  \n",
       "2014-09-13 04:20:00      0.423590      1.711030     -0.809016   1.689941   \n",
       "2014-09-13 04:30:00      0.420989      1.706266     -0.809016   1.686189   \n",
       "2014-09-13 04:40:00      0.414486      1.696738     -0.813148   1.678686   \n",
       "2014-09-13 04:50:00      0.406683      1.684828     -0.813148   1.663681   \n",
       "2014-09-13 05:00:00      0.405382      1.682446     -0.813148   1.663681   \n",
       "2014-09-13 05:10:00      0.402781      1.675300     -0.813148   1.656178   \n",
       "2014-09-13 05:20:00      0.398880      1.672918     -0.817280   1.652426   \n",
       "2014-09-13 05:30:00      0.398880      1.672918     -0.817280   1.652426   \n",
       "2014-09-13 05:40:00      0.397579      1.670536     -0.817280   1.652426   \n",
       "2014-09-13 05:50:00      0.397579      1.670536     -0.817280   1.648675   \n",
       "\n",
       "                     H2OC (mmol/mol)  rho (g/m**3)  wv (m/s)  max. wv (m/s)  \\\n",
       "Date Time                                                                     \n",
       "2014-09-13 04:20:00         1.689718     -0.527769 -0.026684      -0.021242   \n",
       "2014-09-13 04:30:00         1.682663     -0.525886 -0.644906      -0.210029   \n",
       "2014-09-13 04:40:00         1.675608     -0.521179 -0.729505      -0.501790   \n",
       "2014-09-13 04:50:00         1.663849     -0.518119 -0.631891      -0.124217   \n",
       "2014-09-13 05:00:00         1.661497     -0.518355 -0.657921       0.150382   \n",
       "2014-09-13 05:10:00         1.654441     -0.511765  0.188067       0.116057   \n",
       "2014-09-13 05:20:00         1.652090     -0.508941  0.090453       0.047407   \n",
       "2014-09-13 05:30:00         1.652090     -0.511530 -0.651413      -0.252935   \n",
       "2014-09-13 05:40:00         1.649738     -0.510353 -0.456185      -0.450303   \n",
       "2014-09-13 05:50:00         1.649738     -0.507764 -0.456185      -0.484628   \n",
       "\n",
       "                     wd (deg)  \n",
       "Date Time                      \n",
       "2014-09-13 04:20:00 -1.830979  \n",
       "2014-09-13 04:30:00 -1.950245  \n",
       "2014-09-13 04:40:00 -1.466370  \n",
       "2014-09-13 04:50:00 -1.814123  \n",
       "2014-09-13 05:00:00  0.051758  \n",
       "2014-09-13 05:10:00 -1.761590  \n",
       "2014-09-13 05:20:00 -1.772328  \n",
       "2014-09-13 05:30:00 -1.873929  \n",
       "2014-09-13 05:40:00 -1.543494  \n",
       "2014-09-13 05:50:00 -1.577785  "
      ]
     },
     "execution_count": 63,
     "metadata": {},
     "output_type": "execute_result"
    }
   ],
   "source": [
    "data.iloc[300012:300022]"
   ]
  },
  {
   "cell_type": "code",
   "execution_count": 64,
   "metadata": {},
   "outputs": [
    {
     "data": {
      "text/plain": [
       "p (mbar)           0.542854\n",
       "T (degC)           0.601260\n",
       "Tpot (K)           0.553284\n",
       "Tdew (degC)        1.373382\n",
       "rh (%)             1.431547\n",
       "VPmax (mbar)       0.396279\n",
       "VPact (mbar)       1.670536\n",
       "VPdef (mbar)      -0.819346\n",
       "sh (g/kg)          1.652426\n",
       "H2OC (mmol/mol)    1.649738\n",
       "rho (g/m**3)      -0.504469\n",
       "wv (m/s)          -0.495231\n",
       "max. wv (m/s)     -0.381653\n",
       "wd (deg)          -1.699937\n",
       "Name: 2014-09-13 06:10:00, dtype: float64"
      ]
     },
     "execution_count": 64,
     "metadata": {},
     "output_type": "execute_result"
    }
   ],
   "source": [
    "data.iloc[300023]"
   ]
  },
  {
   "cell_type": "markdown",
   "metadata": {},
   "source": [
    "<h2>Using Recurrent Dropout to fight overfitting</h2>\n",
    "while using lstm and gru we have to apply droput at inner recurrent activation of the layer for proper propogation.\n",
    "A temporally random dropout mask would disrupt this\n",
    "error signal and be harmful to the learning process\n"
   ]
  },
  {
   "cell_type": "code",
   "execution_count": 21,
   "metadata": {},
   "outputs": [
    {
     "name": "stdout",
     "output_type": "stream",
     "text": [
      "WARNING:tensorflow:Layer gru will not use cuDNN kernels since it doesn't meet the criteria. It will use a generic GPU kernel as fallback when running on GPU.\n"
     ]
    }
   ],
   "source": [
    "from keras.models import Sequential\n",
    "from keras import layers\n",
    "from keras.optimizers import RMSprop\n",
    "\n",
    "\n",
    "# making a new model with recurrent layer\n",
    "# Every recurrent layer in Keras has two dropout-related\n",
    "# arguments: dropout, a float specifying the dropout \n",
    "# rate for input units of the layer,\n",
    "# and recurrent_dropout, specifying the \n",
    "# dropout rate of the recurrent units. \n",
    "model3 = Sequential()\n",
    "model3.add(layers.GRU(32,dropout=0.2, \n",
    "                      recurrent_dropout=0.2,\n",
    "                      input_shape = (None, data_arr.shape[-1])))\n",
    "model3.add(layers.Dense(1))\n"
   ]
  },
  {
   "cell_type": "code",
   "execution_count": 22,
   "metadata": {},
   "outputs": [],
   "source": [
    "model3.compile(optimizer = RMSprop(),loss = 'mae')"
   ]
  },
  {
   "cell_type": "code",
   "execution_count": 23,
   "metadata": {},
   "outputs": [
    {
     "name": "stdout",
     "output_type": "stream",
     "text": [
      "Model: \"sequential_1\"\n",
      "_________________________________________________________________\n",
      " Layer (type)                Output Shape              Param #   \n",
      "=================================================================\n",
      " gru (GRU)                   (None, 32)                4608      \n",
      "                                                                 \n",
      " dense (Dense)               (None, 1)                 33        \n",
      "                                                                 \n",
      "=================================================================\n",
      "Total params: 4,641\n",
      "Trainable params: 4,641\n",
      "Non-trainable params: 0\n",
      "_________________________________________________________________\n"
     ]
    }
   ],
   "source": [
    "model3.summary()"
   ]
  },
  {
   "cell_type": "code",
   "execution_count": null,
   "metadata": {},
   "outputs": [],
   "source": [
    "model3.fit(train_gen,steps_per_epoch=500,\n",
    "           epochs=40,  # our epochs will get double in GRU\n",
    "           validation_data= val_gen, \n",
    "           validation_steps=val_steps)"
   ]
  },
  {
   "cell_type": "markdown",
   "metadata": {},
   "source": [
    "<h3> Stacking the Recurring layers for increasing the model performance"
   ]
  },
  {
   "cell_type": "markdown",
   "metadata": {},
   "source": [
    "To stack recurrent layers on top of each other in Keras, <ins>all intermediate layers should return their full sequence of outputs (a 3D tensor) rather than their output at\n",
    "the last timestep. This is done by specifying return_sequences=True<ins>"
   ]
  },
  {
   "cell_type": "code",
   "execution_count": 26,
   "metadata": {},
   "outputs": [
    {
     "name": "stdout",
     "output_type": "stream",
     "text": [
      "WARNING:tensorflow:Layer gru_3 will not use cuDNN kernels since it doesn't meet the criteria. It will use a generic GPU kernel as fallback when running on GPU.\n",
      "WARNING:tensorflow:Layer gru_4 will not use cuDNN kernels since it doesn't meet the criteria. It will use a generic GPU kernel as fallback when running on GPU.\n"
     ]
    }
   ],
   "source": [
    "# making an stack model\n",
    "\n",
    "stackmodel = Sequential()\n",
    "stackmodel.add(layers.GRU(32,\n",
    "                          dropout=0.1,\n",
    "                          recurrent_dropout=0.5,\n",
    "                          return_sequences=True,\n",
    "                          input_shape=(None,data_arr.shape[-1])))\n",
    "stackmodel.add(layers.GRU(64,activation='relu',\n",
    "                          dropout=0.1,\n",
    "                          recurrent_dropout=0.1))\n",
    "stackmodel.add(layers.Dense(1))\n",
    "\n",
    "stackmodel.compile(optimizer = RMSprop(),loss = 'mae')\n",
    "\n"
   ]
  },
  {
   "cell_type": "code",
   "execution_count": 29,
   "metadata": {},
   "outputs": [
    {
     "name": "stdout",
     "output_type": "stream",
     "text": [
      "Model: \"sequential_3\"\n",
      "_________________________________________________________________\n",
      " Layer (type)                Output Shape              Param #   \n",
      "=================================================================\n",
      " gru_3 (GRU)                 (None, None, 32)          4608      \n",
      "                                                                 \n",
      " gru_4 (GRU)                 (None, 64)                18816     \n",
      "                                                                 \n",
      " dense_2 (Dense)             (None, 1)                 65        \n",
      "                                                                 \n",
      "=================================================================\n",
      "Total params: 23,489\n",
      "Trainable params: 23,489\n",
      "Non-trainable params: 0\n",
      "_________________________________________________________________\n"
     ]
    }
   ],
   "source": [
    "stackmodel.summary()"
   ]
  },
  {
   "cell_type": "code",
   "execution_count": null,
   "metadata": {},
   "outputs": [],
   "source": [
    "history = stackmodel.fit(train_gen,\n",
    "steps_per_epoch=500,\n",
    "epochs=40,\n",
    "validation_data=val_gen,\n",
    "validation_steps=val_steps)"
   ]
  },
  {
   "cell_type": "markdown",
   "metadata": {},
   "source": [
    "<h2>Bi-Directionall RNN</h2>\n",
    "<h3>Difference between RNN and Bi-Directional RNN</h3>\n",
    "Simple RNN is order dependent and time dependent , they process the data in order. Shuffling the data or change the data will completly change the representations.\n",
    "<br><ins>So Simple RNN performs better in the situations where order matters\n",
    "</ins>\n",
    "\n",
    "<br><br>\n",
    "<ins>A bidirectional RNN  exploits the order sensitivity of RNNs:</ins> it consists of using two regular RNNs, such as the GRU and LSTM layers\n",
    "you’re already familiar with, each of which processes the input sequence in one direction (chronologically and antichronologically), and then merging their representations. By processing a sequence both ways, a bidirectional RNN can catch patterns that\n",
    "may be overlooked by a unidirectional RNN"
   ]
  },
  {
   "cell_type": "markdown",
   "metadata": {},
   "source": [
    "<h3>Training LSTM reversed on imdb"
   ]
  },
  {
   "cell_type": "code",
   "execution_count": 35,
   "metadata": {},
   "outputs": [],
   "source": [
    "from keras.datasets import imdb\n",
    "from tensorflow.keras.preprocessing import sequence\n",
    "from keras import layers\n",
    "from keras.models import Sequential"
   ]
  },
  {
   "cell_type": "code",
   "execution_count": 36,
   "metadata": {},
   "outputs": [],
   "source": [
    "max_features = 10000\n",
    "maxlen = 500"
   ]
  },
  {
   "cell_type": "code",
   "execution_count": 37,
   "metadata": {},
   "outputs": [],
   "source": [
    "(x_train, y_train), (x_test, y_test) = imdb.load_data(\n",
    "num_words=max_features)"
   ]
  },
  {
   "cell_type": "code",
   "execution_count": 38,
   "metadata": {},
   "outputs": [],
   "source": [
    "x_train = [x[::-1] for x in x_train]\n",
    "x_test = [x[::-1] for x in x_test]"
   ]
  },
  {
   "cell_type": "code",
   "execution_count": 39,
   "metadata": {},
   "outputs": [],
   "source": [
    "x_train = sequence.pad_sequences(x_train, maxlen=maxlen)\n",
    "x_test = sequence.pad_sequences(x_test, maxlen=maxlen)"
   ]
  },
  {
   "cell_type": "code",
   "execution_count": 40,
   "metadata": {},
   "outputs": [],
   "source": [
    "model = Sequential()\n",
    "model.add(layers.Embedding(max_features, 128))\n",
    "model.add(layers.LSTM(32))\n",
    "model.add(layers.Dense(1, activation='sigmoid'))"
   ]
  },
  {
   "cell_type": "code",
   "execution_count": 41,
   "metadata": {},
   "outputs": [],
   "source": [
    "model.compile(optimizer='rmsprop',\n",
    "loss='binary_crossentropy',\n",
    "metrics=['acc'])"
   ]
  },
  {
   "cell_type": "code",
   "execution_count": 42,
   "metadata": {},
   "outputs": [
    {
     "name": "stdout",
     "output_type": "stream",
     "text": [
      "Epoch 1/10\n",
      "157/157 [==============================] - 9s 38ms/step - loss: 0.4829 - acc: 0.7770 - val_loss: 0.4246 - val_acc: 0.8162\n",
      "Epoch 2/10\n",
      "157/157 [==============================] - 5s 35ms/step - loss: 0.3102 - acc: 0.8819 - val_loss: 0.5781 - val_acc: 0.8076\n",
      "Epoch 3/10\n",
      "157/157 [==============================] - 5s 34ms/step - loss: 0.2555 - acc: 0.9047 - val_loss: 0.3452 - val_acc: 0.8782\n",
      "Epoch 4/10\n",
      "157/157 [==============================] - 6s 35ms/step - loss: 0.2125 - acc: 0.9250 - val_loss: 0.3185 - val_acc: 0.8778\n",
      "Epoch 5/10\n",
      "157/157 [==============================] - 5s 35ms/step - loss: 0.1875 - acc: 0.9348 - val_loss: 0.3247 - val_acc: 0.8708\n",
      "Epoch 6/10\n",
      "157/157 [==============================] - 6s 35ms/step - loss: 0.1676 - acc: 0.9402 - val_loss: 0.3564 - val_acc: 0.8636\n",
      "Epoch 7/10\n",
      "157/157 [==============================] - 5s 35ms/step - loss: 0.1581 - acc: 0.9446 - val_loss: 0.3585 - val_acc: 0.8730\n",
      "Epoch 8/10\n",
      "157/157 [==============================] - 6s 36ms/step - loss: 0.1325 - acc: 0.9547 - val_loss: 0.4045 - val_acc: 0.8724\n",
      "Epoch 9/10\n",
      "157/157 [==============================] - 6s 36ms/step - loss: 0.1200 - acc: 0.9603 - val_loss: 0.3904 - val_acc: 0.8670\n",
      "Epoch 10/10\n",
      "157/157 [==============================] - 6s 35ms/step - loss: 0.1057 - acc: 0.9658 - val_loss: 0.5085 - val_acc: 0.8684\n"
     ]
    }
   ],
   "source": [
    "history = model.fit(x_train, y_train,\n",
    "epochs=10,\n",
    "batch_size=128,\n",
    "validation_split=0.2)"
   ]
  },
  {
   "cell_type": "code",
   "execution_count": 45,
   "metadata": {},
   "outputs": [
    {
     "data": {
      "image/png": "[encoded data removed]",
      "text/plain": [
       "<Figure size 640x480 with 1 Axes>"
      ]
     },
     "metadata": {},
     "output_type": "display_data"
    },
    {
     "data": {
      "image/png": "[encoded data removed]",
      "text/plain": [
       "<Figure size 640x480 with 1 Axes>"
      ]
     },
     "metadata": {},
     "output_type": "display_data"
    }
   ],
   "source": [
    "import matplotlib.pyplot as plt\n",
    "acc= model.history.history['acc']\n",
    "val_acc = model.history.history['val_acc']\n",
    "epochs  = range(1,len(acc)+1)\n",
    "plt.figure()\n",
    "plt.plot(epochs,acc,'bo',label = \"Training Acc\")\n",
    "plt.plot(epochs,val_acc,'b',label = \"Validation Acc\")\n",
    "plt.legend()\n",
    "\n",
    "\n",
    "\n",
    "loss = model.history.history['loss']\n",
    "val_loss = model.history.history['val_loss']\n",
    "epochs  = range(1,len(loss)+1)\n",
    "plt.figure()\n",
    "plt.plot(epochs,loss,'bo',label = \"Training loss\")\n",
    "plt.plot(epochs,val_loss,'b',label = \"Validation loss\")\n",
    "plt.legend()\n",
    "plt.show()"
   ]
  },
  {
   "cell_type": "code",
   "execution_count": 46,
   "metadata": {},
   "outputs": [],
   "source": [
    "#using bidirectional\n",
    "modelbi = Sequential()\n",
    "modelbi.add(layers.Embedding(max_features, 32))\n",
    "modelbi.add(layers.Bidirectional(layers.LSTM(32)))\n",
    "modelbi.add(layers.Dense(1, activation='sigmoid'))"
   ]
  },
  {
   "cell_type": "code",
   "execution_count": 47,
   "metadata": {},
   "outputs": [
    {
     "name": "stdout",
     "output_type": "stream",
     "text": [
      "Epoch 1/10\n",
      "157/157 [==============================] - 13s 69ms/step - loss: 0.6027 - acc: 0.6807 - val_loss: 0.5402 - val_acc: 0.7354\n",
      "Epoch 2/10\n",
      "157/157 [==============================] - 10s 65ms/step - loss: 0.3962 - acc: 0.8345 - val_loss: 0.3954 - val_acc: 0.8616\n",
      "Epoch 3/10\n",
      "157/157 [==============================] - 10s 63ms/step - loss: 0.2943 - acc: 0.8888 - val_loss: 0.3766 - val_acc: 0.8524\n",
      "Epoch 4/10\n",
      "157/157 [==============================] - 10s 65ms/step - loss: 0.2486 - acc: 0.9087 - val_loss: 0.3759 - val_acc: 0.8412\n",
      "Epoch 5/10\n",
      "157/157 [==============================] - 10s 65ms/step - loss: 0.2224 - acc: 0.9222 - val_loss: 0.3569 - val_acc: 0.8762\n",
      "Epoch 6/10\n",
      "157/157 [==============================] - 10s 66ms/step - loss: 0.1942 - acc: 0.9330 - val_loss: 0.3137 - val_acc: 0.8800\n",
      "Epoch 7/10\n",
      "157/157 [==============================] - 11s 69ms/step - loss: 0.1775 - acc: 0.9415 - val_loss: 0.4493 - val_acc: 0.8714\n",
      "Epoch 8/10\n",
      "157/157 [==============================] - 10s 66ms/step - loss: 0.1632 - acc: 0.9467 - val_loss: 0.5386 - val_acc: 0.8044\n",
      "Epoch 9/10\n",
      "157/157 [==============================] - 10s 65ms/step - loss: 0.1452 - acc: 0.9503 - val_loss: 0.3845 - val_acc: 0.8806\n",
      "Epoch 10/10\n",
      "157/157 [==============================] - 10s 64ms/step - loss: 0.1328 - acc: 0.9543 - val_loss: 0.8209 - val_acc: 0.8090\n"
     ]
    }
   ],
   "source": [
    "modelbi.compile(optimizer='rmsprop', loss='binary_crossentropy', metrics=['acc'])\n",
    "history = modelbi.fit(x_train, y_train,\n",
    "epochs=10,\n",
    "batch_size=128,\n",
    "validation_split=0.2)"
   ]
  },
  {
   "cell_type": "code",
   "execution_count": 48,
   "metadata": {},
   "outputs": [
    {
     "data": {
      "image/png": "[encoded data removed]",
      "text/plain": [
       "<Figure size 640x480 with 1 Axes>"
      ]
     },
     "metadata": {},
     "output_type": "display_data"
    },
    {
     "data": {
      "image/png": "[encoded data removed]",
      "text/plain": [
       "<Figure size 640x480 with 1 Axes>"
      ]
     },
     "metadata": {},
     "output_type": "display_data"
    }
   ],
   "source": [
    "acc= modelbi.history.history['acc']\n",
    "val_acc = modelbi.history.history['val_acc']\n",
    "epochs  = range(1,len(acc)+1)\n",
    "plt.figure()\n",
    "plt.plot(epochs,acc,'bo',label = \"Training Acc\")\n",
    "plt.plot(epochs,val_acc,'b',label = \"Validation Acc\")\n",
    "plt.legend()\n",
    "\n",
    "\n",
    "\n",
    "loss = modelbi.history.history['loss']\n",
    "val_loss = modelbi.history.history['val_loss']\n",
    "epochs  = range(1,len(loss)+1)\n",
    "plt.figure()\n",
    "plt.plot(epochs,loss,'bo',label = \"Training loss\")\n",
    "plt.plot(epochs,val_loss,'b',label = \"Validation loss\")\n",
    "plt.legend()\n",
    "plt.show()"
   ]
  },
  {
   "cell_type": "markdown",
   "metadata": {},
   "source": [
    "<h3>Using ConV for Text Preprocessing"
   ]
  },
  {
   "cell_type": "code",
   "execution_count": 50,
   "metadata": {},
   "outputs": [
    {
     "name": "stdout",
     "output_type": "stream",
     "text": [
      "Loading data...\n",
      "25000 train sequences\n",
      "25000 test sequences\n",
      "Pad sequences (samples x time)\n",
      "x_train shape: (25000, 500)\n",
      "x_test shape: (25000, 500)\n"
     ]
    }
   ],
   "source": [
    "from keras.datasets import imdb\n",
    "from tensorflow.keras.preprocessing import sequence\n",
    "max_features = 10000\n",
    "max_len = 500\n",
    "print('Loading data...')\n",
    "(x_train, y_train), (x_test, y_test) = imdb.load_data(num_words=max_features)\n",
    "print(len(x_train), 'train sequences')\n",
    "print(len(x_test), 'test sequences')\n",
    "print('Pad sequences (samples x time)')\n",
    "x_train = sequence.pad_sequences(x_train, maxlen=max_len)\n",
    "x_test = sequence.pad_sequences(x_test, maxlen=max_len)\n",
    "print('x_train shape:', x_train.shape)\n",
    "print('x_test shape:', x_test.shape)"
   ]
  },
  {
   "cell_type": "code",
   "execution_count": 51,
   "metadata": {},
   "outputs": [
    {
     "name": "stdout",
     "output_type": "stream",
     "text": [
      "Model: \"sequential_6\"\n",
      "_________________________________________________________________\n",
      " Layer (type)                Output Shape              Param #   \n",
      "=================================================================\n",
      " embedding_2 (Embedding)     (None, 500, 128)          1280000   \n",
      "                                                                 \n",
      " conv1d (Conv1D)             (None, 494, 32)           28704     \n",
      "                                                                 \n",
      " max_pooling1d (MaxPooling1D  (None, 98, 32)           0         \n",
      " )                                                               \n",
      "                                                                 \n",
      " conv1d_1 (Conv1D)           (None, 92, 32)            7200      \n",
      "                                                                 \n",
      " global_max_pooling1d (Globa  (None, 32)               0         \n",
      " lMaxPooling1D)                                                  \n",
      "                                                                 \n",
      " dense_5 (Dense)             (None, 1)                 33        \n",
      "                                                                 \n",
      "=================================================================\n",
      "Total params: 1,315,937\n",
      "Trainable params: 1,315,937\n",
      "Non-trainable params: 0\n",
      "_________________________________________________________________\n",
      "Epoch 1/10\n"
     ]
    },
    {
     "name": "stderr",
     "output_type": "stream",
     "text": [
      "c:\\Users\\M_ros\\anaconda3\\envs\\tf2\\lib\\site-packages\\keras\\optimizers\\optimizer_v2\\rmsprop.py:140: UserWarning: The `lr` argument is deprecated, use `learning_rate` instead.\n",
      "  super().__init__(name, **kwargs)\n"
     ]
    },
    {
     "name": "stdout",
     "output_type": "stream",
     "text": [
      "157/157 [==============================] - 6s 12ms/step - loss: 0.8348 - acc: 0.5102 - val_loss: 0.6921 - val_acc: 0.5038\n",
      "Epoch 2/10\n",
      "157/157 [==============================] - 2s 11ms/step - loss: 0.6730 - acc: 0.6328 - val_loss: 0.6719 - val_acc: 0.5778\n",
      "Epoch 3/10\n",
      "157/157 [==============================] - 2s 11ms/step - loss: 0.6339 - acc: 0.7473 - val_loss: 0.6297 - val_acc: 0.7310\n",
      "Epoch 4/10\n",
      "157/157 [==============================] - 2s 11ms/step - loss: 0.5613 - acc: 0.8059 - val_loss: 0.5348 - val_acc: 0.7800\n",
      "Epoch 5/10\n",
      "157/157 [==============================] - 2s 11ms/step - loss: 0.4390 - acc: 0.8418 - val_loss: 0.4335 - val_acc: 0.8242\n",
      "Epoch 6/10\n",
      "157/157 [==============================] - 2s 10ms/step - loss: 0.3528 - acc: 0.8755 - val_loss: 0.4088 - val_acc: 0.8466\n",
      "Epoch 7/10\n",
      "157/157 [==============================] - 2s 11ms/step - loss: 0.3069 - acc: 0.8953 - val_loss: 0.4132 - val_acc: 0.8570\n",
      "Epoch 8/10\n",
      "157/157 [==============================] - 2s 11ms/step - loss: 0.2696 - acc: 0.9098 - val_loss: 0.4332 - val_acc: 0.8580\n",
      "Epoch 9/10\n",
      "157/157 [==============================] - 2s 11ms/step - loss: 0.2452 - acc: 0.9190 - val_loss: 0.4405 - val_acc: 0.8656\n",
      "Epoch 10/10\n",
      "157/157 [==============================] - 2s 12ms/step - loss: 0.2210 - acc: 0.9272 - val_loss: 0.4459 - val_acc: 0.8686\n"
     ]
    }
   ],
   "source": [
    "from keras.models import Sequential\n",
    "from keras import layers\n",
    "from keras.optimizers import RMSprop\n",
    "model = Sequential()\n",
    "model.add(layers.Embedding(max_features, 128, input_length=max_len))\n",
    "model.add(layers.Conv1D(32, 7, activation='relu'))\n",
    "model.add(layers.MaxPooling1D(5))\n",
    "model.add(layers.Conv1D(32, 7, activation='relu'))\n",
    "model.add(layers.GlobalMaxPooling1D())\n",
    "model.add(layers.Dense(1))\n",
    "model.summary()\n",
    "model.compile(optimizer=RMSprop(lr=1e-4),\n",
    "loss='binary_crossentropy',\n",
    "metrics=['acc'])\n",
    "history = model.fit(x_train, y_train,\n",
    "epochs=10,\n",
    "batch_size=128,\n",
    "validation_split=0.2)"
   ]
  },
  {
   "cell_type": "code",
   "execution_count": 52,
   "metadata": {},
   "outputs": [
    {
     "data": {
      "image/png": "[encoded data removed]",
      "text/plain": [
       "<Figure size 640x480 with 1 Axes>"
      ]
     },
     "metadata": {},
     "output_type": "display_data"
    },
    {
     "data": {
      "image/png": "[encoded data removed]",
      "text/plain": [
       "<Figure size 640x480 with 1 Axes>"
      ]
     },
     "metadata": {},
     "output_type": "display_data"
    }
   ],
   "source": [
    "acc= model.history.history['acc']\n",
    "val_acc = model.history.history['val_acc']\n",
    "epochs  = range(1,len(acc)+1)\n",
    "plt.figure()\n",
    "plt.plot(epochs,acc,'bo',label = \"Training Acc\")\n",
    "plt.plot(epochs,val_acc,'b',label = \"Validation Acc\")\n",
    "plt.legend()\n",
    "\n",
    "\n",
    "\n",
    "loss = model.history.history['loss']\n",
    "val_loss = model.history.history['val_loss']\n",
    "epochs  = range(1,len(loss)+1)\n",
    "plt.figure()\n",
    "plt.plot(epochs,loss,'bo',label = \"Training loss\")\n",
    "plt.plot(epochs,val_loss,'b',label = \"Validation loss\")\n",
    "plt.legend()\n",
    "plt.show()"
   ]
  }
 ],
 "metadata": {
  "kernelspec": {
   "display_name": "base",
   "language": "python",
   "name": "python3"
  },
  "language_info": {
   "codemirror_mode": {
    "name": "ipython",
    "version": 3
   },
   "file_extension": ".py",
   "mimetype": "text/x-python",
   "name": "python",
   "nbconvert_exporter": "python",
   "pygments_lexer": "ipython3",
   "version": "3.9.18"
  },
  "orig_nbformat": 4
 },
 "nbformat": 4,
 "nbformat_minor": 2
}
