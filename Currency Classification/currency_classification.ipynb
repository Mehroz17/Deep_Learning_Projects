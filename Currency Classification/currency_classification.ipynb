{
 "cells": [
  {
   "cell_type": "markdown",
   "metadata": {},
   "source": [
    "<h1>Making an model to recongize the currency note of Pakistan</h1>\n"
   ]
  },
  {
   "cell_type": "code",
   "execution_count": 35,
   "metadata": {},
   "outputs": [],
   "source": [
    "# importing libraries\n",
    "import pandas as pd\n",
    "import os\n",
    "import numpy as np\n",
    "from keras.models import Sequential\n",
    "from keras.layers import Dense , Conv2D,MaxPooling2D,Flatten, Dropout\n",
    "from keras import optimizers\n",
    "from keras.preprocessing.image import ImageDataGenerator \n",
    "import matplotlib.pyplot as plt\n",
    "import shutil\n",
    "import cv2"
   ]
  },
  {
   "cell_type": "code",
   "execution_count": 2,
   "metadata": {},
   "outputs": [
    {
     "name": "stdout",
     "output_type": "stream",
     "text": [
      "Number of 500 note image 132\n",
      "Number of 1000 note image 100\n",
      "Number of 5000 note image 31\n"
     ]
    }
   ],
   "source": [
    "# checking the lenght of the images\n",
    "dir_500 = './Currency DataSet/500'\n",
    "dir_1000 = './Currency DataSet/1000'\n",
    "dir_5000 = './Currency DataSet/5000'\n",
    "print('Number of 500 note image',len(os.listdir(dir_500)))\n",
    "print('Number of 1000 note image',len(os.listdir(dir_1000)))\n",
    "print('Number of 5000 note image',len(os.listdir(dir_5000)))"
   ]
  },
  {
   "cell_type": "code",
   "execution_count": 3,
   "metadata": {},
   "outputs": [
    {
     "data": {
      "text/plain": [
       "'./Currency DataSet/1000'"
      ]
     },
     "execution_count": 3,
     "metadata": {},
     "output_type": "execute_result"
    }
   ],
   "source": [
    "dir_1000"
   ]
  },
  {
   "cell_type": "code",
   "execution_count": 4,
   "metadata": {},
   "outputs": [
    {
     "data": {
      "text/plain": [
       "(698, 1632, 3)"
      ]
     },
     "execution_count": 4,
     "metadata": {},
     "output_type": "execute_result"
    }
   ],
   "source": [
    "# lets check the image size\n",
    "image_shape = cv2.imread(\"./Currency DataSet/1000/IMG_20121203_173903.jpg\")\n",
    "image_shape.shape"
   ]
  },
  {
   "cell_type": "markdown",
   "metadata": {},
   "source": [
    "<h2>Spliting the test and validation images</h2>\n",
    "as we have 132 images of 500 note so 10% of 132 will be for validation and 10% for testing\n",
    "and same goes with others "
   ]
  },
  {
   "cell_type": "code",
   "execution_count": 5,
   "metadata": {},
   "outputs": [],
   "source": [
    "# making new folder for testing and validation\n",
    "test_folder = os.mkdir('Test-Data')\n",
    "test500 = os.mkdir('./Test-Data/500')\n",
    "test1000 = os.mkdir('./Test-Data/1000')\n",
    "test5000 = os.mkdir('./Test-Data/5000')"
   ]
  },
  {
   "cell_type": "code",
   "execution_count": 6,
   "metadata": {},
   "outputs": [],
   "source": [
    "validation_folder = os.mkdir('Val-Data')\n",
    "val500 = os.mkdir('./Val-Data/500')\n",
    "val1000 = os.mkdir('./Val-Data/1000')\n",
    "val5000 = os.mkdir('./Val-Data/5000')"
   ]
  },
  {
   "cell_type": "code",
   "execution_count": 7,
   "metadata": {},
   "outputs": [],
   "source": [
    "train_folder = os.mkdir('Train-Data')\n",
    "train500 = os.mkdir('./Train-Data/500')\n",
    "train1000 = os.mkdir('./Train-Data/1000')\n",
    "train5000 = os.mkdir('./Train-Data/5000')"
   ]
  },
  {
   "cell_type": "markdown",
   "metadata": {},
   "source": [
    "<h4>Now splitting the data from in folder "
   ]
  },
  {
   "cell_type": "markdown",
   "metadata": {},
   "source": [
    "<h3>Spliting the data into train data folders"
   ]
  },
  {
   "cell_type": "code",
   "execution_count": 8,
   "metadata": {},
   "outputs": [],
   "source": [
    "# function to split the images \n",
    "def split_images(source_dir, destination_dir, start_idx, end_idx):\n",
    "    all_images = os.listdir(source_dir)\n",
    "    selected_images = all_images[start_idx:end_idx]\n",
    "    for image in selected_images:\n",
    "        source = os.path.join(source_dir, image)\n",
    "        destination = os.path.join(destination_dir, image)\n",
    "        shutil.copy(source, destination)"
   ]
  },
  {
   "cell_type": "code",
   "execution_count": 21,
   "metadata": {},
   "outputs": [],
   "source": [
    "# spliting the images into train image\n",
    "split_images(dir_500, './Train-Data/500/', 0, 104)\n",
    "split_images(dir_1000, './Train-Data/1000/', 0, 80)\n",
    "split_images(dir_5000, './Train-Data/5000/', 0, 25)"
   ]
  },
  {
   "cell_type": "code",
   "execution_count": 10,
   "metadata": {},
   "outputs": [],
   "source": [
    "# spliting the images into train image\n",
    "split_images(dir_500, './Test-Data/500/', 104, 117)\n",
    "split_images(dir_1000, './Test-Data/1000/', 80, 90)\n",
    "split_images(dir_5000, './Test-Data/5000/', 25, 29)"
   ]
  },
  {
   "cell_type": "code",
   "execution_count": 11,
   "metadata": {},
   "outputs": [],
   "source": [
    "# spliting the images into validation image\n",
    "split_images(dir_500, './Val-Data/500/', 117, 138)\n",
    "split_images(dir_1000, './Val-Data/1000/', 90, 100)\n",
    "split_images(dir_5000, './Val-Data/5000/', 29, 31)"
   ]
  },
  {
   "cell_type": "code",
   "execution_count": 22,
   "metadata": {},
   "outputs": [
    {
     "name": "stdout",
     "output_type": "stream",
     "text": [
      "Number of 500 note image for training 104\n",
      "Number of 1000 note image for training  80\n",
      "Number of 5000 note image for training  25\n",
      "\n",
      "**********Testing********\n",
      "Number of 500 note image for testing 13\n",
      "Number of 1000 note image for testing  10\n",
      "Number of 5000 note image for testing  4\n",
      "\n",
      "**********Validation********\n",
      "Number of 500 note image for val 15\n",
      "Number of 1000 note image for val  10\n",
      "Number of 5000 note image for val  2\n"
     ]
    }
   ],
   "source": [
    "# Now data is split lets check the images\n",
    "\n",
    "print('Number of 500 note image for training',len(os.listdir('./Train-Data/500/')))\n",
    "print('Number of 1000 note image for training ',len(os.listdir('./Train-Data/1000/')))\n",
    "print('Number of 5000 note image for training ',len(os.listdir('./Train-Data/5000/')))\n",
    "\n",
    "print('\\n**********Testing********')\n",
    "print('Number of 500 note image for testing',len(os.listdir('./Test-Data/500/')))\n",
    "print('Number of 1000 note image for testing ',len(os.listdir('./Test-Data/1000/')))\n",
    "print('Number of 5000 note image for testing ',len(os.listdir('./Test-Data/5000/')))\n",
    "print('\\n**********Validation********')\n",
    "print('Number of 500 note image for val',len(os.listdir('./Val-Data/500/')))\n",
    "print('Number of 1000 note image for val ',len(os.listdir('./Val-Data/1000/')))\n",
    "print('Number of 5000 note image for val ',len(os.listdir('./Val-Data/5000/')))"
   ]
  },
  {
   "cell_type": "markdown",
   "metadata": {},
   "source": [
    "<h2>Pre-Processing and Augmenting the image using ImageDataGenerator"
   ]
  },
  {
   "cell_type": "code",
   "execution_count": 171,
   "metadata": {},
   "outputs": [],
   "source": [
    "# making the generators\n",
    "\n",
    "train_datagen= ImageDataGenerator(\n",
    "                    rescale=1./255,\n",
    "                    rotation_range = 40,\n",
    "                    width_shift_range =0.2,\n",
    "                    height_shift_range = 0.2,\n",
    "                    horizontal_flip = True)\n",
    "test_datagen= ImageDataGenerator(\n",
    "                    rescale=1./255,\n",
    "                    rotation_range = 40,\n",
    "                    width_shift_range =0.2,\n",
    "                    height_shift_range = 0.2,\n",
    "                    horizontal_flip = True)"
   ]
  },
  {
   "cell_type": "code",
   "execution_count": 172,
   "metadata": {},
   "outputs": [
    {
     "name": "stdout",
     "output_type": "stream",
     "text": [
      "Found 209 images belonging to 3 classes.\n"
     ]
    },
    {
     "name": "stdout",
     "output_type": "stream",
     "text": [
      "Found 27 images belonging to 3 classes.\n"
     ]
    }
   ],
   "source": [
    "train_dir = 'Train-Data'\n",
    "val_dir = \"Val-Data\"\n",
    "\n",
    "train_generator = train_datagen.flow_from_directory(\n",
    "    train_dir,\n",
    "    target_size=(200,200),\n",
    "    batch_size=20,\n",
    "    class_mode='categorical'\n",
    "    \n",
    ")\n",
    "\n",
    "val_genrator = test_datagen.flow_from_directory(\n",
    "    val_dir,\n",
    "    target_size=(200,200),\n",
    "    batch_size=2,\n",
    "    class_mode='categorical'\n",
    ")\n"
   ]
  },
  {
   "cell_type": "code",
   "execution_count": 173,
   "metadata": {},
   "outputs": [
    {
     "name": "stdout",
     "output_type": "stream",
     "text": [
      "Class indices for training generator:\n",
      "{'1000': 0, '500': 1, '5000': 2}\n",
      "Class indices for validation generator:\n",
      "{'1000': 0, '500': 1, '5000': 2}\n",
      "[0 0 0 0 0 0 0 0 0 0 1 1 1 1 1 1 1 1 1 1 1 1 1 1 1 2 2]\n"
     ]
    }
   ],
   "source": [
    "# After you have created your generators\n",
    "\n",
    "# For the training generator\n",
    "print(\"Class indices for training generator:\")\n",
    "print(train_generator.class_indices)\n",
    "\n",
    "# For the validation generator\n",
    "print(\"Class indices for validation generator:\")\n",
    "print(val_genrator.class_indices)\n",
    "print(val_genrator.classes)"
   ]
  },
  {
   "cell_type": "code",
   "execution_count": 174,
   "metadata": {},
   "outputs": [],
   "source": [
    "first_model = Sequential()\n",
    "first_model.add(Conv2D(32,(3,3),activation='relu',input_shape = (200,200,3)))\n",
    "first_model.add(MaxPooling2D((2,2)))\n",
    "first_model.add(Conv2D(64,(3,3),activation='relu'))\n",
    "first_model.add(MaxPooling2D((2,2)))\n",
    "first_model.add(Conv2D(128,(3,3),activation='relu'))\n",
    "first_model.add(Flatten())\n",
    "first_model.add(Dense(128,activation='relu'))\n",
    "\n",
    "first_model.add(Dense(64,activation='relu'))\n",
    "\n",
    "first_model.add(Dense(3,activation='softmax'))"
   ]
  },
  {
   "cell_type": "code",
   "execution_count": 175,
   "metadata": {},
   "outputs": [],
   "source": [
    "first_model.compile(loss='categorical_crossentropy',\n",
    "                    optimizer=optimizers.RMSprop(),metrics=['acc'])"
   ]
  },
  {
   "cell_type": "code",
   "execution_count": 176,
   "metadata": {},
   "outputs": [
    {
     "name": "stdout",
     "output_type": "stream",
     "text": [
      "Epoch 1/20\n",
      "10/10 [==============================] - 3s 249ms/step - loss: 5.3895 - acc: 0.3757 - val_loss: 0.8930 - val_acc: 0.9000\n",
      "Epoch 2/20\n",
      "10/10 [==============================] - 3s 280ms/step - loss: 0.9741 - acc: 0.5026 - val_loss: 0.8770 - val_acc: 0.6000\n",
      "Epoch 3/20\n",
      "10/10 [==============================] - 3s 266ms/step - loss: 1.2844 - acc: 0.4868 - val_loss: 0.6821 - val_acc: 0.7000\n",
      "Epoch 4/20\n",
      "10/10 [==============================] - 3s 254ms/step - loss: 1.0686 - acc: 0.5450 - val_loss: 0.6383 - val_acc: 0.8000\n",
      "Epoch 5/20\n",
      "10/10 [==============================] - 3s 262ms/step - loss: 0.8851 - acc: 0.6984 - val_loss: 0.5873 - val_acc: 0.6000\n",
      "Epoch 6/20\n",
      "10/10 [==============================] - 3s 281ms/step - loss: 0.9858 - acc: 0.6800 - val_loss: 0.7837 - val_acc: 0.7000\n",
      "Epoch 7/20\n",
      "10/10 [==============================] - 3s 247ms/step - loss: 0.5864 - acc: 0.7937 - val_loss: 1.4956 - val_acc: 0.5000\n",
      "Epoch 8/20\n",
      "10/10 [==============================] - 3s 262ms/step - loss: 0.4994 - acc: 0.8360 - val_loss: 0.0998 - val_acc: 0.9000\n",
      "Epoch 9/20\n",
      "10/10 [==============================] - 3s 262ms/step - loss: 0.3025 - acc: 0.8889 - val_loss: 0.0364 - val_acc: 1.0000\n",
      "Epoch 10/20\n",
      "10/10 [==============================] - 3s 261ms/step - loss: 0.0119 - acc: 1.0000 - val_loss: 0.0055 - val_acc: 1.0000\n",
      "Epoch 11/20\n",
      "10/10 [==============================] - 3s 267ms/step - loss: 2.3384 - acc: 0.8148 - val_loss: 0.3975 - val_acc: 0.9000\n",
      "Epoch 12/20\n",
      "10/10 [==============================] - 3s 269ms/step - loss: 0.2103 - acc: 0.9312 - val_loss: 0.0920 - val_acc: 1.0000\n",
      "Epoch 13/20\n",
      "10/10 [==============================] - 3s 281ms/step - loss: 0.2167 - acc: 0.9312 - val_loss: 0.3709 - val_acc: 0.9000\n",
      "Epoch 14/20\n",
      "10/10 [==============================] - 3s 261ms/step - loss: 0.6941 - acc: 0.7831 - val_loss: 0.3010 - val_acc: 0.9000\n",
      "Epoch 15/20\n",
      "10/10 [==============================] - 3s 259ms/step - loss: 0.1072 - acc: 0.9524 - val_loss: 0.0050 - val_acc: 1.0000\n",
      "Epoch 16/20\n",
      "10/10 [==============================] - 3s 283ms/step - loss: 0.2378 - acc: 0.9471 - val_loss: 0.0088 - val_acc: 1.0000\n",
      "Epoch 17/20\n",
      "10/10 [==============================] - 3s 259ms/step - loss: 0.9709 - acc: 0.9153 - val_loss: 1.3641 - val_acc: 0.1000\n",
      "Epoch 18/20\n",
      "10/10 [==============================] - 3s 260ms/step - loss: 0.2643 - acc: 0.8730 - val_loss: 0.0226 - val_acc: 1.0000\n",
      "Epoch 19/20\n",
      "10/10 [==============================] - 3s 259ms/step - loss: 0.0295 - acc: 0.9947 - val_loss: 0.0104 - val_acc: 1.0000\n",
      "Epoch 20/20\n",
      "10/10 [==============================] - 3s 265ms/step - loss: 0.0656 - acc: 0.9630 - val_loss: 0.9429 - val_acc: 0.5000\n"
     ]
    }
   ],
   "source": [
    "\n",
    "# Fit the model using the generators\n",
    "history = first_model.fit(\n",
    "    train_generator,\n",
    "    epochs=20,\n",
    "    steps_per_epoch=10,\n",
    "    validation_data=val_genrator,\n",
    "    validation_steps=5\n",
    ")\n"
   ]
  },
  {
   "cell_type": "code",
   "execution_count": 177,
   "metadata": {},
   "outputs": [
    {
     "data": {
      "text/plain": [
       "<Figure size 640x480 with 0 Axes>"
      ]
     },
     "execution_count": 177,
     "metadata": {},
     "output_type": "execute_result"
    },
    {
     "data": {
      "image/png": "[encoded data removed]",
      "text/plain": [
       "<Figure size 640x480 with 1 Axes>"
      ]
     },
     "metadata": {},
     "output_type": "display_data"
    },
    {
     "data": {
      "image/png": "[encoded data removed]",
      "text/plain": [
       "<Figure size 640x480 with 1 Axes>"
      ]
     },
     "metadata": {},
     "output_type": "display_data"
    },
    {
     "data": {
      "text/plain": [
       "<Figure size 640x480 with 0 Axes>"
      ]
     },
     "metadata": {},
     "output_type": "display_data"
    }
   ],
   "source": [
    "hi = history.history\n",
    "acc = hi['acc']\n",
    "val_acc = hi['val_acc']\n",
    "loss = hi['loss']\n",
    "val_loss = hi['val_loss']\n",
    "epochs = range(1,len(acc)+1)\n",
    "plt.plot(epochs,acc,'bo',label = 'Training Acc')\n",
    "plt.plot(epochs,val_acc,'b',label = 'Validation Acc')\n",
    "plt.legend()\n",
    "plt.figure()\n",
    "\n",
    "\n",
    "plt.plot(epochs,loss,'bo',label = 'Training Loss')\n",
    "plt.plot(epochs,val_loss,'b',label = 'Validation Loss')\n",
    "plt.legend()\n",
    "plt.figure()\n"
   ]
  },
  {
   "cell_type": "markdown",
   "metadata": {},
   "source": [
    "<h1>Using Vgg16 as pretrained model"
   ]
  },
  {
   "cell_type": "code",
   "execution_count": 194,
   "metadata": {},
   "outputs": [],
   "source": [
    "from keras.applications import VGG16"
   ]
  },
  {
   "cell_type": "code",
   "execution_count": 195,
   "metadata": {},
   "outputs": [],
   "source": [
    "conv_base  = VGG16(weights='imagenet',\n",
    "                   include_top = False,\n",
    "                   input_shape = (200,200,3))"
   ]
  },
  {
   "cell_type": "code",
   "execution_count": 196,
   "metadata": {},
   "outputs": [
    {
     "name": "stdout",
     "output_type": "stream",
     "text": [
      "This is the Summary of the conv base it self\n",
      "Model: \"vgg16\"\n",
      "_________________________________________________________________\n",
      " Layer (type)                Output Shape              Param #   \n",
      "=================================================================\n",
      " input_4 (InputLayer)        [(None, 200, 200, 3)]     0         \n",
      "                                                                 \n",
      " block1_conv1 (Conv2D)       (None, 200, 200, 64)      1792      \n",
      "                                                                 \n",
      " block1_conv2 (Conv2D)       (None, 200, 200, 64)      36928     \n",
      "                                                                 \n",
      " block1_pool (MaxPooling2D)  (None, 100, 100, 64)      0         \n",
      "                                                                 \n",
      " block2_conv1 (Conv2D)       (None, 100, 100, 128)     73856     \n",
      "                                                                 \n",
      " block2_conv2 (Conv2D)       (None, 100, 100, 128)     147584    \n",
      "                                                                 \n",
      " block2_pool (MaxPooling2D)  (None, 50, 50, 128)       0         \n",
      "                                                                 \n",
      " block3_conv1 (Conv2D)       (None, 50, 50, 256)       295168    \n",
      "                                                                 \n",
      " block3_conv2 (Conv2D)       (None, 50, 50, 256)       590080    \n",
      "                                                                 \n",
      " block3_conv3 (Conv2D)       (None, 50, 50, 256)       590080    \n",
      "                                                                 \n",
      " block3_pool (MaxPooling2D)  (None, 25, 25, 256)       0         \n",
      "                                                                 \n",
      " block4_conv1 (Conv2D)       (None, 25, 25, 512)       1180160   \n",
      "                                                                 \n",
      " block4_conv2 (Conv2D)       (None, 25, 25, 512)       2359808   \n",
      "                                                                 \n",
      " block4_conv3 (Conv2D)       (None, 25, 25, 512)       2359808   \n",
      "                                                                 \n",
      " block4_pool (MaxPooling2D)  (None, 12, 12, 512)       0         \n",
      "                                                                 \n",
      " block5_conv1 (Conv2D)       (None, 12, 12, 512)       2359808   \n",
      "                                                                 \n",
      " block5_conv2 (Conv2D)       (None, 12, 12, 512)       2359808   \n",
      "                                                                 \n",
      " block5_conv3 (Conv2D)       (None, 12, 12, 512)       2359808   \n",
      "                                                                 \n",
      " block5_pool (MaxPooling2D)  (None, 6, 6, 512)         0         \n",
      "                                                                 \n",
      "=================================================================\n",
      "Total params: 14,714,688\n",
      "Trainable params: 14,714,688\n",
      "Non-trainable params: 0\n",
      "_________________________________________________________________\n"
     ]
    }
   ],
   "source": [
    "print(\"This is the Summary of the conv base it self\")\n",
    "conv_base.summary()"
   ]
  },
  {
   "cell_type": "code",
   "execution_count": 197,
   "metadata": {},
   "outputs": [],
   "source": [
    "# un - freezing the block5_conv1 for fine tunning \n",
    "conv_base.trainable = True\n",
    "\n",
    "for layer in conv_base.layers:\n",
    "    if (layer.name == 'block5_conv1'):\n",
    "        layer.trainable = True\n",
    "    else:\n",
    "        layer.trainable = False"
   ]
  },
  {
   "cell_type": "code",
   "execution_count": 198,
   "metadata": {},
   "outputs": [],
   "source": [
    "# model 2\n",
    "second_model = Sequential()\n",
    "second_model.add(conv_base)\n",
    "second_model.add(Flatten())\n",
    "second_model.add(Dense(512,activation = 'relu'))\n",
    "second_model.add(Dropout(0.3))\n",
    "second_model.add(Dense(256,activation = 'relu'))\n",
    "second_model.add(Dropout(0.3))\n",
    "second_model.add(Dense(3,activation = 'softmax'))"
   ]
  },
  {
   "cell_type": "code",
   "execution_count": 199,
   "metadata": {},
   "outputs": [],
   "source": [
    "# now training the model with fine tunning\n",
    "second_model.compile(loss = 'binary_crossentropy',\n",
    "                     optimizer =optimizers.RMSprop(learning_rate=1e-5),\n",
    "                     metrics = ['acc'])"
   ]
  },
  {
   "cell_type": "code",
   "execution_count": 200,
   "metadata": {},
   "outputs": [
    {
     "name": "stdout",
     "output_type": "stream",
     "text": [
      "Epoch 1/8\n",
      "10/10 [==============================] - 4s 281ms/step - loss: 0.6623 - acc: 0.4233 - val_loss: 0.5091 - val_acc: 0.6000\n",
      "Epoch 2/8\n",
      "10/10 [==============================] - 3s 278ms/step - loss: 0.5662 - acc: 0.5661 - val_loss: 0.4820 - val_acc: 0.7500\n",
      "Epoch 3/8\n",
      "10/10 [==============================] - 3s 279ms/step - loss: 0.5686 - acc: 0.5661 - val_loss: 0.4321 - val_acc: 0.7000\n",
      "Epoch 4/8\n",
      "10/10 [==============================] - 3s 282ms/step - loss: 0.5175 - acc: 0.7143 - val_loss: 0.4283 - val_acc: 0.7000\n",
      "Epoch 5/8\n",
      "10/10 [==============================] - 3s 296ms/step - loss: 0.4711 - acc: 0.7250 - val_loss: 0.3570 - val_acc: 0.8000\n",
      "Epoch 6/8\n",
      "10/10 [==============================] - 3s 279ms/step - loss: 0.4352 - acc: 0.7354 - val_loss: 0.3534 - val_acc: 0.9000\n",
      "Epoch 7/8\n",
      "10/10 [==============================] - 3s 298ms/step - loss: 0.3878 - acc: 0.7884 - val_loss: 0.2753 - val_acc: 0.9000\n",
      "Epoch 8/8\n",
      "10/10 [==============================] - 3s 276ms/step - loss: 0.3615 - acc: 0.8360 - val_loss: 0.2366 - val_acc: 0.9000\n"
     ]
    }
   ],
   "source": [
    "history2 = second_model.fit(train_generator,\n",
    "                 steps_per_epoch=10,\n",
    "                 epochs=8,\n",
    "                 validation_data = val_genrator,\n",
    "                 validation_steps=10)"
   ]
  },
  {
   "cell_type": "code",
   "execution_count": 201,
   "metadata": {},
   "outputs": [
    {
     "data": {
      "text/plain": [
       "<Figure size 640x480 with 0 Axes>"
      ]
     },
     "execution_count": 201,
     "metadata": {},
     "output_type": "execute_result"
    },
    {
     "data": {
      "image/png": "[encoded data removed]",
      "text/plain": [
       "<Figure size 640x480 with 1 Axes>"
      ]
     },
     "metadata": {},
     "output_type": "display_data"
    },
    {
     "data": {
      "image/png": "[encoded data removed]",
      "text/plain": [
       "<Figure size 640x480 with 1 Axes>"
      ]
     },
     "metadata": {},
     "output_type": "display_data"
    },
    {
     "data": {
      "text/plain": [
       "<Figure size 640x480 with 0 Axes>"
      ]
     },
     "metadata": {},
     "output_type": "display_data"
    }
   ],
   "source": [
    "hi = history2.history\n",
    "acc = hi['acc']\n",
    "val_acc = hi['val_acc']\n",
    "loss = hi['loss']\n",
    "val_loss = hi['val_loss']\n",
    "epochs = range(1,len(acc)+1)\n",
    "plt.plot(epochs,acc,'bo',label = 'Training Acc')\n",
    "plt.plot(epochs,val_acc,'b',label = 'Validation Acc')\n",
    "plt.legend()\n",
    "plt.figure()\n",
    "\n",
    "\n",
    "plt.plot(epochs,loss,'bo',label = 'Training Loss')\n",
    "plt.plot(epochs,val_loss,'b',label = 'Validation Loss')\n",
    "plt.legend()\n",
    "plt.figure()\n"
   ]
  },
  {
   "cell_type": "code",
   "execution_count": 202,
   "metadata": {},
   "outputs": [],
   "source": [
    "from PIL import Image\n",
    "import gradio as gr\n",
    "import seaborn as sns\n",
    "\n",
    "from tensorflow.keras.preprocessing import image "
   ]
  },
  {
   "cell_type": "code",
   "execution_count": 203,
   "metadata": {},
   "outputs": [],
   "source": [
    "\n",
    "def custom_Image_preprocessing(image_data, target_size=(200, 200)):\n",
    "    img = image.array_to_img(image_data, data_format='channels_last')\n",
    "    img = img.resize(target_size)  # Resize the image if needed\n",
    "    img_arr = image.img_to_array(img)\n",
    "    img_arr = img_arr * 1./255\n",
    "    img_arr = np.expand_dims(img_arr, axis=0)\n",
    "    return img_arr\n"
   ]
  },
  {
   "cell_type": "code",
   "execution_count": 212,
   "metadata": {},
   "outputs": [],
   "source": [
    "# function to predict the custome image\n",
    "\n",
    "def image_predict(image_path):\n",
    "    \n",
    "    image_preprocess = custom_Image_preprocessing(image_path)\n",
    "    result = second_model.predict(image_preprocess)\n",
    "    print(result)\n",
    "    max_index = np.argmax(result)\n",
    "    if(max_index == 0):\n",
    "        return('This is 1000 Rs Note')\n",
    "    elif(max_index == 1):\n",
    "        return(\"This is 500 Rs Note\")\n",
    "    else:\n",
    "        return(\"This is 5000 Rs Note\")\n",
    "    print(max_index)"
   ]
  },
  {
   "cell_type": "code",
   "execution_count": 222,
   "metadata": {},
   "outputs": [
    {
     "name": "stdout",
     "output_type": "stream",
     "text": [
      "Running on local URL:  http://127.0.0.1:7874\n",
      "Running on public URL: https://4cc348991e59cffe8c.gradio.live\n",
      "\n",
      "This share link expires in 72 hours. For free permanent hosting and GPU upgrades, run `gradio deploy` from Terminal to deploy to Spaces (https://huggingface.co/spaces)\n"
     ]
    },
    {
     "data": {
      "text/html": [
       "<div><iframe src=\"https://4cc348991e59cffe8c.gradio.live\" width=\"100%\" height=\"500\" allow=\"autoplay; camera; microphone; clipboard-read; clipboard-write;\" frameborder=\"0\" allowfullscreen></iframe></div>"
      ],
      "text/plain": [
       "<IPython.core.display.HTML object>"
      ]
     },
     "metadata": {},
     "output_type": "display_data"
    },
    {
     "data": {
      "text/plain": []
     },
     "execution_count": 222,
     "metadata": {},
     "output_type": "execute_result"
    }
   ],
   "source": [
    "input_component =  gr.components.Image(label = \"Reupee\")\n",
    "output_component = gr.components.Textbox(label = \"Prediction\")\n",
    "interface = gr.Interface(fn=image_predict, \n",
    "                         inputs=input_component, \n",
    "                         outputs=output_component,title = \"Note Classification\",\n",
    "                         description=\"Pakistan reupee note classification between 500 , 1000 and 5000\")\n",
    "interface.launch(share=True)\n"
   ]
  }
 ],
 "metadata": {
  "kernelspec": {
   "display_name": "tf2",
   "language": "python",
   "name": "python3"
  },
  "language_info": {
   "codemirror_mode": {
    "name": "ipython",
    "version": 3
   },
   "file_extension": ".py",
   "mimetype": "text/x-python",
   "name": "python",
   "nbconvert_exporter": "python",
   "pygments_lexer": "ipython3",
   "version": "3.9.18"
  }
 },
 "nbformat": 4,
 "nbformat_minor": 2
}
